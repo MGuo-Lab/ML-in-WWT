{
 "cells": [
  {
   "cell_type": "markdown",
   "id": "467782f1",
   "metadata": {},
   "source": [
    "参考链接：https://scikit-learn.org/stable/modules/generated/sklearn.ensemble.RandomForestRegressor.html"
   ]
  },
  {
   "cell_type": "markdown",
   "id": "f6e77a5b",
   "metadata": {},
   "source": [
    "A random forest regressor.\n",
    "\n",
    "A random forest is a meta estimator that fits a number of classifying decision trees on various sub-samples of the dataset and uses averaging to improve the predictive accuracy and control over-fitting. The sub-sample size is controlled with the max_samples parameter if bootstrap=True (default), otherwise the whole dataset is used to build each tree."
   ]
  },
  {
   "cell_type": "markdown",
   "id": "6a27eba1",
   "metadata": {},
   "source": [
    "**导入基础包**"
   ]
  },
  {
   "cell_type": "code",
   "execution_count": 1,
   "id": "4a9e3702",
   "metadata": {},
   "outputs": [],
   "source": [
    "#packages\n",
    "import pandas as pd\n",
    "import numpy as np\n",
    "\n",
    "from pylab import plt\n",
    "plt.style.use('seaborn')\n",
    "%matplotlib inline\n",
    "\n",
    "# Ignore warnings\n",
    "import warnings\n",
    "warnings.filterwarnings('ignore')"
   ]
  },
  {
   "cell_type": "markdown",
   "id": "698ddc82",
   "metadata": {},
   "source": [
    "**读取数据**"
   ]
  },
  {
   "cell_type": "code",
   "execution_count": 2,
   "id": "4379ceaa",
   "metadata": {},
   "outputs": [],
   "source": [
    "df = pd.read_csv('data_features_Class.csv') "
   ]
  },
  {
   "cell_type": "code",
   "execution_count": 3,
   "id": "4f204942",
   "metadata": {},
   "outputs": [
    {
     "data": {
      "text/html": [
       "<div>\n",
       "<style scoped>\n",
       "    .dataframe tbody tr th:only-of-type {\n",
       "        vertical-align: middle;\n",
       "    }\n",
       "\n",
       "    .dataframe tbody tr th {\n",
       "        vertical-align: top;\n",
       "    }\n",
       "\n",
       "    .dataframe thead th {\n",
       "        text-align: right;\n",
       "    }\n",
       "</style>\n",
       "<table border=\"1\" class=\"dataframe\">\n",
       "  <thead>\n",
       "    <tr style=\"text-align: right;\">\n",
       "      <th></th>\n",
       "      <th>Unnamed: 0</th>\n",
       "      <th>Sample ID</th>\n",
       "      <th>Sampling month average</th>\n",
       "      <th>Sampling month</th>\n",
       "      <th>SRTd</th>\n",
       "      <th>COD</th>\n",
       "      <th>NH4N</th>\n",
       "      <th>TP</th>\n",
       "      <th>Gammaproteobacteria</th>\n",
       "      <th>Bacteroidia</th>\n",
       "      <th>...</th>\n",
       "      <th>Vampirivibrionia</th>\n",
       "      <th>Desulfovibrionia</th>\n",
       "      <th>Negativicutes</th>\n",
       "      <th>Holophagae</th>\n",
       "      <th>Leptospirae</th>\n",
       "      <th>metagenome</th>\n",
       "      <th>Kapabacteria</th>\n",
       "      <th>Lineage IIb</th>\n",
       "      <th>Desulfobacteria</th>\n",
       "      <th>Hydrogenedentia</th>\n",
       "    </tr>\n",
       "  </thead>\n",
       "  <tbody>\n",
       "    <tr>\n",
       "      <th>0</th>\n",
       "      <td>0</td>\n",
       "      <td>SAKR1</td>\n",
       "      <td>18.0</td>\n",
       "      <td>55.0</td>\n",
       "      <td>12.0</td>\n",
       "      <td>771.97</td>\n",
       "      <td>61.4</td>\n",
       "      <td>7.2</td>\n",
       "      <td>35.535156</td>\n",
       "      <td>22.441406</td>\n",
       "      <td>...</td>\n",
       "      <td>0.054688</td>\n",
       "      <td>0.082031</td>\n",
       "      <td>0.027344</td>\n",
       "      <td>0.058594</td>\n",
       "      <td>0.144531</td>\n",
       "      <td>0.757812</td>\n",
       "      <td>0.058594</td>\n",
       "      <td>0.257812</td>\n",
       "      <td>0.003906</td>\n",
       "      <td>0.101562</td>\n",
       "    </tr>\n",
       "    <tr>\n",
       "      <th>1</th>\n",
       "      <td>1</td>\n",
       "      <td>SAKR2</td>\n",
       "      <td>18.0</td>\n",
       "      <td>55.0</td>\n",
       "      <td>12.0</td>\n",
       "      <td>771.97</td>\n",
       "      <td>61.4</td>\n",
       "      <td>7.2</td>\n",
       "      <td>32.203125</td>\n",
       "      <td>23.753906</td>\n",
       "      <td>...</td>\n",
       "      <td>0.035156</td>\n",
       "      <td>0.101562</td>\n",
       "      <td>0.023438</td>\n",
       "      <td>0.105469</td>\n",
       "      <td>0.160156</td>\n",
       "      <td>0.941406</td>\n",
       "      <td>0.066406</td>\n",
       "      <td>0.214844</td>\n",
       "      <td>0.003906</td>\n",
       "      <td>0.085938</td>\n",
       "    </tr>\n",
       "    <tr>\n",
       "      <th>2</th>\n",
       "      <td>2</td>\n",
       "      <td>SAKR3</td>\n",
       "      <td>18.0</td>\n",
       "      <td>55.0</td>\n",
       "      <td>12.0</td>\n",
       "      <td>771.97</td>\n",
       "      <td>61.4</td>\n",
       "      <td>7.2</td>\n",
       "      <td>31.246094</td>\n",
       "      <td>24.363281</td>\n",
       "      <td>...</td>\n",
       "      <td>0.035156</td>\n",
       "      <td>0.054688</td>\n",
       "      <td>0.046875</td>\n",
       "      <td>0.054688</td>\n",
       "      <td>0.167969</td>\n",
       "      <td>0.917969</td>\n",
       "      <td>0.042969</td>\n",
       "      <td>0.246094</td>\n",
       "      <td>0.000000</td>\n",
       "      <td>0.101562</td>\n",
       "    </tr>\n",
       "    <tr>\n",
       "      <th>3</th>\n",
       "      <td>3</td>\n",
       "      <td>SAKR4</td>\n",
       "      <td>18.0</td>\n",
       "      <td>55.0</td>\n",
       "      <td>12.0</td>\n",
       "      <td>771.97</td>\n",
       "      <td>61.4</td>\n",
       "      <td>7.2</td>\n",
       "      <td>34.714844</td>\n",
       "      <td>23.082031</td>\n",
       "      <td>...</td>\n",
       "      <td>0.042969</td>\n",
       "      <td>0.062500</td>\n",
       "      <td>0.066406</td>\n",
       "      <td>0.078125</td>\n",
       "      <td>0.171875</td>\n",
       "      <td>0.812500</td>\n",
       "      <td>0.078125</td>\n",
       "      <td>0.222656</td>\n",
       "      <td>0.015625</td>\n",
       "      <td>0.101562</td>\n",
       "    </tr>\n",
       "    <tr>\n",
       "      <th>4</th>\n",
       "      <td>4</td>\n",
       "      <td>SAKR5</td>\n",
       "      <td>18.0</td>\n",
       "      <td>55.0</td>\n",
       "      <td>12.0</td>\n",
       "      <td>771.97</td>\n",
       "      <td>61.4</td>\n",
       "      <td>7.2</td>\n",
       "      <td>30.414062</td>\n",
       "      <td>24.949219</td>\n",
       "      <td>...</td>\n",
       "      <td>0.039062</td>\n",
       "      <td>0.054688</td>\n",
       "      <td>0.035156</td>\n",
       "      <td>0.058594</td>\n",
       "      <td>0.226562</td>\n",
       "      <td>0.902344</td>\n",
       "      <td>0.070312</td>\n",
       "      <td>0.265625</td>\n",
       "      <td>0.000000</td>\n",
       "      <td>0.121094</td>\n",
       "    </tr>\n",
       "  </tbody>\n",
       "</table>\n",
       "<p>5 rows × 59 columns</p>\n",
       "</div>"
      ],
      "text/plain": [
       "   Unnamed: 0 Sample ID  Sampling month average  Sampling month  SRTd     COD  \\\n",
       "0           0     SAKR1                    18.0            55.0  12.0  771.97   \n",
       "1           1     SAKR2                    18.0            55.0  12.0  771.97   \n",
       "2           2     SAKR3                    18.0            55.0  12.0  771.97   \n",
       "3           3     SAKR4                    18.0            55.0  12.0  771.97   \n",
       "4           4     SAKR5                    18.0            55.0  12.0  771.97   \n",
       "\n",
       "   NH4N   TP  Gammaproteobacteria  Bacteroidia  ...  Vampirivibrionia  \\\n",
       "0  61.4  7.2            35.535156    22.441406  ...          0.054688   \n",
       "1  61.4  7.2            32.203125    23.753906  ...          0.035156   \n",
       "2  61.4  7.2            31.246094    24.363281  ...          0.035156   \n",
       "3  61.4  7.2            34.714844    23.082031  ...          0.042969   \n",
       "4  61.4  7.2            30.414062    24.949219  ...          0.039062   \n",
       "\n",
       "   Desulfovibrionia  Negativicutes  Holophagae  Leptospirae  metagenome  \\\n",
       "0          0.082031       0.027344    0.058594     0.144531    0.757812   \n",
       "1          0.101562       0.023438    0.105469     0.160156    0.941406   \n",
       "2          0.054688       0.046875    0.054688     0.167969    0.917969   \n",
       "3          0.062500       0.066406    0.078125     0.171875    0.812500   \n",
       "4          0.054688       0.035156    0.058594     0.226562    0.902344   \n",
       "\n",
       "   Kapabacteria  Lineage IIb  Desulfobacteria  Hydrogenedentia  \n",
       "0      0.058594     0.257812         0.003906         0.101562  \n",
       "1      0.066406     0.214844         0.003906         0.085938  \n",
       "2      0.042969     0.246094         0.000000         0.101562  \n",
       "3      0.078125     0.222656         0.015625         0.101562  \n",
       "4      0.070312     0.265625         0.000000         0.121094  \n",
       "\n",
       "[5 rows x 59 columns]"
      ]
     },
     "execution_count": 3,
     "metadata": {},
     "output_type": "execute_result"
    }
   ],
   "source": [
    "df.head()"
   ]
  },
  {
   "cell_type": "code",
   "execution_count": 4,
   "id": "7b3eb192",
   "metadata": {},
   "outputs": [
    {
     "data": {
      "text/plain": [
       "(1186, 59)"
      ]
     },
     "execution_count": 4,
     "metadata": {},
     "output_type": "execute_result"
    }
   ],
   "source": [
    "df.shape"
   ]
  },
  {
   "cell_type": "code",
   "execution_count": 5,
   "id": "d7add247",
   "metadata": {},
   "outputs": [
    {
     "data": {
      "text/plain": [
       "Index(['Unnamed: 0', 'Sample ID', 'Sampling month average', 'Sampling month',\n",
       "       'SRTd', 'COD', 'NH4N', 'TP', 'Gammaproteobacteria', 'Bacteroidia',\n",
       "       'Unclassified', 'Alphaproteobacteria', 'Others', 'Clostridia',\n",
       "       'Anaerolineae', 'Parcubacteria', 'Polyangia', 'Planctomycetes',\n",
       "       'Verrucomicrobiae', 'Bdellovibrionia', 'Chlamydiae', 'Oligoflexia',\n",
       "       'Phycisphaerae', 'Gracilibacteria', 'Actinobacteria', 'Bacilli',\n",
       "       'Microgenomatia', 'Babeliae', 'ABY1', 'Saccharimonadia',\n",
       "       'Acidimicrobiia', 'Omnitrophia', 'Cyanobacteriia', 'Acidobacteriae',\n",
       "       'Myxococcia', 'Nanoarchaeia', 'Thermoleophilia', 'Blastocatellia',\n",
       "       'OM190', 'Spirochaetia', 'Nitrospiria', 'Chloroflexia',\n",
       "       'Kiritimatiellae', 'Ignavibacteria', 'Desulfuromonadia',\n",
       "       'Campylobacteria', 'Gemmatimonadetes', 'Vicinamibacteria',\n",
       "       'Fimbriimonadia', 'Vampirivibrionia', 'Desulfovibrionia',\n",
       "       'Negativicutes', 'Holophagae', 'Leptospirae', 'metagenome',\n",
       "       'Kapabacteria', 'Lineage IIb', 'Desulfobacteria', 'Hydrogenedentia'],\n",
       "      dtype='object')"
      ]
     },
     "execution_count": 5,
     "metadata": {},
     "output_type": "execute_result"
    }
   ],
   "source": [
    "df.columns"
   ]
  },
  {
   "cell_type": "code",
   "execution_count": 7,
   "id": "8897fab3",
   "metadata": {},
   "outputs": [],
   "source": [
    "features = ['Sampling month average', 'Sampling month','SRTd', 'COD', 'NH4N', 'TP']\n",
    "targets = ['Gammaproteobacteria', 'Bacteroidia',\n",
    "       'Unclassified', 'Alphaproteobacteria', 'Others', 'Clostridia',\n",
    "       'Anaerolineae', 'Parcubacteria', 'Polyangia', 'Planctomycetes',\n",
    "       'Verrucomicrobiae', 'Bdellovibrionia', 'Chlamydiae', 'Oligoflexia',\n",
    "       'Phycisphaerae', 'Gracilibacteria', 'Actinobacteria', 'Bacilli',\n",
    "       'Microgenomatia', 'Babeliae', 'ABY1', 'Saccharimonadia',\n",
    "       'Acidimicrobiia', 'Omnitrophia', 'Cyanobacteriia', 'Acidobacteriae',\n",
    "       'Myxococcia', 'Nanoarchaeia', 'Thermoleophilia', 'Blastocatellia',\n",
    "       'OM190', 'Spirochaetia', 'Nitrospiria', 'Chloroflexia',\n",
    "       'Kiritimatiellae', 'Ignavibacteria', 'Desulfuromonadia',\n",
    "       'Campylobacteria', 'Gemmatimonadetes', 'Vicinamibacteria',\n",
    "       'Fimbriimonadia', 'Vampirivibrionia', 'Desulfovibrionia',\n",
    "       'Negativicutes', 'Holophagae', 'Leptospirae', 'metagenome',\n",
    "       'Kapabacteria', 'Lineage IIb', 'Desulfobacteria', 'Hydrogenedentia']"
   ]
  },
  {
   "cell_type": "markdown",
   "id": "ce86763e",
   "metadata": {},
   "source": [
    "**简单的EDA**"
   ]
  },
  {
   "cell_type": "code",
   "execution_count": 8,
   "id": "973a96e6",
   "metadata": {},
   "outputs": [
    {
     "data": {
      "text/plain": [
       "Unnamed: 0                  0\n",
       "Sample ID                   0\n",
       "Sampling month average    132\n",
       "Sampling month             23\n",
       "SRTd                      342\n",
       "COD                       577\n",
       "NH4N                      430\n",
       "TP                        583\n",
       "Gammaproteobacteria         0\n",
       "Bacteroidia                 0\n",
       "Unclassified                0\n",
       "Alphaproteobacteria         0\n",
       "Others                      0\n",
       "Clostridia                  0\n",
       "Anaerolineae                0\n",
       "Parcubacteria               0\n",
       "Polyangia                   0\n",
       "Planctomycetes              0\n",
       "Verrucomicrobiae            0\n",
       "Bdellovibrionia             0\n",
       "Chlamydiae                  0\n",
       "Oligoflexia                 0\n",
       "Phycisphaerae               0\n",
       "Gracilibacteria             0\n",
       "Actinobacteria              0\n",
       "Bacilli                     0\n",
       "Microgenomatia              0\n",
       "Babeliae                    0\n",
       "ABY1                        0\n",
       "Saccharimonadia             0\n",
       "Acidimicrobiia              0\n",
       "Omnitrophia                 0\n",
       "Cyanobacteriia              0\n",
       "Acidobacteriae              0\n",
       "Myxococcia                  0\n",
       "Nanoarchaeia                0\n",
       "Thermoleophilia             0\n",
       "Blastocatellia              0\n",
       "OM190                       0\n",
       "Spirochaetia                0\n",
       "Nitrospiria                 0\n",
       "Chloroflexia                0\n",
       "Kiritimatiellae             0\n",
       "Ignavibacteria              0\n",
       "Desulfuromonadia            0\n",
       "Campylobacteria             0\n",
       "Gemmatimonadetes            0\n",
       "Vicinamibacteria            0\n",
       "Fimbriimonadia              0\n",
       "Vampirivibrionia            0\n",
       "Desulfovibrionia            0\n",
       "Negativicutes               0\n",
       "Holophagae                  0\n",
       "Leptospirae                 0\n",
       "metagenome                  0\n",
       "Kapabacteria                0\n",
       "Lineage IIb                 0\n",
       "Desulfobacteria             0\n",
       "Hydrogenedentia             0\n",
       "dtype: int64"
      ]
     },
     "execution_count": 8,
     "metadata": {},
     "output_type": "execute_result"
    }
   ],
   "source": [
    "df.isnull().sum()"
   ]
  },
  {
   "cell_type": "markdown",
   "id": "30d5f284",
   "metadata": {},
   "source": [
    "我们看到预测目标里面没有NA， 不过features里面有NA. "
   ]
  },
  {
   "cell_type": "markdown",
   "id": "df8d9eec",
   "metadata": {},
   "source": [
    "部分features的空值较多，还不能直接drop. "
   ]
  },
  {
   "cell_type": "markdown",
   "id": "d2d35d9c",
   "metadata": {},
   "source": [
    "考虑给空值部分填充均值。"
   ]
  },
  {
   "cell_type": "markdown",
   "id": "ada95988",
   "metadata": {},
   "source": [
    "分拆数据"
   ]
  },
  {
   "cell_type": "code",
   "execution_count": 9,
   "id": "a5f1646d",
   "metadata": {},
   "outputs": [],
   "source": [
    "from sklearn.model_selection import train_test_split"
   ]
  },
  {
   "cell_type": "code",
   "execution_count": 10,
   "id": "ec341593",
   "metadata": {},
   "outputs": [
    {
     "name": "stdout",
     "output_type": "stream",
     "text": [
      "Train and Test Size 948, 238\n"
     ]
    }
   ],
   "source": [
    "# Splitting the datasets into training and testing data.\n",
    "train_data, test_data = train_test_split(df, train_size=0.8, test_size=0.2, shuffle=False)\n",
    "\n",
    "# Output the train and test data size\n",
    "print(f\"Train and Test Size {len(train_data)}, {len(test_data)}\")"
   ]
  },
  {
   "cell_type": "markdown",
   "id": "bcc8f016",
   "metadata": {},
   "source": [
    "在train data 部分曲均值"
   ]
  },
  {
   "cell_type": "code",
   "execution_count": 11,
   "id": "aa73a73c",
   "metadata": {},
   "outputs": [
    {
     "data": {
      "text/plain": [
       "Sampling month average     23.154379\n",
       "Sampling month            115.381081\n",
       "SRTd                       15.258321\n",
       "COD                       430.108594\n",
       "NH4N                       26.645109\n",
       "TP                          6.274391\n",
       "dtype: float64"
      ]
     },
     "execution_count": 11,
     "metadata": {},
     "output_type": "execute_result"
    }
   ],
   "source": [
    "train_data[features].mean()"
   ]
  },
  {
   "cell_type": "markdown",
   "id": "fb7cc78f",
   "metadata": {},
   "source": [
    "用这部均值填充NA数据"
   ]
  },
  {
   "cell_type": "code",
   "execution_count": 12,
   "id": "28e71bd6",
   "metadata": {},
   "outputs": [],
   "source": [
    "df['Sampling month average'].fillna(23.154379, inplace = True)\n",
    "df['Sampling month'].fillna(115.381081, inplace = True)\n",
    "df['SRTd'].fillna(15.258321, inplace = True)\n",
    "df['COD'].fillna(430.108594, inplace = True)\n",
    "df['NH4N'].fillna(26.645109, inplace = True)\n",
    "df['TP'].fillna(6.274391, inplace = True)"
   ]
  },
  {
   "cell_type": "markdown",
   "id": "74a178e0",
   "metadata": {},
   "source": [
    "检查NA"
   ]
  },
  {
   "cell_type": "code",
   "execution_count": 13,
   "id": "cfea83fd",
   "metadata": {},
   "outputs": [
    {
     "data": {
      "text/plain": [
       "Unnamed: 0                0\n",
       "Sample ID                 0\n",
       "Sampling month average    0\n",
       "Sampling month            0\n",
       "SRTd                      0\n",
       "COD                       0\n",
       "NH4N                      0\n",
       "TP                        0\n",
       "Gammaproteobacteria       0\n",
       "Bacteroidia               0\n",
       "Unclassified              0\n",
       "Alphaproteobacteria       0\n",
       "Others                    0\n",
       "Clostridia                0\n",
       "Anaerolineae              0\n",
       "Parcubacteria             0\n",
       "Polyangia                 0\n",
       "Planctomycetes            0\n",
       "Verrucomicrobiae          0\n",
       "Bdellovibrionia           0\n",
       "Chlamydiae                0\n",
       "Oligoflexia               0\n",
       "Phycisphaerae             0\n",
       "Gracilibacteria           0\n",
       "Actinobacteria            0\n",
       "Bacilli                   0\n",
       "Microgenomatia            0\n",
       "Babeliae                  0\n",
       "ABY1                      0\n",
       "Saccharimonadia           0\n",
       "Acidimicrobiia            0\n",
       "Omnitrophia               0\n",
       "Cyanobacteriia            0\n",
       "Acidobacteriae            0\n",
       "Myxococcia                0\n",
       "Nanoarchaeia              0\n",
       "Thermoleophilia           0\n",
       "Blastocatellia            0\n",
       "OM190                     0\n",
       "Spirochaetia              0\n",
       "Nitrospiria               0\n",
       "Chloroflexia              0\n",
       "Kiritimatiellae           0\n",
       "Ignavibacteria            0\n",
       "Desulfuromonadia          0\n",
       "Campylobacteria           0\n",
       "Gemmatimonadetes          0\n",
       "Vicinamibacteria          0\n",
       "Fimbriimonadia            0\n",
       "Vampirivibrionia          0\n",
       "Desulfovibrionia          0\n",
       "Negativicutes             0\n",
       "Holophagae                0\n",
       "Leptospirae               0\n",
       "metagenome                0\n",
       "Kapabacteria              0\n",
       "Lineage IIb               0\n",
       "Desulfobacteria           0\n",
       "Hydrogenedentia           0\n",
       "dtype: int64"
      ]
     },
     "execution_count": 13,
     "metadata": {},
     "output_type": "execute_result"
    }
   ],
   "source": [
    "df.isnull().sum()"
   ]
  },
  {
   "cell_type": "markdown",
   "id": "1306a77f",
   "metadata": {},
   "source": [
    "重定义训练和测试集"
   ]
  },
  {
   "cell_type": "code",
   "execution_count": 14,
   "id": "71a9ac1a",
   "metadata": {},
   "outputs": [
    {
     "name": "stdout",
     "output_type": "stream",
     "text": [
      "Train and Test Size 948, 238\n"
     ]
    }
   ],
   "source": [
    "# Splitting the datasets into training and testing data.\n",
    "train_data, test_data = train_test_split(df, train_size=0.8, test_size=0.2, shuffle=False)\n",
    "\n",
    "# Output the train and test data size\n",
    "print(f\"Train and Test Size {len(train_data)}, {len(test_data)}\")"
   ]
  },
  {
   "cell_type": "markdown",
   "id": "04470613",
   "metadata": {},
   "source": [
    "**建模**"
   ]
  },
  {
   "cell_type": "code",
   "execution_count": 15,
   "id": "8d7a9eba",
   "metadata": {},
   "outputs": [],
   "source": [
    "from sklearn import linear_model \n",
    "from sklearn.pipeline import Pipeline\n",
    "from sklearn.preprocessing import StandardScaler\n",
    "from sklearn.linear_model import Ridge #导入岭回归模型\n",
    "from sklearn.linear_model import SGDRegressor\n",
    "# XGBoost Classifier\n",
    "from xgboost import XGBClassifier, XGBRegressor\n",
    "from sklearn.ensemble import RandomForestRegressor"
   ]
  },
  {
   "cell_type": "code",
   "execution_count": 16,
   "id": "ac36646e",
   "metadata": {},
   "outputs": [],
   "source": [
    "X_train = train_data[features]\n",
    "y_train = train_data[targets]\n",
    "X_test = test_data[features]\n",
    "y_test = test_data[targets]"
   ]
  },
  {
   "cell_type": "code",
   "execution_count": 17,
   "id": "5b565dfc",
   "metadata": {},
   "outputs": [],
   "source": [
    "rfr =  RandomForestRegressor(n_estimators=100, max_depth=50, random_state=2)"
   ]
  },
  {
   "cell_type": "code",
   "execution_count": 18,
   "id": "26cec117",
   "metadata": {},
   "outputs": [],
   "source": [
    "model = Pipeline([\n",
    "    ('scaler', StandardScaler()),\n",
    "    ('regressor', rfr)\n",
    "])"
   ]
  },
  {
   "cell_type": "markdown",
   "id": "74bceacd",
   "metadata": {},
   "source": [
    "训练模型"
   ]
  },
  {
   "cell_type": "code",
   "execution_count": 19,
   "id": "48387400",
   "metadata": {},
   "outputs": [
    {
     "name": "stdout",
     "output_type": "stream",
     "text": [
      "R^2 Train: 0.8054\n"
     ]
    }
   ],
   "source": [
    "model.fit(X_train, y_train)\n",
    "print(f'R^2 Train: {model.score(X_train, y_train):0.4}')"
   ]
  },
  {
   "cell_type": "markdown",
   "id": "798d0ac1",
   "metadata": {},
   "source": [
    "利用训练好的模型做测试"
   ]
  },
  {
   "cell_type": "code",
   "execution_count": 20,
   "id": "815fe277",
   "metadata": {},
   "outputs": [],
   "source": [
    "y_preds = model.predict(X_test)"
   ]
  },
  {
   "cell_type": "code",
   "execution_count": 21,
   "id": "70d63970",
   "metadata": {},
   "outputs": [
    {
     "data": {
      "text/plain": [
       "array([[2.78162714e+01, 3.14654374e+01, 1.88433687e+00, ...,\n",
       "        5.91548430e-02, 8.41329937e-03, 1.08310213e-02],\n",
       "       [3.45909960e+01, 2.91747256e+01, 1.53776406e+00, ...,\n",
       "        6.21611286e-02, 2.53458314e-02, 7.53644194e-02],\n",
       "       [3.45909960e+01, 2.91747256e+01, 1.53776406e+00, ...,\n",
       "        6.21611286e-02, 2.53458314e-02, 7.53644194e-02],\n",
       "       ...,\n",
       "       [4.24617106e+01, 2.59796480e+01, 1.19434670e+00, ...,\n",
       "        3.15764929e-02, 4.90045064e-03, 5.21996288e-02],\n",
       "       [4.24617106e+01, 2.59796480e+01, 1.19434670e+00, ...,\n",
       "        3.15764929e-02, 4.90045064e-03, 5.21996288e-02],\n",
       "       [4.24617106e+01, 2.59796480e+01, 1.19434670e+00, ...,\n",
       "        3.15764929e-02, 4.90045064e-03, 5.21996288e-02]])"
      ]
     },
     "execution_count": 21,
     "metadata": {},
     "output_type": "execute_result"
    }
   ],
   "source": [
    "y_preds"
   ]
  },
  {
   "cell_type": "markdown",
   "id": "ea954879",
   "metadata": {},
   "source": [
    "**结果可视化**"
   ]
  },
  {
   "cell_type": "markdown",
   "id": "54d799c7",
   "metadata": {},
   "source": [
    "展示第一个ID的预测结果。"
   ]
  },
  {
   "cell_type": "code",
   "execution_count": 22,
   "id": "389d13c7",
   "metadata": {},
   "outputs": [
    {
     "data": {
      "text/plain": [
       "array([2.78162714e+01, 3.14654374e+01, 1.88433687e+00, 6.30963959e+00,\n",
       "       1.14386966e+00, 5.54845846e-01, 3.16269623e+00, 4.63884060e-01,\n",
       "       7.03758924e+00, 1.21948984e+00, 9.80395317e-01, 3.20873895e-01,\n",
       "       3.03905366e-01, 4.37258336e-01, 1.15930099e+00, 1.48511770e-01,\n",
       "       4.19952056e+00, 2.47059916e-01, 3.44665262e-02, 2.06176611e-01,\n",
       "       6.25044500e-02, 3.68499407e-01, 7.37832958e-01, 1.86898311e-02,\n",
       "       2.22340578e-02, 3.52528562e-01, 3.97742512e-01, 1.49078335e-02,\n",
       "       1.99711424e-01, 1.03461646e+00, 5.21528820e-01, 3.56711596e-02,\n",
       "       2.15275579e+00, 2.58552577e-02, 1.00618381e-01, 6.20740672e-01,\n",
       "       5.29978251e-02, 3.72127016e-01, 3.63406054e-01, 6.26662467e-01,\n",
       "       2.06103601e-01, 2.45137536e-01, 6.35463730e-02, 3.56896511e-02,\n",
       "       6.55384024e-01, 1.29432035e+00, 7.02472849e-02, 1.74011722e-01,\n",
       "       5.91548430e-02, 8.41329937e-03, 1.08310213e-02])"
      ]
     },
     "execution_count": 22,
     "metadata": {},
     "output_type": "execute_result"
    }
   ],
   "source": [
    "y_preds[0]"
   ]
  },
  {
   "cell_type": "code",
   "execution_count": 23,
   "id": "406ba69a",
   "metadata": {},
   "outputs": [
    {
     "data": {
      "text/plain": [
       "[27.25390625,\n",
       " 17.56640625,\n",
       " 1.76171875,\n",
       " 8.9609375,\n",
       " 1.875,\n",
       " 0.4921875,\n",
       " 4.35546875,\n",
       " 1.2109375,\n",
       " 12.34765625,\n",
       " 0.92578125,\n",
       " 1.578125,\n",
       " 0.41015625,\n",
       " 0.3984375,\n",
       " 0.62109375,\n",
       " 1.14453125,\n",
       " 0.17578125,\n",
       " 6.9609375,\n",
       " 0.16796875,\n",
       " 0.07421875,\n",
       " 0.0625,\n",
       " 0.1328125,\n",
       " 0.41015625,\n",
       " 0.671875,\n",
       " 0.0078125,\n",
       " 0.01171875,\n",
       " 0.46484375,\n",
       " 0.28125,\n",
       " 0.04296875,\n",
       " 0.12890625,\n",
       " 0.9921875,\n",
       " 0.89453125,\n",
       " 0.09765625,\n",
       " 1.6210937500000002,\n",
       " 0.03515625,\n",
       " 0.28125,\n",
       " 1.43359375,\n",
       " 0.140625,\n",
       " 0.14453125,\n",
       " 0.4921875,\n",
       " 0.60546875,\n",
       " 0.30859375,\n",
       " 0.19140625,\n",
       " 0.08984375,\n",
       " 0.046875,\n",
       " 1.07421875,\n",
       " 0.25,\n",
       " 0.18359375,\n",
       " 0.41796875,\n",
       " 0.15625,\n",
       " 0.015625,\n",
       " 0.03125]"
      ]
     },
     "execution_count": 23,
     "metadata": {},
     "output_type": "execute_result"
    }
   ],
   "source": [
    "y_test.iloc[0].tolist()"
   ]
  },
  {
   "cell_type": "code",
   "execution_count": 24,
   "id": "82965ccb",
   "metadata": {},
   "outputs": [],
   "source": [
    "c = {\"classes\":targets,\n",
    "     \"predictions\":y_preds[0],\n",
    "    \"real\":y_test.iloc[0].tolist() }"
   ]
  },
  {
   "cell_type": "code",
   "execution_count": 25,
   "id": "d63a163c",
   "metadata": {},
   "outputs": [
    {
     "data": {
      "text/html": [
       "<div>\n",
       "<style scoped>\n",
       "    .dataframe tbody tr th:only-of-type {\n",
       "        vertical-align: middle;\n",
       "    }\n",
       "\n",
       "    .dataframe tbody tr th {\n",
       "        vertical-align: top;\n",
       "    }\n",
       "\n",
       "    .dataframe thead th {\n",
       "        text-align: right;\n",
       "    }\n",
       "</style>\n",
       "<table border=\"1\" class=\"dataframe\">\n",
       "  <thead>\n",
       "    <tr style=\"text-align: right;\">\n",
       "      <th></th>\n",
       "      <th>predictions</th>\n",
       "      <th>real</th>\n",
       "    </tr>\n",
       "    <tr>\n",
       "      <th>classes</th>\n",
       "      <th></th>\n",
       "      <th></th>\n",
       "    </tr>\n",
       "  </thead>\n",
       "  <tbody>\n",
       "    <tr>\n",
       "      <th>Gammaproteobacteria</th>\n",
       "      <td>27.816271</td>\n",
       "      <td>27.253906</td>\n",
       "    </tr>\n",
       "    <tr>\n",
       "      <th>Bacteroidia</th>\n",
       "      <td>31.465437</td>\n",
       "      <td>17.566406</td>\n",
       "    </tr>\n",
       "    <tr>\n",
       "      <th>Unclassified</th>\n",
       "      <td>1.884337</td>\n",
       "      <td>1.761719</td>\n",
       "    </tr>\n",
       "    <tr>\n",
       "      <th>Alphaproteobacteria</th>\n",
       "      <td>6.309640</td>\n",
       "      <td>8.960938</td>\n",
       "    </tr>\n",
       "    <tr>\n",
       "      <th>Others</th>\n",
       "      <td>1.143870</td>\n",
       "      <td>1.875000</td>\n",
       "    </tr>\n",
       "    <tr>\n",
       "      <th>Clostridia</th>\n",
       "      <td>0.554846</td>\n",
       "      <td>0.492188</td>\n",
       "    </tr>\n",
       "    <tr>\n",
       "      <th>Anaerolineae</th>\n",
       "      <td>3.162696</td>\n",
       "      <td>4.355469</td>\n",
       "    </tr>\n",
       "    <tr>\n",
       "      <th>Parcubacteria</th>\n",
       "      <td>0.463884</td>\n",
       "      <td>1.210938</td>\n",
       "    </tr>\n",
       "    <tr>\n",
       "      <th>Polyangia</th>\n",
       "      <td>7.037589</td>\n",
       "      <td>12.347656</td>\n",
       "    </tr>\n",
       "    <tr>\n",
       "      <th>Planctomycetes</th>\n",
       "      <td>1.219490</td>\n",
       "      <td>0.925781</td>\n",
       "    </tr>\n",
       "    <tr>\n",
       "      <th>Verrucomicrobiae</th>\n",
       "      <td>0.980395</td>\n",
       "      <td>1.578125</td>\n",
       "    </tr>\n",
       "    <tr>\n",
       "      <th>Bdellovibrionia</th>\n",
       "      <td>0.320874</td>\n",
       "      <td>0.410156</td>\n",
       "    </tr>\n",
       "    <tr>\n",
       "      <th>Chlamydiae</th>\n",
       "      <td>0.303905</td>\n",
       "      <td>0.398438</td>\n",
       "    </tr>\n",
       "    <tr>\n",
       "      <th>Oligoflexia</th>\n",
       "      <td>0.437258</td>\n",
       "      <td>0.621094</td>\n",
       "    </tr>\n",
       "    <tr>\n",
       "      <th>Phycisphaerae</th>\n",
       "      <td>1.159301</td>\n",
       "      <td>1.144531</td>\n",
       "    </tr>\n",
       "    <tr>\n",
       "      <th>Gracilibacteria</th>\n",
       "      <td>0.148512</td>\n",
       "      <td>0.175781</td>\n",
       "    </tr>\n",
       "    <tr>\n",
       "      <th>Actinobacteria</th>\n",
       "      <td>4.199521</td>\n",
       "      <td>6.960938</td>\n",
       "    </tr>\n",
       "    <tr>\n",
       "      <th>Bacilli</th>\n",
       "      <td>0.247060</td>\n",
       "      <td>0.167969</td>\n",
       "    </tr>\n",
       "    <tr>\n",
       "      <th>Microgenomatia</th>\n",
       "      <td>0.034467</td>\n",
       "      <td>0.074219</td>\n",
       "    </tr>\n",
       "    <tr>\n",
       "      <th>Babeliae</th>\n",
       "      <td>0.206177</td>\n",
       "      <td>0.062500</td>\n",
       "    </tr>\n",
       "    <tr>\n",
       "      <th>ABY1</th>\n",
       "      <td>0.062504</td>\n",
       "      <td>0.132812</td>\n",
       "    </tr>\n",
       "    <tr>\n",
       "      <th>Saccharimonadia</th>\n",
       "      <td>0.368499</td>\n",
       "      <td>0.410156</td>\n",
       "    </tr>\n",
       "    <tr>\n",
       "      <th>Acidimicrobiia</th>\n",
       "      <td>0.737833</td>\n",
       "      <td>0.671875</td>\n",
       "    </tr>\n",
       "    <tr>\n",
       "      <th>Omnitrophia</th>\n",
       "      <td>0.018690</td>\n",
       "      <td>0.007812</td>\n",
       "    </tr>\n",
       "    <tr>\n",
       "      <th>Cyanobacteriia</th>\n",
       "      <td>0.022234</td>\n",
       "      <td>0.011719</td>\n",
       "    </tr>\n",
       "    <tr>\n",
       "      <th>Acidobacteriae</th>\n",
       "      <td>0.352529</td>\n",
       "      <td>0.464844</td>\n",
       "    </tr>\n",
       "    <tr>\n",
       "      <th>Myxococcia</th>\n",
       "      <td>0.397743</td>\n",
       "      <td>0.281250</td>\n",
       "    </tr>\n",
       "    <tr>\n",
       "      <th>Nanoarchaeia</th>\n",
       "      <td>0.014908</td>\n",
       "      <td>0.042969</td>\n",
       "    </tr>\n",
       "    <tr>\n",
       "      <th>Thermoleophilia</th>\n",
       "      <td>0.199711</td>\n",
       "      <td>0.128906</td>\n",
       "    </tr>\n",
       "    <tr>\n",
       "      <th>Blastocatellia</th>\n",
       "      <td>1.034616</td>\n",
       "      <td>0.992188</td>\n",
       "    </tr>\n",
       "    <tr>\n",
       "      <th>OM190</th>\n",
       "      <td>0.521529</td>\n",
       "      <td>0.894531</td>\n",
       "    </tr>\n",
       "    <tr>\n",
       "      <th>Spirochaetia</th>\n",
       "      <td>0.035671</td>\n",
       "      <td>0.097656</td>\n",
       "    </tr>\n",
       "    <tr>\n",
       "      <th>Nitrospiria</th>\n",
       "      <td>2.152756</td>\n",
       "      <td>1.621094</td>\n",
       "    </tr>\n",
       "    <tr>\n",
       "      <th>Chloroflexia</th>\n",
       "      <td>0.025855</td>\n",
       "      <td>0.035156</td>\n",
       "    </tr>\n",
       "    <tr>\n",
       "      <th>Kiritimatiellae</th>\n",
       "      <td>0.100618</td>\n",
       "      <td>0.281250</td>\n",
       "    </tr>\n",
       "    <tr>\n",
       "      <th>Ignavibacteria</th>\n",
       "      <td>0.620741</td>\n",
       "      <td>1.433594</td>\n",
       "    </tr>\n",
       "    <tr>\n",
       "      <th>Desulfuromonadia</th>\n",
       "      <td>0.052998</td>\n",
       "      <td>0.140625</td>\n",
       "    </tr>\n",
       "    <tr>\n",
       "      <th>Campylobacteria</th>\n",
       "      <td>0.372127</td>\n",
       "      <td>0.144531</td>\n",
       "    </tr>\n",
       "    <tr>\n",
       "      <th>Gemmatimonadetes</th>\n",
       "      <td>0.363406</td>\n",
       "      <td>0.492188</td>\n",
       "    </tr>\n",
       "    <tr>\n",
       "      <th>Vicinamibacteria</th>\n",
       "      <td>0.626662</td>\n",
       "      <td>0.605469</td>\n",
       "    </tr>\n",
       "    <tr>\n",
       "      <th>Fimbriimonadia</th>\n",
       "      <td>0.206104</td>\n",
       "      <td>0.308594</td>\n",
       "    </tr>\n",
       "    <tr>\n",
       "      <th>Vampirivibrionia</th>\n",
       "      <td>0.245138</td>\n",
       "      <td>0.191406</td>\n",
       "    </tr>\n",
       "    <tr>\n",
       "      <th>Desulfovibrionia</th>\n",
       "      <td>0.063546</td>\n",
       "      <td>0.089844</td>\n",
       "    </tr>\n",
       "    <tr>\n",
       "      <th>Negativicutes</th>\n",
       "      <td>0.035690</td>\n",
       "      <td>0.046875</td>\n",
       "    </tr>\n",
       "    <tr>\n",
       "      <th>Holophagae</th>\n",
       "      <td>0.655384</td>\n",
       "      <td>1.074219</td>\n",
       "    </tr>\n",
       "    <tr>\n",
       "      <th>Leptospirae</th>\n",
       "      <td>1.294320</td>\n",
       "      <td>0.250000</td>\n",
       "    </tr>\n",
       "    <tr>\n",
       "      <th>metagenome</th>\n",
       "      <td>0.070247</td>\n",
       "      <td>0.183594</td>\n",
       "    </tr>\n",
       "    <tr>\n",
       "      <th>Kapabacteria</th>\n",
       "      <td>0.174012</td>\n",
       "      <td>0.417969</td>\n",
       "    </tr>\n",
       "    <tr>\n",
       "      <th>Lineage IIb</th>\n",
       "      <td>0.059155</td>\n",
       "      <td>0.156250</td>\n",
       "    </tr>\n",
       "    <tr>\n",
       "      <th>Desulfobacteria</th>\n",
       "      <td>0.008413</td>\n",
       "      <td>0.015625</td>\n",
       "    </tr>\n",
       "    <tr>\n",
       "      <th>Hydrogenedentia</th>\n",
       "      <td>0.010831</td>\n",
       "      <td>0.031250</td>\n",
       "    </tr>\n",
       "  </tbody>\n",
       "</table>\n",
       "</div>"
      ],
      "text/plain": [
       "                     predictions       real\n",
       "classes                                    \n",
       "Gammaproteobacteria    27.816271  27.253906\n",
       "Bacteroidia            31.465437  17.566406\n",
       "Unclassified            1.884337   1.761719\n",
       "Alphaproteobacteria     6.309640   8.960938\n",
       "Others                  1.143870   1.875000\n",
       "Clostridia              0.554846   0.492188\n",
       "Anaerolineae            3.162696   4.355469\n",
       "Parcubacteria           0.463884   1.210938\n",
       "Polyangia               7.037589  12.347656\n",
       "Planctomycetes          1.219490   0.925781\n",
       "Verrucomicrobiae        0.980395   1.578125\n",
       "Bdellovibrionia         0.320874   0.410156\n",
       "Chlamydiae              0.303905   0.398438\n",
       "Oligoflexia             0.437258   0.621094\n",
       "Phycisphaerae           1.159301   1.144531\n",
       "Gracilibacteria         0.148512   0.175781\n",
       "Actinobacteria          4.199521   6.960938\n",
       "Bacilli                 0.247060   0.167969\n",
       "Microgenomatia          0.034467   0.074219\n",
       "Babeliae                0.206177   0.062500\n",
       "ABY1                    0.062504   0.132812\n",
       "Saccharimonadia         0.368499   0.410156\n",
       "Acidimicrobiia          0.737833   0.671875\n",
       "Omnitrophia             0.018690   0.007812\n",
       "Cyanobacteriia          0.022234   0.011719\n",
       "Acidobacteriae          0.352529   0.464844\n",
       "Myxococcia              0.397743   0.281250\n",
       "Nanoarchaeia            0.014908   0.042969\n",
       "Thermoleophilia         0.199711   0.128906\n",
       "Blastocatellia          1.034616   0.992188\n",
       "OM190                   0.521529   0.894531\n",
       "Spirochaetia            0.035671   0.097656\n",
       "Nitrospiria             2.152756   1.621094\n",
       "Chloroflexia            0.025855   0.035156\n",
       "Kiritimatiellae         0.100618   0.281250\n",
       "Ignavibacteria          0.620741   1.433594\n",
       "Desulfuromonadia        0.052998   0.140625\n",
       "Campylobacteria         0.372127   0.144531\n",
       "Gemmatimonadetes        0.363406   0.492188\n",
       "Vicinamibacteria        0.626662   0.605469\n",
       "Fimbriimonadia          0.206104   0.308594\n",
       "Vampirivibrionia        0.245138   0.191406\n",
       "Desulfovibrionia        0.063546   0.089844\n",
       "Negativicutes           0.035690   0.046875\n",
       "Holophagae              0.655384   1.074219\n",
       "Leptospirae             1.294320   0.250000\n",
       "metagenome              0.070247   0.183594\n",
       "Kapabacteria            0.174012   0.417969\n",
       "Lineage IIb             0.059155   0.156250\n",
       "Desulfobacteria         0.008413   0.015625\n",
       "Hydrogenedentia         0.010831   0.031250"
      ]
     },
     "execution_count": 25,
     "metadata": {},
     "output_type": "execute_result"
    }
   ],
   "source": [
    "com = pd.DataFrame(c)\n",
    "com = com.set_index('classes')\n",
    "com"
   ]
  },
  {
   "cell_type": "markdown",
   "id": "5ed907aa",
   "metadata": {},
   "source": [
    "预测和实际结果的柱状图对比"
   ]
  },
  {
   "cell_type": "code",
   "execution_count": 26,
   "id": "76b0bfd5",
   "metadata": {},
   "outputs": [
    {
     "data": {
      "image/png": "[encoded data removed]",
      "text/plain": [
       "<Figure size 2000x500 with 1 Axes>"
      ]
     },
     "metadata": {},
     "output_type": "display_data"
    }
   ],
   "source": [
    "com.plot(kind='bar',figsize=(20,5));"
   ]
  },
  {
   "cell_type": "markdown",
   "id": "54332a7d",
   "metadata": {},
   "source": [
    "预测和实际结果的散点图对比。"
   ]
  },
  {
   "cell_type": "code",
   "execution_count": 27,
   "id": "5638feb1",
   "metadata": {},
   "outputs": [
    {
     "data": {
      "image/png": "[encoded data removed]",
      "text/plain": [
       "<Figure size 2000x500 with 1 Axes>"
      ]
     },
     "metadata": {},
     "output_type": "display_data"
    }
   ],
   "source": [
    "com.plot(kind='line',style='--o',figsize=(20,5));"
   ]
  },
  {
   "cell_type": "markdown",
   "id": "e8ba71be",
   "metadata": {},
   "source": [
    "上面是第一个预测结果和实际结果的对比，修改参数可以对比其他列。也可以汇总对比均值。"
   ]
  },
  {
   "cell_type": "markdown",
   "id": "a5082093",
   "metadata": {},
   "source": [
    "**模型评估**"
   ]
  },
  {
   "cell_type": "markdown",
   "id": "a6231845",
   "metadata": {},
   "source": [
    "训练集部分"
   ]
  },
  {
   "cell_type": "markdown",
   "id": "b0387a09",
   "metadata": {},
   "source": [
    "R^2"
   ]
  },
  {
   "cell_type": "code",
   "execution_count": 28,
   "id": "2dfb98f0",
   "metadata": {},
   "outputs": [
    {
     "name": "stdout",
     "output_type": "stream",
     "text": [
      "R^2 Train: 0.8054\n"
     ]
    }
   ],
   "source": [
    "print(f'R^2 Train: {model.score(X_train, y_train):0.4}')"
   ]
  },
  {
   "cell_type": "code",
   "execution_count": 29,
   "id": "e7dc6970",
   "metadata": {},
   "outputs": [],
   "source": [
    "from sklearn import metrics"
   ]
  },
  {
   "cell_type": "markdown",
   "id": "eab672ab",
   "metadata": {},
   "source": [
    "训练集的MSE"
   ]
  },
  {
   "cell_type": "code",
   "execution_count": 30,
   "id": "8af3ae93",
   "metadata": {},
   "outputs": [
    {
     "data": {
      "text/plain": [
       "0.7674077986804274"
      ]
     },
     "execution_count": 30,
     "metadata": {},
     "output_type": "execute_result"
    }
   ],
   "source": [
    "y_preds2 = model.predict(X_train)\n",
    "metrics.mean_squared_error(y_train, y_preds2)"
   ]
  },
  {
   "cell_type": "markdown",
   "id": "d3bbea5d",
   "metadata": {},
   "source": [
    "测试集部分"
   ]
  },
  {
   "cell_type": "code",
   "execution_count": 31,
   "id": "a2b00aef",
   "metadata": {},
   "outputs": [
    {
     "data": {
      "text/plain": [
       "6.489280649091413"
      ]
     },
     "execution_count": 31,
     "metadata": {},
     "output_type": "execute_result"
    }
   ],
   "source": [
    "MSE = metrics.mean_squared_error(y_test, y_preds)\n",
    "MSE"
   ]
  },
  {
   "cell_type": "code",
   "execution_count": 32,
   "id": "b1c02fdb",
   "metadata": {},
   "outputs": [
    {
     "data": {
      "text/plain": [
       "2.547406651693328"
      ]
     },
     "execution_count": 32,
     "metadata": {},
     "output_type": "execute_result"
    }
   ],
   "source": [
    "RMSE = metrics.mean_squared_error(y_test, y_preds)**0.5\n",
    "RMSE"
   ]
  },
  {
   "cell_type": "code",
   "execution_count": 33,
   "id": "e90edce7",
   "metadata": {},
   "outputs": [
    {
     "data": {
      "text/plain": [
       "0.8693101176944044"
      ]
     },
     "execution_count": 33,
     "metadata": {},
     "output_type": "execute_result"
    }
   ],
   "source": [
    "MAE = metrics.mean_absolute_error(y_test, y_preds)\n",
    "MAE"
   ]
  },
  {
   "cell_type": "code",
   "execution_count": 34,
   "id": "81b96789",
   "metadata": {},
   "outputs": [
    {
     "data": {
      "text/plain": [
       "89965289247971.14"
      ]
     },
     "execution_count": 34,
     "metadata": {},
     "output_type": "execute_result"
    }
   ],
   "source": [
    "MAPE = metrics.mean_absolute_percentage_error(y_test, y_preds)\n",
    "MAPE"
   ]
  },
  {
   "cell_type": "markdown",
   "id": "84792f92",
   "metadata": {},
   "source": [
    "# 调参和优化"
   ]
  },
  {
   "cell_type": "code",
   "execution_count": 35,
   "id": "b2736899",
   "metadata": {},
   "outputs": [],
   "source": [
    "from sklearn.model_selection import train_test_split, TimeSeriesSplit, GridSearchCV"
   ]
  },
  {
   "cell_type": "code",
   "execution_count": 36,
   "id": "ff0bfc46",
   "metadata": {},
   "outputs": [],
   "source": [
    "# Cross-validation\n",
    "tscv = TimeSeriesSplit(n_splits=5)"
   ]
  },
  {
   "cell_type": "code",
   "execution_count": 37,
   "id": "4ccbd156",
   "metadata": {},
   "outputs": [
    {
     "data": {
      "text/plain": [
       "{'memory': None,\n",
       " 'steps': [('scaler', StandardScaler()),\n",
       "  ('regressor', RandomForestRegressor(max_depth=50, random_state=2))],\n",
       " 'verbose': False,\n",
       " 'scaler': StandardScaler(),\n",
       " 'regressor': RandomForestRegressor(max_depth=50, random_state=2),\n",
       " 'scaler__copy': True,\n",
       " 'scaler__with_mean': True,\n",
       " 'scaler__with_std': True,\n",
       " 'regressor__bootstrap': True,\n",
       " 'regressor__ccp_alpha': 0.0,\n",
       " 'regressor__criterion': 'squared_error',\n",
       " 'regressor__max_depth': 50,\n",
       " 'regressor__max_features': 'auto',\n",
       " 'regressor__max_leaf_nodes': None,\n",
       " 'regressor__max_samples': None,\n",
       " 'regressor__min_impurity_decrease': 0.0,\n",
       " 'regressor__min_samples_leaf': 1,\n",
       " 'regressor__min_samples_split': 2,\n",
       " 'regressor__min_weight_fraction_leaf': 0.0,\n",
       " 'regressor__n_estimators': 100,\n",
       " 'regressor__n_jobs': None,\n",
       " 'regressor__oob_score': False,\n",
       " 'regressor__random_state': 2,\n",
       " 'regressor__verbose': 0,\n",
       " 'regressor__warm_start': False}"
      ]
     },
     "execution_count": 37,
     "metadata": {},
     "output_type": "execute_result"
    }
   ],
   "source": [
    "# Get parameters list\n",
    "model.get_params()"
   ]
  },
  {
   "cell_type": "code",
   "execution_count": 38,
   "id": "1e14aa67",
   "metadata": {},
   "outputs": [],
   "source": [
    "# Perform Gridsearch and fit\n",
    "param_grid = {\"regressor__max_depth\": [10,50,100,150,200,300,400],\n",
    "             \"regressor__n_estimators\": [10,50,100,150,200,300,400]}"
   ]
  },
  {
   "cell_type": "code",
   "execution_count": 39,
   "id": "6eb6b6cd",
   "metadata": {},
   "outputs": [
    {
     "name": "stdout",
     "output_type": "stream",
     "text": [
      "Fitting 5 folds for each of 49 candidates, totalling 245 fits\n"
     ]
    },
    {
     "data": {
      "text/plain": [
       "GridSearchCV(cv=TimeSeriesSplit(gap=0, max_train_size=None, n_splits=5, test_size=None),\n",
       "             estimator=Pipeline(steps=[('scaler', StandardScaler()),\n",
       "                                       ('regressor',\n",
       "                                        RandomForestRegressor(max_depth=50,\n",
       "                                                              random_state=2))]),\n",
       "             n_jobs=-1,\n",
       "             param_grid={'regressor__max_depth': [10, 50, 100, 150, 200, 300,\n",
       "                                                  400],\n",
       "                         'regressor__n_estimators': [10, 50, 100, 150, 200, 300,\n",
       "                                                     400]},\n",
       "             verbose=1)"
      ]
     },
     "execution_count": 39,
     "metadata": {},
     "output_type": "execute_result"
    }
   ],
   "source": [
    "gs = GridSearchCV(model, param_grid, n_jobs=-1, cv=tscv, verbose=1)\n",
    "gs.fit(X_train, y_train)"
   ]
  },
  {
   "cell_type": "code",
   "execution_count": 40,
   "id": "0a5de704",
   "metadata": {},
   "outputs": [
    {
     "data": {
      "text/plain": [
       "Pipeline(steps=[('scaler', StandardScaler()),\n",
       "                ('regressor',\n",
       "                 RandomForestRegressor(max_depth=10, n_estimators=10,\n",
       "                                       random_state=2))])"
      ]
     },
     "execution_count": 40,
     "metadata": {},
     "output_type": "execute_result"
    }
   ],
   "source": [
    "# Best Estimator\n",
    "gs.best_estimator_"
   ]
  },
  {
   "cell_type": "code",
   "execution_count": 41,
   "id": "95c57a84",
   "metadata": {},
   "outputs": [
    {
     "name": "stdout",
     "output_type": "stream",
     "text": [
      "R^2 Train: 0.5952\n"
     ]
    }
   ],
   "source": [
    "print(f'R^2 Train: {gs.score(X_train, y_train):0.4}')"
   ]
  },
  {
   "cell_type": "markdown",
   "id": "289e17ea",
   "metadata": {},
   "source": [
    "调参后R方有变得更小。"
   ]
  },
  {
   "cell_type": "code",
   "execution_count": 42,
   "id": "ca96428e",
   "metadata": {},
   "outputs": [],
   "source": [
    "y_preds1 = gs.predict(X_test)"
   ]
  },
  {
   "cell_type": "code",
   "execution_count": 43,
   "id": "d2df4153",
   "metadata": {},
   "outputs": [
    {
     "data": {
      "text/plain": [
       "6.9749334707358335"
      ]
     },
     "execution_count": 43,
     "metadata": {},
     "output_type": "execute_result"
    }
   ],
   "source": [
    "MSE = metrics.mean_squared_error(y_test, y_preds1)\n",
    "MSE"
   ]
  },
  {
   "cell_type": "markdown",
   "id": "9b8d02ba",
   "metadata": {},
   "source": [
    "MSE的结果还行"
   ]
  },
  {
   "cell_type": "code",
   "execution_count": 44,
   "id": "7376e866",
   "metadata": {},
   "outputs": [
    {
     "data": {
      "text/plain": [
       "1.437907847429548"
      ]
     },
     "execution_count": 44,
     "metadata": {},
     "output_type": "execute_result"
    }
   ],
   "source": [
    "y_preds2 = gs.predict(X_train)\n",
    "metrics.mean_squared_error(y_train, y_preds2)"
   ]
  },
  {
   "cell_type": "markdown",
   "id": "f2a81861",
   "metadata": {},
   "source": [
    "训练接的MSE也比较小。"
   ]
  },
  {
   "cell_type": "code",
   "execution_count": null,
   "id": "3dd13108",
   "metadata": {},
   "outputs": [],
   "source": []
  },
  {
   "cell_type": "code",
   "execution_count": null,
   "id": "735ad9f4",
   "metadata": {},
   "outputs": [],
   "source": []
  },
  {
   "cell_type": "code",
   "execution_count": null,
   "id": "947db649",
   "metadata": {},
   "outputs": [],
   "source": []
  },
  {
   "cell_type": "code",
   "execution_count": null,
   "id": "e8b49c75",
   "metadata": {},
   "outputs": [],
   "source": []
  },
  {
   "cell_type": "code",
   "execution_count": null,
   "id": "212b6569",
   "metadata": {},
   "outputs": [],
   "source": []
  },
  {
   "cell_type": "code",
   "execution_count": null,
   "id": "592c8443",
   "metadata": {},
   "outputs": [],
   "source": []
  },
  {
   "cell_type": "code",
   "execution_count": null,
   "id": "ec2fd4e0",
   "metadata": {},
   "outputs": [],
   "source": []
  },
  {
   "cell_type": "code",
   "execution_count": null,
   "id": "7ce57a0e",
   "metadata": {},
   "outputs": [],
   "source": []
  },
  {
   "cell_type": "code",
   "execution_count": null,
   "id": "321ba573",
   "metadata": {},
   "outputs": [],
   "source": []
  },
  {
   "cell_type": "code",
   "execution_count": null,
   "id": "1538f249",
   "metadata": {},
   "outputs": [],
   "source": []
  },
  {
   "cell_type": "code",
   "execution_count": null,
   "id": "35e4a245",
   "metadata": {},
   "outputs": [],
   "source": []
  },
  {
   "cell_type": "code",
   "execution_count": null,
   "id": "5d8eb383",
   "metadata": {},
   "outputs": [],
   "source": []
  },
  {
   "cell_type": "code",
   "execution_count": null,
   "id": "cdba73d7",
   "metadata": {},
   "outputs": [],
   "source": []
  },
  {
   "cell_type": "code",
   "execution_count": null,
   "id": "a6fe136a",
   "metadata": {},
   "outputs": [],
   "source": []
  },
  {
   "cell_type": "code",
   "execution_count": null,
   "id": "4f1988c4",
   "metadata": {},
   "outputs": [],
   "source": []
  },
  {
   "cell_type": "code",
   "execution_count": null,
   "id": "d1e4d462",
   "metadata": {},
   "outputs": [],
   "source": []
  },
  {
   "cell_type": "code",
   "execution_count": null,
   "id": "6766c77f",
   "metadata": {},
   "outputs": [],
   "source": []
  },
  {
   "cell_type": "code",
   "execution_count": null,
   "id": "957475bf",
   "metadata": {},
   "outputs": [],
   "source": []
  },
  {
   "cell_type": "code",
   "execution_count": null,
   "id": "7db761af",
   "metadata": {},
   "outputs": [],
   "source": []
  }
 ],
 "metadata": {
  "kernelspec": {
   "display_name": "Python 3 (ipykernel)",
   "language": "python",
   "name": "python3"
  },
  "language_info": {
   "codemirror_mode": {
    "name": "ipython",
    "version": 3
   },
   "file_extension": ".py",
   "mimetype": "text/x-python",
   "name": "python",
   "nbconvert_exporter": "python",
   "pygments_lexer": "ipython3",
   "version": "3.9.13"
  }
 },
 "nbformat": 4,
 "nbformat_minor": 5
}
