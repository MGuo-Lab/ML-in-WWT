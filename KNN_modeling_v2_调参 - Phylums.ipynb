{
 "cells": [
  {
   "cell_type": "markdown",
   "id": "d365dfbf",
   "metadata": {},
   "source": [
    "参考资料：https://scikit-learn.org/stable/modules/generated/sklearn.neighbors.KNeighborsRegressor.html"
   ]
  },
  {
   "cell_type": "markdown",
   "id": "6a27eba1",
   "metadata": {},
   "source": [
    "**导入基础包**"
   ]
  },
  {
   "cell_type": "code",
   "execution_count": 1,
   "id": "4a9e3702",
   "metadata": {},
   "outputs": [],
   "source": [
    "#packages\n",
    "import pandas as pd\n",
    "import numpy as np\n",
    "\n",
    "from pylab import plt\n",
    "plt.style.use('seaborn')\n",
    "%matplotlib inline\n",
    "\n",
    "# Ignore warnings\n",
    "import warnings\n",
    "warnings.filterwarnings('ignore')"
   ]
  },
  {
   "cell_type": "markdown",
   "id": "698ddc82",
   "metadata": {},
   "source": [
    "**读取数据**"
   ]
  },
  {
   "cell_type": "code",
   "execution_count": 3,
   "id": "4379ceaa",
   "metadata": {},
   "outputs": [],
   "source": [
    "df = pd.read_csv('data_features_Phylums.csv') "
   ]
  },
  {
   "cell_type": "code",
   "execution_count": 4,
   "id": "4f204942",
   "metadata": {},
   "outputs": [
    {
     "data": {
      "text/html": [
       "<div>\n",
       "<style scoped>\n",
       "    .dataframe tbody tr th:only-of-type {\n",
       "        vertical-align: middle;\n",
       "    }\n",
       "\n",
       "    .dataframe tbody tr th {\n",
       "        vertical-align: top;\n",
       "    }\n",
       "\n",
       "    .dataframe thead th {\n",
       "        text-align: right;\n",
       "    }\n",
       "</style>\n",
       "<table border=\"1\" class=\"dataframe\">\n",
       "  <thead>\n",
       "    <tr style=\"text-align: right;\">\n",
       "      <th></th>\n",
       "      <th>Unnamed: 0</th>\n",
       "      <th>Sample ID</th>\n",
       "      <th>Sampling month average</th>\n",
       "      <th>Sampling month</th>\n",
       "      <th>SRTd</th>\n",
       "      <th>COD</th>\n",
       "      <th>NH4N</th>\n",
       "      <th>TP</th>\n",
       "      <th>Proteobacteria</th>\n",
       "      <th>Bacteroidota</th>\n",
       "      <th>...</th>\n",
       "      <th>Actinobacteriota</th>\n",
       "      <th>Acidobacteriota</th>\n",
       "      <th>Desulfobacterota</th>\n",
       "      <th>Dependentiae</th>\n",
       "      <th>Cyanobacteria</th>\n",
       "      <th>Spirochaetota</th>\n",
       "      <th>Nanoarchaeota</th>\n",
       "      <th>Elusimicrobiota</th>\n",
       "      <th>SAR324 clade(Marine group B)</th>\n",
       "      <th>Armatimonadota</th>\n",
       "    </tr>\n",
       "  </thead>\n",
       "  <tbody>\n",
       "    <tr>\n",
       "      <th>0</th>\n",
       "      <td>0</td>\n",
       "      <td>SAKR1</td>\n",
       "      <td>18.0</td>\n",
       "      <td>55.0</td>\n",
       "      <td>12.0</td>\n",
       "      <td>771.97</td>\n",
       "      <td>61.4</td>\n",
       "      <td>7.2</td>\n",
       "      <td>40.320312</td>\n",
       "      <td>29.988281</td>\n",
       "      <td>...</td>\n",
       "      <td>0.308594</td>\n",
       "      <td>3.945312</td>\n",
       "      <td>0.320312</td>\n",
       "      <td>0.175781</td>\n",
       "      <td>0.156250</td>\n",
       "      <td>0.160156</td>\n",
       "      <td>0.023438</td>\n",
       "      <td>0.652344</td>\n",
       "      <td>1.351562</td>\n",
       "      <td>0.738281</td>\n",
       "    </tr>\n",
       "    <tr>\n",
       "      <th>1</th>\n",
       "      <td>1</td>\n",
       "      <td>SAKR2</td>\n",
       "      <td>18.0</td>\n",
       "      <td>55.0</td>\n",
       "      <td>12.0</td>\n",
       "      <td>771.97</td>\n",
       "      <td>61.4</td>\n",
       "      <td>7.2</td>\n",
       "      <td>37.351562</td>\n",
       "      <td>31.402344</td>\n",
       "      <td>...</td>\n",
       "      <td>0.417969</td>\n",
       "      <td>4.082031</td>\n",
       "      <td>0.347656</td>\n",
       "      <td>0.191406</td>\n",
       "      <td>0.117188</td>\n",
       "      <td>0.187500</td>\n",
       "      <td>0.000000</td>\n",
       "      <td>0.554688</td>\n",
       "      <td>1.605469</td>\n",
       "      <td>1.031250</td>\n",
       "    </tr>\n",
       "    <tr>\n",
       "      <th>2</th>\n",
       "      <td>2</td>\n",
       "      <td>SAKR3</td>\n",
       "      <td>18.0</td>\n",
       "      <td>55.0</td>\n",
       "      <td>12.0</td>\n",
       "      <td>771.97</td>\n",
       "      <td>61.4</td>\n",
       "      <td>7.2</td>\n",
       "      <td>35.941406</td>\n",
       "      <td>33.183594</td>\n",
       "      <td>...</td>\n",
       "      <td>0.484375</td>\n",
       "      <td>4.027344</td>\n",
       "      <td>0.292969</td>\n",
       "      <td>0.222656</td>\n",
       "      <td>0.121094</td>\n",
       "      <td>0.175781</td>\n",
       "      <td>0.011719</td>\n",
       "      <td>0.578125</td>\n",
       "      <td>1.593750</td>\n",
       "      <td>0.828125</td>\n",
       "    </tr>\n",
       "    <tr>\n",
       "      <th>3</th>\n",
       "      <td>3</td>\n",
       "      <td>SAKR4</td>\n",
       "      <td>18.0</td>\n",
       "      <td>55.0</td>\n",
       "      <td>12.0</td>\n",
       "      <td>771.97</td>\n",
       "      <td>61.4</td>\n",
       "      <td>7.2</td>\n",
       "      <td>39.359375</td>\n",
       "      <td>30.535156</td>\n",
       "      <td>...</td>\n",
       "      <td>0.394531</td>\n",
       "      <td>4.113281</td>\n",
       "      <td>0.363281</td>\n",
       "      <td>0.207031</td>\n",
       "      <td>0.109375</td>\n",
       "      <td>0.191406</td>\n",
       "      <td>0.027344</td>\n",
       "      <td>0.671875</td>\n",
       "      <td>1.234375</td>\n",
       "      <td>0.875000</td>\n",
       "    </tr>\n",
       "    <tr>\n",
       "      <th>4</th>\n",
       "      <td>4</td>\n",
       "      <td>SAKR5</td>\n",
       "      <td>18.0</td>\n",
       "      <td>55.0</td>\n",
       "      <td>12.0</td>\n",
       "      <td>771.97</td>\n",
       "      <td>61.4</td>\n",
       "      <td>7.2</td>\n",
       "      <td>35.074219</td>\n",
       "      <td>33.347656</td>\n",
       "      <td>...</td>\n",
       "      <td>0.363281</td>\n",
       "      <td>4.449219</td>\n",
       "      <td>0.269531</td>\n",
       "      <td>0.253906</td>\n",
       "      <td>0.117188</td>\n",
       "      <td>0.250000</td>\n",
       "      <td>0.015625</td>\n",
       "      <td>0.628906</td>\n",
       "      <td>1.546875</td>\n",
       "      <td>0.882812</td>\n",
       "    </tr>\n",
       "  </tbody>\n",
       "</table>\n",
       "<p>5 rows × 29 columns</p>\n",
       "</div>"
      ],
      "text/plain": [
       "   Unnamed: 0 Sample ID  Sampling month average  Sampling month  SRTd     COD  \\\n",
       "0           0     SAKR1                    18.0            55.0  12.0  771.97   \n",
       "1           1     SAKR2                    18.0            55.0  12.0  771.97   \n",
       "2           2     SAKR3                    18.0            55.0  12.0  771.97   \n",
       "3           3     SAKR4                    18.0            55.0  12.0  771.97   \n",
       "4           4     SAKR5                    18.0            55.0  12.0  771.97   \n",
       "\n",
       "   NH4N   TP  Proteobacteria  Bacteroidota  ...  Actinobacteriota  \\\n",
       "0  61.4  7.2       40.320312     29.988281  ...          0.308594   \n",
       "1  61.4  7.2       37.351562     31.402344  ...          0.417969   \n",
       "2  61.4  7.2       35.941406     33.183594  ...          0.484375   \n",
       "3  61.4  7.2       39.359375     30.535156  ...          0.394531   \n",
       "4  61.4  7.2       35.074219     33.347656  ...          0.363281   \n",
       "\n",
       "   Acidobacteriota  Desulfobacterota  Dependentiae  Cyanobacteria  \\\n",
       "0         3.945312          0.320312      0.175781       0.156250   \n",
       "1         4.082031          0.347656      0.191406       0.117188   \n",
       "2         4.027344          0.292969      0.222656       0.121094   \n",
       "3         4.113281          0.363281      0.207031       0.109375   \n",
       "4         4.449219          0.269531      0.253906       0.117188   \n",
       "\n",
       "   Spirochaetota  Nanoarchaeota  Elusimicrobiota  \\\n",
       "0       0.160156       0.023438         0.652344   \n",
       "1       0.187500       0.000000         0.554688   \n",
       "2       0.175781       0.011719         0.578125   \n",
       "3       0.191406       0.027344         0.671875   \n",
       "4       0.250000       0.015625         0.628906   \n",
       "\n",
       "   SAR324 clade(Marine group B)  Armatimonadota  \n",
       "0                      1.351562        0.738281  \n",
       "1                      1.605469        1.031250  \n",
       "2                      1.593750        0.828125  \n",
       "3                      1.234375        0.875000  \n",
       "4                      1.546875        0.882812  \n",
       "\n",
       "[5 rows x 29 columns]"
      ]
     },
     "execution_count": 4,
     "metadata": {},
     "output_type": "execute_result"
    }
   ],
   "source": [
    "df.head()"
   ]
  },
  {
   "cell_type": "code",
   "execution_count": 5,
   "id": "7b3eb192",
   "metadata": {},
   "outputs": [
    {
     "data": {
      "text/plain": [
       "(1186, 29)"
      ]
     },
     "execution_count": 5,
     "metadata": {},
     "output_type": "execute_result"
    }
   ],
   "source": [
    "df.shape"
   ]
  },
  {
   "cell_type": "code",
   "execution_count": 6,
   "id": "d7add247",
   "metadata": {},
   "outputs": [
    {
     "data": {
      "text/plain": [
       "Index(['Unnamed: 0', 'Sample ID', 'Sampling month average', 'Sampling month',\n",
       "       'SRTd', 'COD', 'NH4N', 'TP', 'Proteobacteria', 'Bacteroidota',\n",
       "       'Patescibacteria', 'Unclassified', 'Firmicutes', 'Planctomycetota',\n",
       "       'Verrucomicrobiota', 'Chloroflexi', 'Myxococcota', 'Others',\n",
       "       'Bdellovibrionota', 'Actinobacteriota', 'Acidobacteriota',\n",
       "       'Desulfobacterota', 'Dependentiae', 'Cyanobacteria', 'Spirochaetota',\n",
       "       'Nanoarchaeota', 'Elusimicrobiota', 'SAR324 clade(Marine group B)',\n",
       "       'Armatimonadota'],\n",
       "      dtype='object')"
      ]
     },
     "execution_count": 6,
     "metadata": {},
     "output_type": "execute_result"
    }
   ],
   "source": [
    "df.columns"
   ]
  },
  {
   "cell_type": "code",
   "execution_count": 8,
   "id": "8897fab3",
   "metadata": {},
   "outputs": [],
   "source": [
    "features = ['Sampling month average', 'Sampling month','SRTd', 'COD', 'NH4N', 'TP']\n",
    "targets = ['Proteobacteria', 'Bacteroidota',\n",
    "       'Patescibacteria', 'Unclassified', 'Firmicutes', 'Planctomycetota',\n",
    "       'Verrucomicrobiota', 'Chloroflexi', 'Myxococcota', 'Others',\n",
    "       'Bdellovibrionota', 'Actinobacteriota', 'Acidobacteriota',\n",
    "       'Desulfobacterota', 'Dependentiae', 'Cyanobacteria', 'Spirochaetota',\n",
    "       'Nanoarchaeota', 'Elusimicrobiota', 'SAR324 clade(Marine group B)',\n",
    "       'Armatimonadota']"
   ]
  },
  {
   "cell_type": "markdown",
   "id": "ce86763e",
   "metadata": {},
   "source": [
    "**简单的EDA**"
   ]
  },
  {
   "cell_type": "code",
   "execution_count": 9,
   "id": "973a96e6",
   "metadata": {},
   "outputs": [
    {
     "data": {
      "text/plain": [
       "Unnamed: 0                        0\n",
       "Sample ID                         0\n",
       "Sampling month average          132\n",
       "Sampling month                   23\n",
       "SRTd                            342\n",
       "COD                             577\n",
       "NH4N                            430\n",
       "TP                              583\n",
       "Proteobacteria                    0\n",
       "Bacteroidota                      0\n",
       "Patescibacteria                   0\n",
       "Unclassified                      0\n",
       "Firmicutes                        0\n",
       "Planctomycetota                   0\n",
       "Verrucomicrobiota                 0\n",
       "Chloroflexi                       0\n",
       "Myxococcota                       0\n",
       "Others                            0\n",
       "Bdellovibrionota                  0\n",
       "Actinobacteriota                  0\n",
       "Acidobacteriota                   0\n",
       "Desulfobacterota                  0\n",
       "Dependentiae                      0\n",
       "Cyanobacteria                     0\n",
       "Spirochaetota                     0\n",
       "Nanoarchaeota                     0\n",
       "Elusimicrobiota                   0\n",
       "SAR324 clade(Marine group B)      0\n",
       "Armatimonadota                    0\n",
       "dtype: int64"
      ]
     },
     "execution_count": 9,
     "metadata": {},
     "output_type": "execute_result"
    }
   ],
   "source": [
    "df.isnull().sum()"
   ]
  },
  {
   "cell_type": "markdown",
   "id": "30d5f284",
   "metadata": {},
   "source": [
    "我们看到预测目标里面没有NA， 不过features里面有NA. "
   ]
  },
  {
   "cell_type": "markdown",
   "id": "df8d9eec",
   "metadata": {},
   "source": [
    "部分features的空值较多，还不能直接drop. "
   ]
  },
  {
   "cell_type": "markdown",
   "id": "d2d35d9c",
   "metadata": {},
   "source": [
    "考虑给空值部分填充均值。"
   ]
  },
  {
   "cell_type": "markdown",
   "id": "ada95988",
   "metadata": {},
   "source": [
    "分拆数据"
   ]
  },
  {
   "cell_type": "code",
   "execution_count": 10,
   "id": "a5f1646d",
   "metadata": {},
   "outputs": [],
   "source": [
    "from sklearn.model_selection import train_test_split"
   ]
  },
  {
   "cell_type": "code",
   "execution_count": 11,
   "id": "ec341593",
   "metadata": {},
   "outputs": [
    {
     "name": "stdout",
     "output_type": "stream",
     "text": [
      "Train and Test Size 948, 238\n"
     ]
    }
   ],
   "source": [
    "# Splitting the datasets into training and testing data.\n",
    "train_data, test_data = train_test_split(df, train_size=0.8, test_size=0.2, shuffle=False)\n",
    "\n",
    "# Output the train and test data size\n",
    "print(f\"Train and Test Size {len(train_data)}, {len(test_data)}\")"
   ]
  },
  {
   "cell_type": "markdown",
   "id": "bcc8f016",
   "metadata": {},
   "source": [
    "在train data 部分曲均值"
   ]
  },
  {
   "cell_type": "code",
   "execution_count": 12,
   "id": "aa73a73c",
   "metadata": {},
   "outputs": [
    {
     "data": {
      "text/plain": [
       "Sampling month average     23.154379\n",
       "Sampling month            115.381081\n",
       "SRTd                       15.258321\n",
       "COD                       430.108594\n",
       "NH4N                       26.645109\n",
       "TP                          6.274391\n",
       "dtype: float64"
      ]
     },
     "execution_count": 12,
     "metadata": {},
     "output_type": "execute_result"
    }
   ],
   "source": [
    "train_data[features].mean()"
   ]
  },
  {
   "cell_type": "markdown",
   "id": "fb7cc78f",
   "metadata": {},
   "source": [
    "用这部均值填充NA数据"
   ]
  },
  {
   "cell_type": "code",
   "execution_count": 13,
   "id": "28e71bd6",
   "metadata": {},
   "outputs": [],
   "source": [
    "df['Sampling month average'].fillna(23.154379, inplace = True)\n",
    "df['Sampling month'].fillna(115.381081, inplace = True)\n",
    "df['SRTd'].fillna(15.258321, inplace = True)\n",
    "df['COD'].fillna(430.108594, inplace = True)\n",
    "df['NH4N'].fillna(26.645109, inplace = True)\n",
    "df['TP'].fillna(6.274391, inplace = True)"
   ]
  },
  {
   "cell_type": "markdown",
   "id": "74a178e0",
   "metadata": {},
   "source": [
    "检查NA"
   ]
  },
  {
   "cell_type": "code",
   "execution_count": 14,
   "id": "cfea83fd",
   "metadata": {},
   "outputs": [
    {
     "data": {
      "text/plain": [
       "Unnamed: 0                      0\n",
       "Sample ID                       0\n",
       "Sampling month average          0\n",
       "Sampling month                  0\n",
       "SRTd                            0\n",
       "COD                             0\n",
       "NH4N                            0\n",
       "TP                              0\n",
       "Proteobacteria                  0\n",
       "Bacteroidota                    0\n",
       "Patescibacteria                 0\n",
       "Unclassified                    0\n",
       "Firmicutes                      0\n",
       "Planctomycetota                 0\n",
       "Verrucomicrobiota               0\n",
       "Chloroflexi                     0\n",
       "Myxococcota                     0\n",
       "Others                          0\n",
       "Bdellovibrionota                0\n",
       "Actinobacteriota                0\n",
       "Acidobacteriota                 0\n",
       "Desulfobacterota                0\n",
       "Dependentiae                    0\n",
       "Cyanobacteria                   0\n",
       "Spirochaetota                   0\n",
       "Nanoarchaeota                   0\n",
       "Elusimicrobiota                 0\n",
       "SAR324 clade(Marine group B)    0\n",
       "Armatimonadota                  0\n",
       "dtype: int64"
      ]
     },
     "execution_count": 14,
     "metadata": {},
     "output_type": "execute_result"
    }
   ],
   "source": [
    "df.isnull().sum()"
   ]
  },
  {
   "cell_type": "markdown",
   "id": "1306a77f",
   "metadata": {},
   "source": [
    "重定义训练和测试集"
   ]
  },
  {
   "cell_type": "code",
   "execution_count": 15,
   "id": "71a9ac1a",
   "metadata": {},
   "outputs": [
    {
     "name": "stdout",
     "output_type": "stream",
     "text": [
      "Train and Test Size 948, 238\n"
     ]
    }
   ],
   "source": [
    "# Splitting the datasets into training and testing data.\n",
    "train_data, test_data = train_test_split(df, train_size=0.8, test_size=0.2, shuffle=False)\n",
    "\n",
    "# Output the train and test data size\n",
    "print(f\"Train and Test Size {len(train_data)}, {len(test_data)}\")"
   ]
  },
  {
   "cell_type": "markdown",
   "id": "04470613",
   "metadata": {},
   "source": [
    "**建模**"
   ]
  },
  {
   "cell_type": "code",
   "execution_count": 16,
   "id": "8d7a9eba",
   "metadata": {},
   "outputs": [],
   "source": [
    "from sklearn import linear_model \n",
    "from sklearn.pipeline import Pipeline\n",
    "from sklearn.preprocessing import StandardScaler\n",
    "from sklearn.linear_model import Ridge #导入岭回归模型\n",
    "from sklearn.linear_model import SGDRegressor\n",
    "# XGBoost Classifier\n",
    "from xgboost import XGBClassifier, XGBRegressor\n",
    "from sklearn.ensemble import RandomForestRegressor\n",
    "from sklearn.neighbors import KNeighborsRegressor"
   ]
  },
  {
   "cell_type": "code",
   "execution_count": 17,
   "id": "ac36646e",
   "metadata": {},
   "outputs": [],
   "source": [
    "X_train = train_data[features]\n",
    "y_train = train_data[targets]\n",
    "X_test = test_data[features]\n",
    "y_test = test_data[targets]"
   ]
  },
  {
   "cell_type": "code",
   "execution_count": 18,
   "id": "5b565dfc",
   "metadata": {},
   "outputs": [],
   "source": [
    "neigh = KNeighborsRegressor(n_neighbors=20)"
   ]
  },
  {
   "cell_type": "code",
   "execution_count": 19,
   "id": "26cec117",
   "metadata": {},
   "outputs": [],
   "source": [
    "model = Pipeline([\n",
    "    ('scaler', StandardScaler()),\n",
    "    ('regressor', neigh)\n",
    "])"
   ]
  },
  {
   "cell_type": "markdown",
   "id": "74bceacd",
   "metadata": {},
   "source": [
    "训练模型"
   ]
  },
  {
   "cell_type": "code",
   "execution_count": 20,
   "id": "48387400",
   "metadata": {},
   "outputs": [
    {
     "name": "stdout",
     "output_type": "stream",
     "text": [
      "R^2 Train: 0.3591\n"
     ]
    }
   ],
   "source": [
    "model.fit(X_train, y_train)\n",
    "print(f'R^2 Train: {model.score(X_train, y_train):0.4}')"
   ]
  },
  {
   "cell_type": "markdown",
   "id": "798d0ac1",
   "metadata": {},
   "source": [
    "利用训练好的模型做测试"
   ]
  },
  {
   "cell_type": "code",
   "execution_count": 21,
   "id": "815fe277",
   "metadata": {},
   "outputs": [],
   "source": [
    "y_preds = model.predict(X_test)"
   ]
  },
  {
   "cell_type": "code",
   "execution_count": 22,
   "id": "70d63970",
   "metadata": {},
   "outputs": [
    {
     "data": {
      "text/plain": [
       "array([[32.88339844, 33.16191406,  2.11367188, ...,  0.22285156,\n",
       "         0.19746094,  0.23789062],\n",
       "       [37.34003906, 32.38730469,  1.58730469, ...,  0.24824219,\n",
       "         0.26777344,  0.27753906],\n",
       "       [37.34003906, 32.38730469,  1.58730469, ...,  0.24824219,\n",
       "         0.26777344,  0.27753906],\n",
       "       ...,\n",
       "       [46.00585938, 28.79824219,  1.22578125, ...,  0.15273438,\n",
       "         0.13808594,  0.10800781],\n",
       "       [46.00585938, 28.79824219,  1.22578125, ...,  0.15273438,\n",
       "         0.13808594,  0.10800781],\n",
       "       [46.00585938, 28.79824219,  1.22578125, ...,  0.15273438,\n",
       "         0.13808594,  0.10800781]])"
      ]
     },
     "execution_count": 22,
     "metadata": {},
     "output_type": "execute_result"
    }
   ],
   "source": [
    "y_preds"
   ]
  },
  {
   "cell_type": "markdown",
   "id": "ea954879",
   "metadata": {},
   "source": [
    "**结果可视化**"
   ]
  },
  {
   "cell_type": "markdown",
   "id": "54d799c7",
   "metadata": {},
   "source": [
    "展示第一个ID的预测结果。"
   ]
  },
  {
   "cell_type": "code",
   "execution_count": 23,
   "id": "389d13c7",
   "metadata": {},
   "outputs": [
    {
     "data": {
      "text/plain": [
       "array([3.28833984e+01, 3.31619141e+01, 2.11367188e+00, 9.64453125e-01,\n",
       "       8.92187500e-01, 3.54589844e+00, 1.79960937e+00, 3.48496094e+00,\n",
       "       4.51484375e+00, 6.48359375e+00, 1.03945313e+00, 2.75175781e+00,\n",
       "       3.65234375e+00, 5.96289063e-01, 1.08593750e-01, 3.82226562e-01,\n",
       "       9.38867187e-01, 2.77343750e-02, 2.22851562e-01, 1.97460937e-01,\n",
       "       2.37890625e-01])"
      ]
     },
     "execution_count": 23,
     "metadata": {},
     "output_type": "execute_result"
    }
   ],
   "source": [
    "y_preds[0]"
   ]
  },
  {
   "cell_type": "code",
   "execution_count": 24,
   "id": "406ba69a",
   "metadata": {},
   "outputs": [
    {
     "data": {
      "text/plain": [
       "[36.31640625,\n",
       " 19.61328125,\n",
       " 2.0703125,\n",
       " 0.828125,\n",
       " 0.70703125,\n",
       " 3.0,\n",
       " 2.27734375,\n",
       " 5.046875,\n",
       " 12.75,\n",
       " 3.1875,\n",
       " 1.03125,\n",
       " 7.765625,\n",
       " 3.203125,\n",
       " 0.43359375,\n",
       " 0.0625,\n",
       " 0.21484375,\n",
       " 0.37109375,\n",
       " 0.04296875,\n",
       " 0.37109375,\n",
       " 0.3984375,\n",
       " 0.30859375]"
      ]
     },
     "execution_count": 24,
     "metadata": {},
     "output_type": "execute_result"
    }
   ],
   "source": [
    "y_test.iloc[0].tolist()"
   ]
  },
  {
   "cell_type": "code",
   "execution_count": 25,
   "id": "82965ccb",
   "metadata": {},
   "outputs": [],
   "source": [
    "c = {\"classes\":targets,\n",
    "     \"predictions\":y_preds[0],\n",
    "    \"real\":y_test.iloc[0].tolist() }"
   ]
  },
  {
   "cell_type": "code",
   "execution_count": 26,
   "id": "d63a163c",
   "metadata": {},
   "outputs": [
    {
     "data": {
      "text/html": [
       "<div>\n",
       "<style scoped>\n",
       "    .dataframe tbody tr th:only-of-type {\n",
       "        vertical-align: middle;\n",
       "    }\n",
       "\n",
       "    .dataframe tbody tr th {\n",
       "        vertical-align: top;\n",
       "    }\n",
       "\n",
       "    .dataframe thead th {\n",
       "        text-align: right;\n",
       "    }\n",
       "</style>\n",
       "<table border=\"1\" class=\"dataframe\">\n",
       "  <thead>\n",
       "    <tr style=\"text-align: right;\">\n",
       "      <th></th>\n",
       "      <th>predictions</th>\n",
       "      <th>real</th>\n",
       "    </tr>\n",
       "    <tr>\n",
       "      <th>classes</th>\n",
       "      <th></th>\n",
       "      <th></th>\n",
       "    </tr>\n",
       "  </thead>\n",
       "  <tbody>\n",
       "    <tr>\n",
       "      <th>Proteobacteria</th>\n",
       "      <td>32.883398</td>\n",
       "      <td>36.316406</td>\n",
       "    </tr>\n",
       "    <tr>\n",
       "      <th>Bacteroidota</th>\n",
       "      <td>33.161914</td>\n",
       "      <td>19.613281</td>\n",
       "    </tr>\n",
       "    <tr>\n",
       "      <th>Patescibacteria</th>\n",
       "      <td>2.113672</td>\n",
       "      <td>2.070312</td>\n",
       "    </tr>\n",
       "    <tr>\n",
       "      <th>Unclassified</th>\n",
       "      <td>0.964453</td>\n",
       "      <td>0.828125</td>\n",
       "    </tr>\n",
       "    <tr>\n",
       "      <th>Firmicutes</th>\n",
       "      <td>0.892188</td>\n",
       "      <td>0.707031</td>\n",
       "    </tr>\n",
       "    <tr>\n",
       "      <th>Planctomycetota</th>\n",
       "      <td>3.545898</td>\n",
       "      <td>3.000000</td>\n",
       "    </tr>\n",
       "    <tr>\n",
       "      <th>Verrucomicrobiota</th>\n",
       "      <td>1.799609</td>\n",
       "      <td>2.277344</td>\n",
       "    </tr>\n",
       "    <tr>\n",
       "      <th>Chloroflexi</th>\n",
       "      <td>3.484961</td>\n",
       "      <td>5.046875</td>\n",
       "    </tr>\n",
       "    <tr>\n",
       "      <th>Myxococcota</th>\n",
       "      <td>4.514844</td>\n",
       "      <td>12.750000</td>\n",
       "    </tr>\n",
       "    <tr>\n",
       "      <th>Others</th>\n",
       "      <td>6.483594</td>\n",
       "      <td>3.187500</td>\n",
       "    </tr>\n",
       "    <tr>\n",
       "      <th>Bdellovibrionota</th>\n",
       "      <td>1.039453</td>\n",
       "      <td>1.031250</td>\n",
       "    </tr>\n",
       "    <tr>\n",
       "      <th>Actinobacteriota</th>\n",
       "      <td>2.751758</td>\n",
       "      <td>7.765625</td>\n",
       "    </tr>\n",
       "    <tr>\n",
       "      <th>Acidobacteriota</th>\n",
       "      <td>3.652344</td>\n",
       "      <td>3.203125</td>\n",
       "    </tr>\n",
       "    <tr>\n",
       "      <th>Desulfobacterota</th>\n",
       "      <td>0.596289</td>\n",
       "      <td>0.433594</td>\n",
       "    </tr>\n",
       "    <tr>\n",
       "      <th>Dependentiae</th>\n",
       "      <td>0.108594</td>\n",
       "      <td>0.062500</td>\n",
       "    </tr>\n",
       "    <tr>\n",
       "      <th>Cyanobacteria</th>\n",
       "      <td>0.382227</td>\n",
       "      <td>0.214844</td>\n",
       "    </tr>\n",
       "    <tr>\n",
       "      <th>Spirochaetota</th>\n",
       "      <td>0.938867</td>\n",
       "      <td>0.371094</td>\n",
       "    </tr>\n",
       "    <tr>\n",
       "      <th>Nanoarchaeota</th>\n",
       "      <td>0.027734</td>\n",
       "      <td>0.042969</td>\n",
       "    </tr>\n",
       "    <tr>\n",
       "      <th>Elusimicrobiota</th>\n",
       "      <td>0.222852</td>\n",
       "      <td>0.371094</td>\n",
       "    </tr>\n",
       "    <tr>\n",
       "      <th>SAR324 clade(Marine group B)</th>\n",
       "      <td>0.197461</td>\n",
       "      <td>0.398438</td>\n",
       "    </tr>\n",
       "    <tr>\n",
       "      <th>Armatimonadota</th>\n",
       "      <td>0.237891</td>\n",
       "      <td>0.308594</td>\n",
       "    </tr>\n",
       "  </tbody>\n",
       "</table>\n",
       "</div>"
      ],
      "text/plain": [
       "                              predictions       real\n",
       "classes                                             \n",
       "Proteobacteria                  32.883398  36.316406\n",
       "Bacteroidota                    33.161914  19.613281\n",
       "Patescibacteria                  2.113672   2.070312\n",
       "Unclassified                     0.964453   0.828125\n",
       "Firmicutes                       0.892188   0.707031\n",
       "Planctomycetota                  3.545898   3.000000\n",
       "Verrucomicrobiota                1.799609   2.277344\n",
       "Chloroflexi                      3.484961   5.046875\n",
       "Myxococcota                      4.514844  12.750000\n",
       "Others                           6.483594   3.187500\n",
       "Bdellovibrionota                 1.039453   1.031250\n",
       "Actinobacteriota                 2.751758   7.765625\n",
       "Acidobacteriota                  3.652344   3.203125\n",
       "Desulfobacterota                 0.596289   0.433594\n",
       "Dependentiae                     0.108594   0.062500\n",
       "Cyanobacteria                    0.382227   0.214844\n",
       "Spirochaetota                    0.938867   0.371094\n",
       "Nanoarchaeota                    0.027734   0.042969\n",
       "Elusimicrobiota                  0.222852   0.371094\n",
       "SAR324 clade(Marine group B)     0.197461   0.398438\n",
       "Armatimonadota                   0.237891   0.308594"
      ]
     },
     "execution_count": 26,
     "metadata": {},
     "output_type": "execute_result"
    }
   ],
   "source": [
    "com = pd.DataFrame(c)\n",
    "com = com.set_index('classes')\n",
    "com"
   ]
  },
  {
   "cell_type": "markdown",
   "id": "5ed907aa",
   "metadata": {},
   "source": [
    "预测和实际结果的柱状图对比"
   ]
  },
  {
   "cell_type": "code",
   "execution_count": 27,
   "id": "76b0bfd5",
   "metadata": {},
   "outputs": [
    {
     "data": {
      "image/png": "[encoded data removed]",
      "text/plain": [
       "<Figure size 2000x500 with 1 Axes>"
      ]
     },
     "metadata": {},
     "output_type": "display_data"
    }
   ],
   "source": [
    "com.plot(kind='bar',figsize=(20,5));"
   ]
  },
  {
   "cell_type": "markdown",
   "id": "54332a7d",
   "metadata": {},
   "source": [
    "预测和实际结果的散点图对比。"
   ]
  },
  {
   "cell_type": "code",
   "execution_count": 28,
   "id": "5638feb1",
   "metadata": {},
   "outputs": [
    {
     "data": {
      "image/png": "[encoded data removed]",
      "text/plain": [
       "<Figure size 2000x500 with 1 Axes>"
      ]
     },
     "metadata": {},
     "output_type": "display_data"
    }
   ],
   "source": [
    "com.plot(kind='line',style='--o',figsize=(20,5));"
   ]
  },
  {
   "cell_type": "markdown",
   "id": "e8ba71be",
   "metadata": {},
   "source": [
    "上面是第一个预测结果和实际结果的对比，修改参数可以对比其他列。也可以汇总对比均值。"
   ]
  },
  {
   "cell_type": "markdown",
   "id": "a5082093",
   "metadata": {},
   "source": [
    "**模型评估**"
   ]
  },
  {
   "cell_type": "markdown",
   "id": "a6231845",
   "metadata": {},
   "source": [
    "训练集部分"
   ]
  },
  {
   "cell_type": "markdown",
   "id": "b0387a09",
   "metadata": {},
   "source": [
    "R^2"
   ]
  },
  {
   "cell_type": "code",
   "execution_count": 29,
   "id": "2dfb98f0",
   "metadata": {},
   "outputs": [
    {
     "name": "stdout",
     "output_type": "stream",
     "text": [
      "R^2 Train: 0.3591\n"
     ]
    }
   ],
   "source": [
    "print(f'R^2 Train: {model.score(X_train, y_train):0.4}')"
   ]
  },
  {
   "cell_type": "code",
   "execution_count": 30,
   "id": "e7dc6970",
   "metadata": {},
   "outputs": [],
   "source": [
    "from sklearn import metrics"
   ]
  },
  {
   "cell_type": "markdown",
   "id": "89698394",
   "metadata": {},
   "source": [
    "训练集的MSE"
   ]
  },
  {
   "cell_type": "code",
   "execution_count": 31,
   "id": "7c46ffb3",
   "metadata": {},
   "outputs": [
    {
     "data": {
      "text/plain": [
       "6.79344291278486"
      ]
     },
     "execution_count": 31,
     "metadata": {},
     "output_type": "execute_result"
    }
   ],
   "source": [
    "y_preds2 = model.predict(X_train)\n",
    "metrics.mean_squared_error(y_train, y_preds2)"
   ]
  },
  {
   "cell_type": "markdown",
   "id": "d3bbea5d",
   "metadata": {},
   "source": [
    "测试集部分"
   ]
  },
  {
   "cell_type": "code",
   "execution_count": 32,
   "id": "a2b00aef",
   "metadata": {},
   "outputs": [
    {
     "data": {
      "text/plain": [
       "15.779180667933677"
      ]
     },
     "execution_count": 32,
     "metadata": {},
     "output_type": "execute_result"
    }
   ],
   "source": [
    "MSE = metrics.mean_squared_error(y_test, y_preds)\n",
    "MSE"
   ]
  },
  {
   "cell_type": "code",
   "execution_count": 33,
   "id": "b1c02fdb",
   "metadata": {},
   "outputs": [
    {
     "data": {
      "text/plain": [
       "3.972301683902379"
      ]
     },
     "execution_count": 33,
     "metadata": {},
     "output_type": "execute_result"
    }
   ],
   "source": [
    "RMSE = metrics.mean_squared_error(y_test, y_preds)**0.5\n",
    "RMSE"
   ]
  },
  {
   "cell_type": "code",
   "execution_count": 34,
   "id": "e90edce7",
   "metadata": {},
   "outputs": [
    {
     "data": {
      "text/plain": [
       "1.753000028136255"
      ]
     },
     "execution_count": 34,
     "metadata": {},
     "output_type": "execute_result"
    }
   ],
   "source": [
    "MAE = metrics.mean_absolute_error(y_test, y_preds)\n",
    "MAE"
   ]
  },
  {
   "cell_type": "code",
   "execution_count": 35,
   "id": "81b96789",
   "metadata": {},
   "outputs": [
    {
     "data": {
      "text/plain": [
       "26079764639498.63"
      ]
     },
     "execution_count": 35,
     "metadata": {},
     "output_type": "execute_result"
    }
   ],
   "source": [
    "MAPE = metrics.mean_absolute_percentage_error(y_test, y_preds)\n",
    "MAPE"
   ]
  },
  {
   "cell_type": "markdown",
   "id": "b4f311f4",
   "metadata": {},
   "source": [
    "# 调参和优化"
   ]
  },
  {
   "cell_type": "code",
   "execution_count": 36,
   "id": "3bc03bb3",
   "metadata": {},
   "outputs": [],
   "source": [
    "from sklearn.model_selection import train_test_split, TimeSeriesSplit, GridSearchCV"
   ]
  },
  {
   "cell_type": "code",
   "execution_count": 37,
   "id": "b2736899",
   "metadata": {},
   "outputs": [],
   "source": [
    "# Cross-validation\n",
    "tscv = TimeSeriesSplit(n_splits=5)"
   ]
  },
  {
   "cell_type": "code",
   "execution_count": 38,
   "id": "ff0bfc46",
   "metadata": {},
   "outputs": [
    {
     "data": {
      "text/plain": [
       "{'memory': None,\n",
       " 'steps': [('scaler', StandardScaler()),\n",
       "  ('regressor', KNeighborsRegressor(n_neighbors=20))],\n",
       " 'verbose': False,\n",
       " 'scaler': StandardScaler(),\n",
       " 'regressor': KNeighborsRegressor(n_neighbors=20),\n",
       " 'scaler__copy': True,\n",
       " 'scaler__with_mean': True,\n",
       " 'scaler__with_std': True,\n",
       " 'regressor__algorithm': 'auto',\n",
       " 'regressor__leaf_size': 30,\n",
       " 'regressor__metric': 'minkowski',\n",
       " 'regressor__metric_params': None,\n",
       " 'regressor__n_jobs': None,\n",
       " 'regressor__n_neighbors': 20,\n",
       " 'regressor__p': 2,\n",
       " 'regressor__weights': 'uniform'}"
      ]
     },
     "execution_count": 38,
     "metadata": {},
     "output_type": "execute_result"
    }
   ],
   "source": [
    "# Get parameters list\n",
    "model.get_params()"
   ]
  },
  {
   "cell_type": "code",
   "execution_count": 39,
   "id": "4ccbd156",
   "metadata": {},
   "outputs": [],
   "source": [
    "# Perform Gridsearch and fit\n",
    "param_grid = {\"regressor__n_neighbors\": [2, 4, 6, 8, 10,12,14,16,18,20,22,24,26,28,30]}"
   ]
  },
  {
   "cell_type": "code",
   "execution_count": 40,
   "id": "1e14aa67",
   "metadata": {},
   "outputs": [
    {
     "name": "stdout",
     "output_type": "stream",
     "text": [
      "Fitting 5 folds for each of 15 candidates, totalling 75 fits\n"
     ]
    },
    {
     "data": {
      "text/plain": [
       "GridSearchCV(cv=TimeSeriesSplit(gap=0, max_train_size=None, n_splits=5, test_size=None),\n",
       "             estimator=Pipeline(steps=[('scaler', StandardScaler()),\n",
       "                                       ('regressor',\n",
       "                                        KNeighborsRegressor(n_neighbors=20))]),\n",
       "             n_jobs=-1,\n",
       "             param_grid={'regressor__n_neighbors': [2, 4, 6, 8, 10, 12, 14, 16,\n",
       "                                                    18, 20, 22, 24, 26, 28,\n",
       "                                                    30]},\n",
       "             verbose=1)"
      ]
     },
     "execution_count": 40,
     "metadata": {},
     "output_type": "execute_result"
    }
   ],
   "source": [
    "gs = GridSearchCV(model, param_grid, n_jobs=-1, cv=tscv, verbose=1)\n",
    "gs.fit(X_train, y_train)"
   ]
  },
  {
   "cell_type": "code",
   "execution_count": 41,
   "id": "6eb6b6cd",
   "metadata": {},
   "outputs": [
    {
     "data": {
      "text/plain": [
       "Pipeline(steps=[('scaler', StandardScaler()),\n",
       "                ('regressor', KNeighborsRegressor(n_neighbors=12))])"
      ]
     },
     "execution_count": 41,
     "metadata": {},
     "output_type": "execute_result"
    }
   ],
   "source": [
    "# Best Estimator\n",
    "gs.best_estimator_"
   ]
  },
  {
   "cell_type": "code",
   "execution_count": 42,
   "id": "95c57a84",
   "metadata": {},
   "outputs": [
    {
     "name": "stdout",
     "output_type": "stream",
     "text": [
      "R^2 Train: 0.4824\n"
     ]
    }
   ],
   "source": [
    "print(f'R^2 Train: {gs.score(X_train, y_train):0.4}')"
   ]
  },
  {
   "cell_type": "markdown",
   "id": "dbb9a554",
   "metadata": {},
   "source": [
    "用最优化的参数，r方变大了。"
   ]
  },
  {
   "cell_type": "code",
   "execution_count": 43,
   "id": "d2df4153",
   "metadata": {},
   "outputs": [],
   "source": [
    "y_preds1 = gs.predict(X_test)"
   ]
  },
  {
   "cell_type": "code",
   "execution_count": 44,
   "id": "7376e866",
   "metadata": {},
   "outputs": [
    {
     "data": {
      "text/plain": [
       "18.2139129912168"
      ]
     },
     "execution_count": 44,
     "metadata": {},
     "output_type": "execute_result"
    }
   ],
   "source": [
    "MSE = metrics.mean_squared_error(y_test, y_preds1)\n",
    "MSE"
   ]
  },
  {
   "cell_type": "markdown",
   "id": "5b7a4879",
   "metadata": {},
   "source": [
    "MSE也更大。不过这个调参优化是通过了分组验证，所以能更好的避免过拟合。缺点就是，用调参后的参数，无论测试还是验证结果都偏差。最后我们确认用之前的20作为参数。"
   ]
  },
  {
   "cell_type": "markdown",
   "id": "9ad1ec8a",
   "metadata": {},
   "source": [
    "作为对比，我们打印训练集的MSE，看看差距大不大。"
   ]
  },
  {
   "cell_type": "code",
   "execution_count": 45,
   "id": "735ad9f4",
   "metadata": {},
   "outputs": [
    {
     "data": {
      "text/plain": [
       "5.361076030244077"
      ]
     },
     "execution_count": 45,
     "metadata": {},
     "output_type": "execute_result"
    }
   ],
   "source": [
    "y_preds2 = gs.predict(X_train)\n",
    "metrics.mean_squared_error(y_train, y_preds2)"
   ]
  },
  {
   "cell_type": "code",
   "execution_count": null,
   "id": "947db649",
   "metadata": {},
   "outputs": [],
   "source": []
  },
  {
   "cell_type": "code",
   "execution_count": null,
   "id": "e8b49c75",
   "metadata": {},
   "outputs": [],
   "source": []
  },
  {
   "cell_type": "code",
   "execution_count": null,
   "id": "212b6569",
   "metadata": {},
   "outputs": [],
   "source": []
  },
  {
   "cell_type": "code",
   "execution_count": null,
   "id": "592c8443",
   "metadata": {},
   "outputs": [],
   "source": []
  },
  {
   "cell_type": "code",
   "execution_count": null,
   "id": "ec2fd4e0",
   "metadata": {},
   "outputs": [],
   "source": []
  },
  {
   "cell_type": "code",
   "execution_count": null,
   "id": "7ce57a0e",
   "metadata": {},
   "outputs": [],
   "source": []
  },
  {
   "cell_type": "code",
   "execution_count": null,
   "id": "321ba573",
   "metadata": {},
   "outputs": [],
   "source": []
  },
  {
   "cell_type": "code",
   "execution_count": null,
   "id": "1538f249",
   "metadata": {},
   "outputs": [],
   "source": []
  },
  {
   "cell_type": "code",
   "execution_count": null,
   "id": "35e4a245",
   "metadata": {},
   "outputs": [],
   "source": []
  },
  {
   "cell_type": "code",
   "execution_count": null,
   "id": "5d8eb383",
   "metadata": {},
   "outputs": [],
   "source": []
  },
  {
   "cell_type": "code",
   "execution_count": null,
   "id": "cdba73d7",
   "metadata": {},
   "outputs": [],
   "source": []
  },
  {
   "cell_type": "code",
   "execution_count": null,
   "id": "a6fe136a",
   "metadata": {},
   "outputs": [],
   "source": []
  },
  {
   "cell_type": "code",
   "execution_count": null,
   "id": "4f1988c4",
   "metadata": {},
   "outputs": [],
   "source": []
  },
  {
   "cell_type": "code",
   "execution_count": null,
   "id": "d1e4d462",
   "metadata": {},
   "outputs": [],
   "source": []
  },
  {
   "cell_type": "code",
   "execution_count": null,
   "id": "6766c77f",
   "metadata": {},
   "outputs": [],
   "source": []
  },
  {
   "cell_type": "code",
   "execution_count": null,
   "id": "957475bf",
   "metadata": {},
   "outputs": [],
   "source": []
  },
  {
   "cell_type": "code",
   "execution_count": null,
   "id": "7db761af",
   "metadata": {},
   "outputs": [],
   "source": []
  }
 ],
 "metadata": {
  "kernelspec": {
   "display_name": "Python 3 (ipykernel)",
   "language": "python",
   "name": "python3"
  },
  "language_info": {
   "codemirror_mode": {
    "name": "ipython",
    "version": 3
   },
   "file_extension": ".py",
   "mimetype": "text/x-python",
   "name": "python",
   "nbconvert_exporter": "python",
   "pygments_lexer": "ipython3",
   "version": "3.9.13"
  }
 },
 "nbformat": 4,
 "nbformat_minor": 5
}
