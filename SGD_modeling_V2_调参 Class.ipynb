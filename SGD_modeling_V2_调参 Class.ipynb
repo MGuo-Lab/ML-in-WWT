{
 "cells": [
  {
   "cell_type": "markdown",
   "id": "467782f1",
   "metadata": {},
   "source": [
    "参考链接：https://scikit-learn.org/stable/modules/sgd.html"
   ]
  },
  {
   "cell_type": "markdown",
   "id": "ea3fd3a8",
   "metadata": {},
   "source": [
    "https://scikit-learn.org/stable/modules/generated/sklearn.linear_model.SGDRegressor.html"
   ]
  },
  {
   "cell_type": "markdown",
   "id": "d336a18d",
   "metadata": {},
   "source": [
    "Stochastic Gradient Descent (SGD) is a simple yet very efficient approach to fitting linear classifiers and regressors under convex loss functions such as (linear) Support Vector Machines and Logistic Regression. Even though SGD has been around in the machine learning community for a long time, it has received a considerable amount of attention just recently in the context of large-scale learning.\n",
    "\n",
    "SGD has been successfully applied to large-scale and sparse machine learning problems often encountered in text classification and natural language processing. Given that the data is sparse, the classifiers in this module easily scale to problems with more than 10^5 training examples and more than 10^5 features.\n",
    "\n",
    "Strictly speaking, SGD is merely an optimization technique and does not correspond to a specific family of machine learning models. It is only a way to train a model. Often, an instance of SGDClassifier or SGDRegressor will have an equivalent estimator in the scikit-learn API, potentially using a different optimization technique. For example, using SGDClassifier(loss='log_loss') results in logistic regression, i.e. a model equivalent to LogisticRegression which is fitted via SGD instead of being fitted by one of the other solvers in LogisticRegression. Similarly, SGDRegressor(loss='squared_error', penalty='l2') and Ridge solve the same optimization problem, via different means.\n",
    "\n",
    "The advantages of Stochastic Gradient Descent are:\n",
    "\n",
    "Efficiency.\n",
    "\n",
    "Ease of implementation (lots of opportunities for code tuning).\n",
    "\n",
    "The disadvantages of Stochastic Gradient Descent include:\n",
    "\n",
    "SGD requires a number of hyperparameters such as the regularization parameter and the number of iterations.\n",
    "\n",
    "SGD is sensitive to feature scaling."
   ]
  },
  {
   "cell_type": "markdown",
   "id": "6bee02ba",
   "metadata": {},
   "source": [
    "困难点： SGD默认支持单个输出，就是y里面只能有一个值。但是这个项目我们有多个值，可以利用MultiOutputClassifier来整合这些单个的回归。\n",
    "参考链接：https://datascience.stackexchange.com/questions/87135/valueerror-y-should-be-a-1d-array-got-an-array-of-shape-1045-5-instead#:~:text=Your%20y%20values%20%28i.e.%20the%20values%20that%20you,want%20to%20predict%20with%20the%20Naive%20Bayes%20model."
   ]
  },
  {
   "cell_type": "markdown",
   "id": "6a27eba1",
   "metadata": {},
   "source": [
    "**导入基础包**"
   ]
  },
  {
   "cell_type": "code",
   "execution_count": 1,
   "id": "4a9e3702",
   "metadata": {},
   "outputs": [],
   "source": [
    "#packages\n",
    "import pandas as pd\n",
    "import numpy as np\n",
    "\n",
    "from pylab import plt\n",
    "plt.style.use('seaborn')\n",
    "%matplotlib inline\n",
    "\n",
    "# Ignore warnings\n",
    "import warnings\n",
    "warnings.filterwarnings('ignore')"
   ]
  },
  {
   "cell_type": "markdown",
   "id": "698ddc82",
   "metadata": {},
   "source": [
    "**读取数据**"
   ]
  },
  {
   "cell_type": "code",
   "execution_count": 2,
   "id": "4379ceaa",
   "metadata": {},
   "outputs": [],
   "source": [
    "df = pd.read_csv('data_features_Class.csv') "
   ]
  },
  {
   "cell_type": "code",
   "execution_count": 3,
   "id": "4f204942",
   "metadata": {},
   "outputs": [
    {
     "data": {
      "text/html": [
       "<div>\n",
       "<style scoped>\n",
       "    .dataframe tbody tr th:only-of-type {\n",
       "        vertical-align: middle;\n",
       "    }\n",
       "\n",
       "    .dataframe tbody tr th {\n",
       "        vertical-align: top;\n",
       "    }\n",
       "\n",
       "    .dataframe thead th {\n",
       "        text-align: right;\n",
       "    }\n",
       "</style>\n",
       "<table border=\"1\" class=\"dataframe\">\n",
       "  <thead>\n",
       "    <tr style=\"text-align: right;\">\n",
       "      <th></th>\n",
       "      <th>Unnamed: 0</th>\n",
       "      <th>Sample ID</th>\n",
       "      <th>Sampling month average</th>\n",
       "      <th>Sampling month</th>\n",
       "      <th>SRTd</th>\n",
       "      <th>COD</th>\n",
       "      <th>NH4N</th>\n",
       "      <th>TP</th>\n",
       "      <th>Gammaproteobacteria</th>\n",
       "      <th>Bacteroidia</th>\n",
       "      <th>...</th>\n",
       "      <th>Vampirivibrionia</th>\n",
       "      <th>Desulfovibrionia</th>\n",
       "      <th>Negativicutes</th>\n",
       "      <th>Holophagae</th>\n",
       "      <th>Leptospirae</th>\n",
       "      <th>metagenome</th>\n",
       "      <th>Kapabacteria</th>\n",
       "      <th>Lineage IIb</th>\n",
       "      <th>Desulfobacteria</th>\n",
       "      <th>Hydrogenedentia</th>\n",
       "    </tr>\n",
       "  </thead>\n",
       "  <tbody>\n",
       "    <tr>\n",
       "      <th>0</th>\n",
       "      <td>0</td>\n",
       "      <td>SAKR1</td>\n",
       "      <td>18.0</td>\n",
       "      <td>55.0</td>\n",
       "      <td>12.0</td>\n",
       "      <td>771.97</td>\n",
       "      <td>61.4</td>\n",
       "      <td>7.2</td>\n",
       "      <td>35.535156</td>\n",
       "      <td>22.441406</td>\n",
       "      <td>...</td>\n",
       "      <td>0.054688</td>\n",
       "      <td>0.082031</td>\n",
       "      <td>0.027344</td>\n",
       "      <td>0.058594</td>\n",
       "      <td>0.144531</td>\n",
       "      <td>0.757812</td>\n",
       "      <td>0.058594</td>\n",
       "      <td>0.257812</td>\n",
       "      <td>0.003906</td>\n",
       "      <td>0.101562</td>\n",
       "    </tr>\n",
       "    <tr>\n",
       "      <th>1</th>\n",
       "      <td>1</td>\n",
       "      <td>SAKR2</td>\n",
       "      <td>18.0</td>\n",
       "      <td>55.0</td>\n",
       "      <td>12.0</td>\n",
       "      <td>771.97</td>\n",
       "      <td>61.4</td>\n",
       "      <td>7.2</td>\n",
       "      <td>32.203125</td>\n",
       "      <td>23.753906</td>\n",
       "      <td>...</td>\n",
       "      <td>0.035156</td>\n",
       "      <td>0.101562</td>\n",
       "      <td>0.023438</td>\n",
       "      <td>0.105469</td>\n",
       "      <td>0.160156</td>\n",
       "      <td>0.941406</td>\n",
       "      <td>0.066406</td>\n",
       "      <td>0.214844</td>\n",
       "      <td>0.003906</td>\n",
       "      <td>0.085938</td>\n",
       "    </tr>\n",
       "    <tr>\n",
       "      <th>2</th>\n",
       "      <td>2</td>\n",
       "      <td>SAKR3</td>\n",
       "      <td>18.0</td>\n",
       "      <td>55.0</td>\n",
       "      <td>12.0</td>\n",
       "      <td>771.97</td>\n",
       "      <td>61.4</td>\n",
       "      <td>7.2</td>\n",
       "      <td>31.246094</td>\n",
       "      <td>24.363281</td>\n",
       "      <td>...</td>\n",
       "      <td>0.035156</td>\n",
       "      <td>0.054688</td>\n",
       "      <td>0.046875</td>\n",
       "      <td>0.054688</td>\n",
       "      <td>0.167969</td>\n",
       "      <td>0.917969</td>\n",
       "      <td>0.042969</td>\n",
       "      <td>0.246094</td>\n",
       "      <td>0.000000</td>\n",
       "      <td>0.101562</td>\n",
       "    </tr>\n",
       "    <tr>\n",
       "      <th>3</th>\n",
       "      <td>3</td>\n",
       "      <td>SAKR4</td>\n",
       "      <td>18.0</td>\n",
       "      <td>55.0</td>\n",
       "      <td>12.0</td>\n",
       "      <td>771.97</td>\n",
       "      <td>61.4</td>\n",
       "      <td>7.2</td>\n",
       "      <td>34.714844</td>\n",
       "      <td>23.082031</td>\n",
       "      <td>...</td>\n",
       "      <td>0.042969</td>\n",
       "      <td>0.062500</td>\n",
       "      <td>0.066406</td>\n",
       "      <td>0.078125</td>\n",
       "      <td>0.171875</td>\n",
       "      <td>0.812500</td>\n",
       "      <td>0.078125</td>\n",
       "      <td>0.222656</td>\n",
       "      <td>0.015625</td>\n",
       "      <td>0.101562</td>\n",
       "    </tr>\n",
       "    <tr>\n",
       "      <th>4</th>\n",
       "      <td>4</td>\n",
       "      <td>SAKR5</td>\n",
       "      <td>18.0</td>\n",
       "      <td>55.0</td>\n",
       "      <td>12.0</td>\n",
       "      <td>771.97</td>\n",
       "      <td>61.4</td>\n",
       "      <td>7.2</td>\n",
       "      <td>30.414062</td>\n",
       "      <td>24.949219</td>\n",
       "      <td>...</td>\n",
       "      <td>0.039062</td>\n",
       "      <td>0.054688</td>\n",
       "      <td>0.035156</td>\n",
       "      <td>0.058594</td>\n",
       "      <td>0.226562</td>\n",
       "      <td>0.902344</td>\n",
       "      <td>0.070312</td>\n",
       "      <td>0.265625</td>\n",
       "      <td>0.000000</td>\n",
       "      <td>0.121094</td>\n",
       "    </tr>\n",
       "  </tbody>\n",
       "</table>\n",
       "<p>5 rows × 59 columns</p>\n",
       "</div>"
      ],
      "text/plain": [
       "   Unnamed: 0 Sample ID  Sampling month average  Sampling month  SRTd     COD  \\\n",
       "0           0     SAKR1                    18.0            55.0  12.0  771.97   \n",
       "1           1     SAKR2                    18.0            55.0  12.0  771.97   \n",
       "2           2     SAKR3                    18.0            55.0  12.0  771.97   \n",
       "3           3     SAKR4                    18.0            55.0  12.0  771.97   \n",
       "4           4     SAKR5                    18.0            55.0  12.0  771.97   \n",
       "\n",
       "   NH4N   TP  Gammaproteobacteria  Bacteroidia  ...  Vampirivibrionia  \\\n",
       "0  61.4  7.2            35.535156    22.441406  ...          0.054688   \n",
       "1  61.4  7.2            32.203125    23.753906  ...          0.035156   \n",
       "2  61.4  7.2            31.246094    24.363281  ...          0.035156   \n",
       "3  61.4  7.2            34.714844    23.082031  ...          0.042969   \n",
       "4  61.4  7.2            30.414062    24.949219  ...          0.039062   \n",
       "\n",
       "   Desulfovibrionia  Negativicutes  Holophagae  Leptospirae  metagenome  \\\n",
       "0          0.082031       0.027344    0.058594     0.144531    0.757812   \n",
       "1          0.101562       0.023438    0.105469     0.160156    0.941406   \n",
       "2          0.054688       0.046875    0.054688     0.167969    0.917969   \n",
       "3          0.062500       0.066406    0.078125     0.171875    0.812500   \n",
       "4          0.054688       0.035156    0.058594     0.226562    0.902344   \n",
       "\n",
       "   Kapabacteria  Lineage IIb  Desulfobacteria  Hydrogenedentia  \n",
       "0      0.058594     0.257812         0.003906         0.101562  \n",
       "1      0.066406     0.214844         0.003906         0.085938  \n",
       "2      0.042969     0.246094         0.000000         0.101562  \n",
       "3      0.078125     0.222656         0.015625         0.101562  \n",
       "4      0.070312     0.265625         0.000000         0.121094  \n",
       "\n",
       "[5 rows x 59 columns]"
      ]
     },
     "execution_count": 3,
     "metadata": {},
     "output_type": "execute_result"
    }
   ],
   "source": [
    "df.head()"
   ]
  },
  {
   "cell_type": "code",
   "execution_count": 4,
   "id": "7b3eb192",
   "metadata": {},
   "outputs": [
    {
     "data": {
      "text/plain": [
       "(1186, 59)"
      ]
     },
     "execution_count": 4,
     "metadata": {},
     "output_type": "execute_result"
    }
   ],
   "source": [
    "df.shape"
   ]
  },
  {
   "cell_type": "code",
   "execution_count": 5,
   "id": "d7add247",
   "metadata": {},
   "outputs": [
    {
     "data": {
      "text/plain": [
       "Index(['Unnamed: 0', 'Sample ID', 'Sampling month average', 'Sampling month',\n",
       "       'SRTd', 'COD', 'NH4N', 'TP', 'Gammaproteobacteria', 'Bacteroidia',\n",
       "       'Unclassified', 'Alphaproteobacteria', 'Others', 'Clostridia',\n",
       "       'Anaerolineae', 'Parcubacteria', 'Polyangia', 'Planctomycetes',\n",
       "       'Verrucomicrobiae', 'Bdellovibrionia', 'Chlamydiae', 'Oligoflexia',\n",
       "       'Phycisphaerae', 'Gracilibacteria', 'Actinobacteria', 'Bacilli',\n",
       "       'Microgenomatia', 'Babeliae', 'ABY1', 'Saccharimonadia',\n",
       "       'Acidimicrobiia', 'Omnitrophia', 'Cyanobacteriia', 'Acidobacteriae',\n",
       "       'Myxococcia', 'Nanoarchaeia', 'Thermoleophilia', 'Blastocatellia',\n",
       "       'OM190', 'Spirochaetia', 'Nitrospiria', 'Chloroflexia',\n",
       "       'Kiritimatiellae', 'Ignavibacteria', 'Desulfuromonadia',\n",
       "       'Campylobacteria', 'Gemmatimonadetes', 'Vicinamibacteria',\n",
       "       'Fimbriimonadia', 'Vampirivibrionia', 'Desulfovibrionia',\n",
       "       'Negativicutes', 'Holophagae', 'Leptospirae', 'metagenome',\n",
       "       'Kapabacteria', 'Lineage IIb', 'Desulfobacteria', 'Hydrogenedentia'],\n",
       "      dtype='object')"
      ]
     },
     "execution_count": 5,
     "metadata": {},
     "output_type": "execute_result"
    }
   ],
   "source": [
    "df.columns"
   ]
  },
  {
   "cell_type": "code",
   "execution_count": 6,
   "id": "8897fab3",
   "metadata": {},
   "outputs": [],
   "source": [
    "features = ['Sampling month average', 'Sampling month','SRTd', 'COD', 'NH4N', 'TP']\n",
    "targets = ['Gammaproteobacteria', 'Bacteroidia',\n",
    "       'Unclassified', 'Alphaproteobacteria', 'Others', 'Clostridia',\n",
    "       'Anaerolineae', 'Parcubacteria', 'Polyangia', 'Planctomycetes',\n",
    "       'Verrucomicrobiae', 'Bdellovibrionia', 'Chlamydiae', 'Oligoflexia',\n",
    "       'Phycisphaerae', 'Gracilibacteria', 'Actinobacteria', 'Bacilli',\n",
    "       'Microgenomatia', 'Babeliae', 'ABY1', 'Saccharimonadia',\n",
    "       'Acidimicrobiia', 'Omnitrophia', 'Cyanobacteriia', 'Acidobacteriae',\n",
    "       'Myxococcia', 'Nanoarchaeia', 'Thermoleophilia', 'Blastocatellia',\n",
    "       'OM190', 'Spirochaetia', 'Nitrospiria', 'Chloroflexia',\n",
    "       'Kiritimatiellae', 'Ignavibacteria', 'Desulfuromonadia',\n",
    "       'Campylobacteria', 'Gemmatimonadetes', 'Vicinamibacteria',\n",
    "       'Fimbriimonadia', 'Vampirivibrionia', 'Desulfovibrionia',\n",
    "       'Negativicutes', 'Holophagae', 'Leptospirae', 'metagenome',\n",
    "       'Kapabacteria', 'Lineage IIb', 'Desulfobacteria', 'Hydrogenedentia']"
   ]
  },
  {
   "cell_type": "markdown",
   "id": "ce86763e",
   "metadata": {},
   "source": [
    "**简单的EDA**"
   ]
  },
  {
   "cell_type": "code",
   "execution_count": 7,
   "id": "973a96e6",
   "metadata": {},
   "outputs": [
    {
     "data": {
      "text/plain": [
       "Unnamed: 0                  0\n",
       "Sample ID                   0\n",
       "Sampling month average    132\n",
       "Sampling month             23\n",
       "SRTd                      342\n",
       "COD                       577\n",
       "NH4N                      430\n",
       "TP                        583\n",
       "Gammaproteobacteria         0\n",
       "Bacteroidia                 0\n",
       "Unclassified                0\n",
       "Alphaproteobacteria         0\n",
       "Others                      0\n",
       "Clostridia                  0\n",
       "Anaerolineae                0\n",
       "Parcubacteria               0\n",
       "Polyangia                   0\n",
       "Planctomycetes              0\n",
       "Verrucomicrobiae            0\n",
       "Bdellovibrionia             0\n",
       "Chlamydiae                  0\n",
       "Oligoflexia                 0\n",
       "Phycisphaerae               0\n",
       "Gracilibacteria             0\n",
       "Actinobacteria              0\n",
       "Bacilli                     0\n",
       "Microgenomatia              0\n",
       "Babeliae                    0\n",
       "ABY1                        0\n",
       "Saccharimonadia             0\n",
       "Acidimicrobiia              0\n",
       "Omnitrophia                 0\n",
       "Cyanobacteriia              0\n",
       "Acidobacteriae              0\n",
       "Myxococcia                  0\n",
       "Nanoarchaeia                0\n",
       "Thermoleophilia             0\n",
       "Blastocatellia              0\n",
       "OM190                       0\n",
       "Spirochaetia                0\n",
       "Nitrospiria                 0\n",
       "Chloroflexia                0\n",
       "Kiritimatiellae             0\n",
       "Ignavibacteria              0\n",
       "Desulfuromonadia            0\n",
       "Campylobacteria             0\n",
       "Gemmatimonadetes            0\n",
       "Vicinamibacteria            0\n",
       "Fimbriimonadia              0\n",
       "Vampirivibrionia            0\n",
       "Desulfovibrionia            0\n",
       "Negativicutes               0\n",
       "Holophagae                  0\n",
       "Leptospirae                 0\n",
       "metagenome                  0\n",
       "Kapabacteria                0\n",
       "Lineage IIb                 0\n",
       "Desulfobacteria             0\n",
       "Hydrogenedentia             0\n",
       "dtype: int64"
      ]
     },
     "execution_count": 7,
     "metadata": {},
     "output_type": "execute_result"
    }
   ],
   "source": [
    "df.isnull().sum()"
   ]
  },
  {
   "cell_type": "markdown",
   "id": "30d5f284",
   "metadata": {},
   "source": [
    "我们看到预测目标里面没有NA， 不过features里面有NA. "
   ]
  },
  {
   "cell_type": "markdown",
   "id": "df8d9eec",
   "metadata": {},
   "source": [
    "部分features的空值较多，还不能直接drop. "
   ]
  },
  {
   "cell_type": "markdown",
   "id": "d2d35d9c",
   "metadata": {},
   "source": [
    "考虑给空值部分填充均值。"
   ]
  },
  {
   "cell_type": "markdown",
   "id": "ada95988",
   "metadata": {},
   "source": [
    "分拆数据"
   ]
  },
  {
   "cell_type": "code",
   "execution_count": 8,
   "id": "a5f1646d",
   "metadata": {},
   "outputs": [],
   "source": [
    "from sklearn.model_selection import train_test_split"
   ]
  },
  {
   "cell_type": "code",
   "execution_count": 9,
   "id": "ec341593",
   "metadata": {},
   "outputs": [
    {
     "name": "stdout",
     "output_type": "stream",
     "text": [
      "Train and Test Size 948, 238\n"
     ]
    }
   ],
   "source": [
    "# Splitting the datasets into training and testing data.\n",
    "train_data, test_data = train_test_split(df, train_size=0.8, test_size=0.2, shuffle=False)\n",
    "\n",
    "# Output the train and test data size\n",
    "print(f\"Train and Test Size {len(train_data)}, {len(test_data)}\")"
   ]
  },
  {
   "cell_type": "markdown",
   "id": "bcc8f016",
   "metadata": {},
   "source": [
    "在train data 部分曲均值"
   ]
  },
  {
   "cell_type": "code",
   "execution_count": 10,
   "id": "aa73a73c",
   "metadata": {},
   "outputs": [
    {
     "data": {
      "text/plain": [
       "Sampling month average     23.154379\n",
       "Sampling month            115.381081\n",
       "SRTd                       15.258321\n",
       "COD                       430.108594\n",
       "NH4N                       26.645109\n",
       "TP                          6.274391\n",
       "dtype: float64"
      ]
     },
     "execution_count": 10,
     "metadata": {},
     "output_type": "execute_result"
    }
   ],
   "source": [
    "train_data[features].mean()"
   ]
  },
  {
   "cell_type": "markdown",
   "id": "fb7cc78f",
   "metadata": {},
   "source": [
    "用这部均值填充NA数据"
   ]
  },
  {
   "cell_type": "code",
   "execution_count": 11,
   "id": "28e71bd6",
   "metadata": {},
   "outputs": [],
   "source": [
    "df['Sampling month average'].fillna(23.154379, inplace = True)\n",
    "df['Sampling month'].fillna(115.381081, inplace = True)\n",
    "df['SRTd'].fillna(15.258321, inplace = True)\n",
    "df['COD'].fillna(430.108594, inplace = True)\n",
    "df['NH4N'].fillna(26.645109, inplace = True)\n",
    "df['TP'].fillna(6.274391, inplace = True)"
   ]
  },
  {
   "cell_type": "markdown",
   "id": "74a178e0",
   "metadata": {},
   "source": [
    "检查NA"
   ]
  },
  {
   "cell_type": "code",
   "execution_count": 12,
   "id": "cfea83fd",
   "metadata": {},
   "outputs": [
    {
     "data": {
      "text/plain": [
       "Unnamed: 0                0\n",
       "Sample ID                 0\n",
       "Sampling month average    0\n",
       "Sampling month            0\n",
       "SRTd                      0\n",
       "COD                       0\n",
       "NH4N                      0\n",
       "TP                        0\n",
       "Gammaproteobacteria       0\n",
       "Bacteroidia               0\n",
       "Unclassified              0\n",
       "Alphaproteobacteria       0\n",
       "Others                    0\n",
       "Clostridia                0\n",
       "Anaerolineae              0\n",
       "Parcubacteria             0\n",
       "Polyangia                 0\n",
       "Planctomycetes            0\n",
       "Verrucomicrobiae          0\n",
       "Bdellovibrionia           0\n",
       "Chlamydiae                0\n",
       "Oligoflexia               0\n",
       "Phycisphaerae             0\n",
       "Gracilibacteria           0\n",
       "Actinobacteria            0\n",
       "Bacilli                   0\n",
       "Microgenomatia            0\n",
       "Babeliae                  0\n",
       "ABY1                      0\n",
       "Saccharimonadia           0\n",
       "Acidimicrobiia            0\n",
       "Omnitrophia               0\n",
       "Cyanobacteriia            0\n",
       "Acidobacteriae            0\n",
       "Myxococcia                0\n",
       "Nanoarchaeia              0\n",
       "Thermoleophilia           0\n",
       "Blastocatellia            0\n",
       "OM190                     0\n",
       "Spirochaetia              0\n",
       "Nitrospiria               0\n",
       "Chloroflexia              0\n",
       "Kiritimatiellae           0\n",
       "Ignavibacteria            0\n",
       "Desulfuromonadia          0\n",
       "Campylobacteria           0\n",
       "Gemmatimonadetes          0\n",
       "Vicinamibacteria          0\n",
       "Fimbriimonadia            0\n",
       "Vampirivibrionia          0\n",
       "Desulfovibrionia          0\n",
       "Negativicutes             0\n",
       "Holophagae                0\n",
       "Leptospirae               0\n",
       "metagenome                0\n",
       "Kapabacteria              0\n",
       "Lineage IIb               0\n",
       "Desulfobacteria           0\n",
       "Hydrogenedentia           0\n",
       "dtype: int64"
      ]
     },
     "execution_count": 12,
     "metadata": {},
     "output_type": "execute_result"
    }
   ],
   "source": [
    "df.isnull().sum()"
   ]
  },
  {
   "cell_type": "markdown",
   "id": "1306a77f",
   "metadata": {},
   "source": [
    "重定义训练和测试集"
   ]
  },
  {
   "cell_type": "code",
   "execution_count": 13,
   "id": "71a9ac1a",
   "metadata": {},
   "outputs": [
    {
     "name": "stdout",
     "output_type": "stream",
     "text": [
      "Train and Test Size 948, 238\n"
     ]
    }
   ],
   "source": [
    "# Splitting the datasets into training and testing data.\n",
    "train_data, test_data = train_test_split(df, train_size=0.8, test_size=0.2, shuffle=False)\n",
    "\n",
    "# Output the train and test data size\n",
    "print(f\"Train and Test Size {len(train_data)}, {len(test_data)}\")"
   ]
  },
  {
   "cell_type": "markdown",
   "id": "04470613",
   "metadata": {},
   "source": [
    "**建模**"
   ]
  },
  {
   "cell_type": "code",
   "execution_count": 14,
   "id": "8d7a9eba",
   "metadata": {},
   "outputs": [],
   "source": [
    "from sklearn import linear_model \n",
    "from sklearn.pipeline import Pipeline\n",
    "from sklearn.preprocessing import StandardScaler\n",
    "from sklearn.linear_model import Ridge #导入岭回归模型\n",
    "from sklearn.linear_model import SGDRegressor\n",
    "from sklearn.multioutput import MultiOutputRegressor"
   ]
  },
  {
   "cell_type": "code",
   "execution_count": 15,
   "id": "ac36646e",
   "metadata": {},
   "outputs": [],
   "source": [
    "X_train = train_data[features]\n",
    "y_train = train_data[targets]\n",
    "X_test = test_data[features]\n",
    "y_test = test_data[targets]"
   ]
  },
  {
   "cell_type": "code",
   "execution_count": 16,
   "id": "5b565dfc",
   "metadata": {},
   "outputs": [],
   "source": [
    "sgd =  SGDRegressor(penalty=\"elasticnet\", alpha=0.01, l1_ratio=0.25, tol=1e-4)\n",
    "msgd = MultiOutputRegressor(sgd)"
   ]
  },
  {
   "cell_type": "code",
   "execution_count": 17,
   "id": "26cec117",
   "metadata": {},
   "outputs": [],
   "source": [
    "model = Pipeline([\n",
    "    ('scaler', StandardScaler()),\n",
    "    ('regressor', msgd)\n",
    "])"
   ]
  },
  {
   "cell_type": "markdown",
   "id": "74bceacd",
   "metadata": {},
   "source": [
    "训练模型"
   ]
  },
  {
   "cell_type": "code",
   "execution_count": 18,
   "id": "48387400",
   "metadata": {},
   "outputs": [
    {
     "name": "stdout",
     "output_type": "stream",
     "text": [
      "R^2 Train: 0.09637\n"
     ]
    }
   ],
   "source": [
    "model.fit(X_train, y_train)\n",
    "print(f'R^2 Train: {model.score(X_train, y_train):0.4}')"
   ]
  },
  {
   "cell_type": "markdown",
   "id": "798d0ac1",
   "metadata": {},
   "source": [
    "利用训练好的模型做测试"
   ]
  },
  {
   "cell_type": "code",
   "execution_count": 19,
   "id": "815fe277",
   "metadata": {},
   "outputs": [],
   "source": [
    "y_preds = model.predict(X_test)"
   ]
  },
  {
   "cell_type": "code",
   "execution_count": 20,
   "id": "70d63970",
   "metadata": {},
   "outputs": [
    {
     "data": {
      "text/plain": [
       "array([[3.22768195e+01, 2.88702705e+01, 1.74118204e+00, ...,\n",
       "        5.45339387e-02, 2.92396178e-02, 8.06057966e-02],\n",
       "       [3.24122610e+01, 2.98156032e+01, 1.83676584e+00, ...,\n",
       "        4.86327994e-02, 2.73123524e-02, 8.18947841e-02],\n",
       "       [3.24122610e+01, 2.98156032e+01, 1.83676584e+00, ...,\n",
       "        4.86327994e-02, 2.73123524e-02, 8.18947841e-02],\n",
       "       ...,\n",
       "       [3.37016609e+01, 2.84767778e+01, 1.53299601e+00, ...,\n",
       "        5.39053221e-02, 2.92396178e-02, 7.81010934e-02],\n",
       "       [3.37016609e+01, 2.84767778e+01, 1.53299601e+00, ...,\n",
       "        5.39053221e-02, 2.92396178e-02, 7.81010934e-02],\n",
       "       [3.37016609e+01, 2.84767778e+01, 1.53299601e+00, ...,\n",
       "        5.39053221e-02, 2.92396178e-02, 7.81010934e-02]])"
      ]
     },
     "execution_count": 20,
     "metadata": {},
     "output_type": "execute_result"
    }
   ],
   "source": [
    "y_preds"
   ]
  },
  {
   "cell_type": "markdown",
   "id": "ea954879",
   "metadata": {},
   "source": [
    "**结果可视化**"
   ]
  },
  {
   "cell_type": "markdown",
   "id": "54d799c7",
   "metadata": {},
   "source": [
    "展示第一个ID的预测结果。"
   ]
  },
  {
   "cell_type": "code",
   "execution_count": 21,
   "id": "389d13c7",
   "metadata": {},
   "outputs": [
    {
     "data": {
      "text/plain": [
       "array([3.22768195e+01, 2.88702705e+01, 1.74118204e+00, 6.65492858e+00,\n",
       "       1.84726604e+00, 1.04267763e+00, 3.02313798e+00, 7.36711408e-01,\n",
       "       5.05072477e+00, 9.35297160e-01, 1.24305300e+00, 7.00618193e-01,\n",
       "       4.20720795e-01, 3.56589303e-01, 5.78454727e-01, 4.30446914e-01,\n",
       "       1.38583459e+00, 4.35713458e-01, 1.32573824e-01, 1.73663298e-01,\n",
       "       1.31283766e-01, 3.79440009e-01, 9.94156051e-01, 5.67108488e-02,\n",
       "       1.87108405e-01, 2.84143633e-01, 4.16217180e-01, 5.64602132e-02,\n",
       "       3.70473257e-01, 1.48211897e+00, 4.66293845e-01, 7.38495813e-02,\n",
       "       1.48999938e+00, 2.24256685e-01, 6.33603748e-02, 1.13557170e+00,\n",
       "       2.67401876e-01, 8.71583553e-01, 5.57524273e-01, 3.96504259e-01,\n",
       "       2.72000845e-01, 1.89241545e-01, 7.39983708e-02, 6.73693132e-02,\n",
       "       3.89222943e-01, 4.52686462e-01, 1.66436606e-01, 3.49361338e-01,\n",
       "       5.45339387e-02, 2.92396178e-02, 8.06057966e-02])"
      ]
     },
     "execution_count": 21,
     "metadata": {},
     "output_type": "execute_result"
    }
   ],
   "source": [
    "y_preds[0]"
   ]
  },
  {
   "cell_type": "code",
   "execution_count": 22,
   "id": "406ba69a",
   "metadata": {},
   "outputs": [
    {
     "data": {
      "text/plain": [
       "[27.25390625,\n",
       " 17.56640625,\n",
       " 1.76171875,\n",
       " 8.9609375,\n",
       " 1.875,\n",
       " 0.4921875,\n",
       " 4.35546875,\n",
       " 1.2109375,\n",
       " 12.34765625,\n",
       " 0.92578125,\n",
       " 1.578125,\n",
       " 0.41015625,\n",
       " 0.3984375,\n",
       " 0.62109375,\n",
       " 1.14453125,\n",
       " 0.17578125,\n",
       " 6.9609375,\n",
       " 0.16796875,\n",
       " 0.07421875,\n",
       " 0.0625,\n",
       " 0.1328125,\n",
       " 0.41015625,\n",
       " 0.671875,\n",
       " 0.0078125,\n",
       " 0.01171875,\n",
       " 0.46484375,\n",
       " 0.28125,\n",
       " 0.04296875,\n",
       " 0.12890625,\n",
       " 0.9921875,\n",
       " 0.89453125,\n",
       " 0.09765625,\n",
       " 1.6210937500000002,\n",
       " 0.03515625,\n",
       " 0.28125,\n",
       " 1.43359375,\n",
       " 0.140625,\n",
       " 0.14453125,\n",
       " 0.4921875,\n",
       " 0.60546875,\n",
       " 0.30859375,\n",
       " 0.19140625,\n",
       " 0.08984375,\n",
       " 0.046875,\n",
       " 1.07421875,\n",
       " 0.25,\n",
       " 0.18359375,\n",
       " 0.41796875,\n",
       " 0.15625,\n",
       " 0.015625,\n",
       " 0.03125]"
      ]
     },
     "execution_count": 22,
     "metadata": {},
     "output_type": "execute_result"
    }
   ],
   "source": [
    "y_test.iloc[0].tolist()"
   ]
  },
  {
   "cell_type": "code",
   "execution_count": 23,
   "id": "82965ccb",
   "metadata": {},
   "outputs": [],
   "source": [
    "c = {\"classes\":targets,\n",
    "     \"predictions\":y_preds[0],\n",
    "    \"real\":y_test.iloc[0].tolist() }"
   ]
  },
  {
   "cell_type": "code",
   "execution_count": 24,
   "id": "d63a163c",
   "metadata": {},
   "outputs": [
    {
     "data": {
      "text/html": [
       "<div>\n",
       "<style scoped>\n",
       "    .dataframe tbody tr th:only-of-type {\n",
       "        vertical-align: middle;\n",
       "    }\n",
       "\n",
       "    .dataframe tbody tr th {\n",
       "        vertical-align: top;\n",
       "    }\n",
       "\n",
       "    .dataframe thead th {\n",
       "        text-align: right;\n",
       "    }\n",
       "</style>\n",
       "<table border=\"1\" class=\"dataframe\">\n",
       "  <thead>\n",
       "    <tr style=\"text-align: right;\">\n",
       "      <th></th>\n",
       "      <th>predictions</th>\n",
       "      <th>real</th>\n",
       "    </tr>\n",
       "    <tr>\n",
       "      <th>classes</th>\n",
       "      <th></th>\n",
       "      <th></th>\n",
       "    </tr>\n",
       "  </thead>\n",
       "  <tbody>\n",
       "    <tr>\n",
       "      <th>Gammaproteobacteria</th>\n",
       "      <td>32.276820</td>\n",
       "      <td>27.253906</td>\n",
       "    </tr>\n",
       "    <tr>\n",
       "      <th>Bacteroidia</th>\n",
       "      <td>28.870271</td>\n",
       "      <td>17.566406</td>\n",
       "    </tr>\n",
       "    <tr>\n",
       "      <th>Unclassified</th>\n",
       "      <td>1.741182</td>\n",
       "      <td>1.761719</td>\n",
       "    </tr>\n",
       "    <tr>\n",
       "      <th>Alphaproteobacteria</th>\n",
       "      <td>6.654929</td>\n",
       "      <td>8.960938</td>\n",
       "    </tr>\n",
       "    <tr>\n",
       "      <th>Others</th>\n",
       "      <td>1.847266</td>\n",
       "      <td>1.875000</td>\n",
       "    </tr>\n",
       "    <tr>\n",
       "      <th>Clostridia</th>\n",
       "      <td>1.042678</td>\n",
       "      <td>0.492188</td>\n",
       "    </tr>\n",
       "    <tr>\n",
       "      <th>Anaerolineae</th>\n",
       "      <td>3.023138</td>\n",
       "      <td>4.355469</td>\n",
       "    </tr>\n",
       "    <tr>\n",
       "      <th>Parcubacteria</th>\n",
       "      <td>0.736711</td>\n",
       "      <td>1.210938</td>\n",
       "    </tr>\n",
       "    <tr>\n",
       "      <th>Polyangia</th>\n",
       "      <td>5.050725</td>\n",
       "      <td>12.347656</td>\n",
       "    </tr>\n",
       "    <tr>\n",
       "      <th>Planctomycetes</th>\n",
       "      <td>0.935297</td>\n",
       "      <td>0.925781</td>\n",
       "    </tr>\n",
       "    <tr>\n",
       "      <th>Verrucomicrobiae</th>\n",
       "      <td>1.243053</td>\n",
       "      <td>1.578125</td>\n",
       "    </tr>\n",
       "    <tr>\n",
       "      <th>Bdellovibrionia</th>\n",
       "      <td>0.700618</td>\n",
       "      <td>0.410156</td>\n",
       "    </tr>\n",
       "    <tr>\n",
       "      <th>Chlamydiae</th>\n",
       "      <td>0.420721</td>\n",
       "      <td>0.398438</td>\n",
       "    </tr>\n",
       "    <tr>\n",
       "      <th>Oligoflexia</th>\n",
       "      <td>0.356589</td>\n",
       "      <td>0.621094</td>\n",
       "    </tr>\n",
       "    <tr>\n",
       "      <th>Phycisphaerae</th>\n",
       "      <td>0.578455</td>\n",
       "      <td>1.144531</td>\n",
       "    </tr>\n",
       "    <tr>\n",
       "      <th>Gracilibacteria</th>\n",
       "      <td>0.430447</td>\n",
       "      <td>0.175781</td>\n",
       "    </tr>\n",
       "    <tr>\n",
       "      <th>Actinobacteria</th>\n",
       "      <td>1.385835</td>\n",
       "      <td>6.960938</td>\n",
       "    </tr>\n",
       "    <tr>\n",
       "      <th>Bacilli</th>\n",
       "      <td>0.435713</td>\n",
       "      <td>0.167969</td>\n",
       "    </tr>\n",
       "    <tr>\n",
       "      <th>Microgenomatia</th>\n",
       "      <td>0.132574</td>\n",
       "      <td>0.074219</td>\n",
       "    </tr>\n",
       "    <tr>\n",
       "      <th>Babeliae</th>\n",
       "      <td>0.173663</td>\n",
       "      <td>0.062500</td>\n",
       "    </tr>\n",
       "    <tr>\n",
       "      <th>ABY1</th>\n",
       "      <td>0.131284</td>\n",
       "      <td>0.132812</td>\n",
       "    </tr>\n",
       "    <tr>\n",
       "      <th>Saccharimonadia</th>\n",
       "      <td>0.379440</td>\n",
       "      <td>0.410156</td>\n",
       "    </tr>\n",
       "    <tr>\n",
       "      <th>Acidimicrobiia</th>\n",
       "      <td>0.994156</td>\n",
       "      <td>0.671875</td>\n",
       "    </tr>\n",
       "    <tr>\n",
       "      <th>Omnitrophia</th>\n",
       "      <td>0.056711</td>\n",
       "      <td>0.007812</td>\n",
       "    </tr>\n",
       "    <tr>\n",
       "      <th>Cyanobacteriia</th>\n",
       "      <td>0.187108</td>\n",
       "      <td>0.011719</td>\n",
       "    </tr>\n",
       "    <tr>\n",
       "      <th>Acidobacteriae</th>\n",
       "      <td>0.284144</td>\n",
       "      <td>0.464844</td>\n",
       "    </tr>\n",
       "    <tr>\n",
       "      <th>Myxococcia</th>\n",
       "      <td>0.416217</td>\n",
       "      <td>0.281250</td>\n",
       "    </tr>\n",
       "    <tr>\n",
       "      <th>Nanoarchaeia</th>\n",
       "      <td>0.056460</td>\n",
       "      <td>0.042969</td>\n",
       "    </tr>\n",
       "    <tr>\n",
       "      <th>Thermoleophilia</th>\n",
       "      <td>0.370473</td>\n",
       "      <td>0.128906</td>\n",
       "    </tr>\n",
       "    <tr>\n",
       "      <th>Blastocatellia</th>\n",
       "      <td>1.482119</td>\n",
       "      <td>0.992188</td>\n",
       "    </tr>\n",
       "    <tr>\n",
       "      <th>OM190</th>\n",
       "      <td>0.466294</td>\n",
       "      <td>0.894531</td>\n",
       "    </tr>\n",
       "    <tr>\n",
       "      <th>Spirochaetia</th>\n",
       "      <td>0.073850</td>\n",
       "      <td>0.097656</td>\n",
       "    </tr>\n",
       "    <tr>\n",
       "      <th>Nitrospiria</th>\n",
       "      <td>1.489999</td>\n",
       "      <td>1.621094</td>\n",
       "    </tr>\n",
       "    <tr>\n",
       "      <th>Chloroflexia</th>\n",
       "      <td>0.224257</td>\n",
       "      <td>0.035156</td>\n",
       "    </tr>\n",
       "    <tr>\n",
       "      <th>Kiritimatiellae</th>\n",
       "      <td>0.063360</td>\n",
       "      <td>0.281250</td>\n",
       "    </tr>\n",
       "    <tr>\n",
       "      <th>Ignavibacteria</th>\n",
       "      <td>1.135572</td>\n",
       "      <td>1.433594</td>\n",
       "    </tr>\n",
       "    <tr>\n",
       "      <th>Desulfuromonadia</th>\n",
       "      <td>0.267402</td>\n",
       "      <td>0.140625</td>\n",
       "    </tr>\n",
       "    <tr>\n",
       "      <th>Campylobacteria</th>\n",
       "      <td>0.871584</td>\n",
       "      <td>0.144531</td>\n",
       "    </tr>\n",
       "    <tr>\n",
       "      <th>Gemmatimonadetes</th>\n",
       "      <td>0.557524</td>\n",
       "      <td>0.492188</td>\n",
       "    </tr>\n",
       "    <tr>\n",
       "      <th>Vicinamibacteria</th>\n",
       "      <td>0.396504</td>\n",
       "      <td>0.605469</td>\n",
       "    </tr>\n",
       "    <tr>\n",
       "      <th>Fimbriimonadia</th>\n",
       "      <td>0.272001</td>\n",
       "      <td>0.308594</td>\n",
       "    </tr>\n",
       "    <tr>\n",
       "      <th>Vampirivibrionia</th>\n",
       "      <td>0.189242</td>\n",
       "      <td>0.191406</td>\n",
       "    </tr>\n",
       "    <tr>\n",
       "      <th>Desulfovibrionia</th>\n",
       "      <td>0.073998</td>\n",
       "      <td>0.089844</td>\n",
       "    </tr>\n",
       "    <tr>\n",
       "      <th>Negativicutes</th>\n",
       "      <td>0.067369</td>\n",
       "      <td>0.046875</td>\n",
       "    </tr>\n",
       "    <tr>\n",
       "      <th>Holophagae</th>\n",
       "      <td>0.389223</td>\n",
       "      <td>1.074219</td>\n",
       "    </tr>\n",
       "    <tr>\n",
       "      <th>Leptospirae</th>\n",
       "      <td>0.452686</td>\n",
       "      <td>0.250000</td>\n",
       "    </tr>\n",
       "    <tr>\n",
       "      <th>metagenome</th>\n",
       "      <td>0.166437</td>\n",
       "      <td>0.183594</td>\n",
       "    </tr>\n",
       "    <tr>\n",
       "      <th>Kapabacteria</th>\n",
       "      <td>0.349361</td>\n",
       "      <td>0.417969</td>\n",
       "    </tr>\n",
       "    <tr>\n",
       "      <th>Lineage IIb</th>\n",
       "      <td>0.054534</td>\n",
       "      <td>0.156250</td>\n",
       "    </tr>\n",
       "    <tr>\n",
       "      <th>Desulfobacteria</th>\n",
       "      <td>0.029240</td>\n",
       "      <td>0.015625</td>\n",
       "    </tr>\n",
       "    <tr>\n",
       "      <th>Hydrogenedentia</th>\n",
       "      <td>0.080606</td>\n",
       "      <td>0.031250</td>\n",
       "    </tr>\n",
       "  </tbody>\n",
       "</table>\n",
       "</div>"
      ],
      "text/plain": [
       "                     predictions       real\n",
       "classes                                    \n",
       "Gammaproteobacteria    32.276820  27.253906\n",
       "Bacteroidia            28.870271  17.566406\n",
       "Unclassified            1.741182   1.761719\n",
       "Alphaproteobacteria     6.654929   8.960938\n",
       "Others                  1.847266   1.875000\n",
       "Clostridia              1.042678   0.492188\n",
       "Anaerolineae            3.023138   4.355469\n",
       "Parcubacteria           0.736711   1.210938\n",
       "Polyangia               5.050725  12.347656\n",
       "Planctomycetes          0.935297   0.925781\n",
       "Verrucomicrobiae        1.243053   1.578125\n",
       "Bdellovibrionia         0.700618   0.410156\n",
       "Chlamydiae              0.420721   0.398438\n",
       "Oligoflexia             0.356589   0.621094\n",
       "Phycisphaerae           0.578455   1.144531\n",
       "Gracilibacteria         0.430447   0.175781\n",
       "Actinobacteria          1.385835   6.960938\n",
       "Bacilli                 0.435713   0.167969\n",
       "Microgenomatia          0.132574   0.074219\n",
       "Babeliae                0.173663   0.062500\n",
       "ABY1                    0.131284   0.132812\n",
       "Saccharimonadia         0.379440   0.410156\n",
       "Acidimicrobiia          0.994156   0.671875\n",
       "Omnitrophia             0.056711   0.007812\n",
       "Cyanobacteriia          0.187108   0.011719\n",
       "Acidobacteriae          0.284144   0.464844\n",
       "Myxococcia              0.416217   0.281250\n",
       "Nanoarchaeia            0.056460   0.042969\n",
       "Thermoleophilia         0.370473   0.128906\n",
       "Blastocatellia          1.482119   0.992188\n",
       "OM190                   0.466294   0.894531\n",
       "Spirochaetia            0.073850   0.097656\n",
       "Nitrospiria             1.489999   1.621094\n",
       "Chloroflexia            0.224257   0.035156\n",
       "Kiritimatiellae         0.063360   0.281250\n",
       "Ignavibacteria          1.135572   1.433594\n",
       "Desulfuromonadia        0.267402   0.140625\n",
       "Campylobacteria         0.871584   0.144531\n",
       "Gemmatimonadetes        0.557524   0.492188\n",
       "Vicinamibacteria        0.396504   0.605469\n",
       "Fimbriimonadia          0.272001   0.308594\n",
       "Vampirivibrionia        0.189242   0.191406\n",
       "Desulfovibrionia        0.073998   0.089844\n",
       "Negativicutes           0.067369   0.046875\n",
       "Holophagae              0.389223   1.074219\n",
       "Leptospirae             0.452686   0.250000\n",
       "metagenome              0.166437   0.183594\n",
       "Kapabacteria            0.349361   0.417969\n",
       "Lineage IIb             0.054534   0.156250\n",
       "Desulfobacteria         0.029240   0.015625\n",
       "Hydrogenedentia         0.080606   0.031250"
      ]
     },
     "execution_count": 24,
     "metadata": {},
     "output_type": "execute_result"
    }
   ],
   "source": [
    "com = pd.DataFrame(c)\n",
    "com = com.set_index('classes')\n",
    "com"
   ]
  },
  {
   "cell_type": "markdown",
   "id": "5ed907aa",
   "metadata": {},
   "source": [
    "预测和实际结果的柱状图对比"
   ]
  },
  {
   "cell_type": "code",
   "execution_count": 25,
   "id": "76b0bfd5",
   "metadata": {},
   "outputs": [
    {
     "data": {
      "image/png": "[encoded data removed]",
      "text/plain": [
       "<Figure size 2000x500 with 1 Axes>"
      ]
     },
     "metadata": {},
     "output_type": "display_data"
    }
   ],
   "source": [
    "com.plot(kind='bar',figsize=(20,5));"
   ]
  },
  {
   "cell_type": "markdown",
   "id": "54332a7d",
   "metadata": {},
   "source": [
    "预测和实际结果的散点图对比。"
   ]
  },
  {
   "cell_type": "code",
   "execution_count": 26,
   "id": "5638feb1",
   "metadata": {},
   "outputs": [
    {
     "data": {
      "image/png": "[encoded data removed]",
      "text/plain": [
       "<Figure size 2000x500 with 1 Axes>"
      ]
     },
     "metadata": {},
     "output_type": "display_data"
    }
   ],
   "source": [
    "com.plot(kind='line',style='--o',figsize=(20,5));"
   ]
  },
  {
   "cell_type": "markdown",
   "id": "e8ba71be",
   "metadata": {},
   "source": [
    "上面是第一个预测结果和实际结果的对比，修改参数可以对比其他列。也可以汇总对比均值。"
   ]
  },
  {
   "cell_type": "markdown",
   "id": "a5082093",
   "metadata": {},
   "source": [
    "**模型评估**"
   ]
  },
  {
   "cell_type": "markdown",
   "id": "a6231845",
   "metadata": {},
   "source": [
    "训练集部分"
   ]
  },
  {
   "cell_type": "markdown",
   "id": "b0387a09",
   "metadata": {},
   "source": [
    "R^2"
   ]
  },
  {
   "cell_type": "code",
   "execution_count": 27,
   "id": "2dfb98f0",
   "metadata": {},
   "outputs": [
    {
     "name": "stdout",
     "output_type": "stream",
     "text": [
      "R^2 Train: 0.09637\n"
     ]
    }
   ],
   "source": [
    "print(f'R^2 Train: {model.score(X_train, y_train):0.4}')"
   ]
  },
  {
   "cell_type": "code",
   "execution_count": 28,
   "id": "e7dc6970",
   "metadata": {},
   "outputs": [],
   "source": [
    "from sklearn import metrics"
   ]
  },
  {
   "cell_type": "markdown",
   "id": "bdde3c34",
   "metadata": {},
   "source": [
    "训练集的MSE"
   ]
  },
  {
   "cell_type": "code",
   "execution_count": 29,
   "id": "277241e8",
   "metadata": {},
   "outputs": [
    {
     "data": {
      "text/plain": [
       "4.385731878192612"
      ]
     },
     "execution_count": 29,
     "metadata": {},
     "output_type": "execute_result"
    }
   ],
   "source": [
    "y_preds2 = model.predict(X_train)\n",
    "metrics.mean_squared_error(y_train, y_preds2)"
   ]
  },
  {
   "cell_type": "markdown",
   "id": "d3bbea5d",
   "metadata": {},
   "source": [
    "测试集部分"
   ]
  },
  {
   "cell_type": "code",
   "execution_count": 30,
   "id": "a2b00aef",
   "metadata": {},
   "outputs": [
    {
     "data": {
      "text/plain": [
       "7.902984513568668"
      ]
     },
     "execution_count": 30,
     "metadata": {},
     "output_type": "execute_result"
    }
   ],
   "source": [
    "MSE = metrics.mean_squared_error(y_test, y_preds)\n",
    "MSE"
   ]
  },
  {
   "cell_type": "code",
   "execution_count": 31,
   "id": "b1c02fdb",
   "metadata": {},
   "outputs": [
    {
     "data": {
      "text/plain": [
       "2.8112247355145175"
      ]
     },
     "execution_count": 31,
     "metadata": {},
     "output_type": "execute_result"
    }
   ],
   "source": [
    "RMSE = metrics.mean_squared_error(y_test, y_preds)**0.5\n",
    "RMSE"
   ]
  },
  {
   "cell_type": "code",
   "execution_count": 32,
   "id": "e90edce7",
   "metadata": {},
   "outputs": [
    {
     "data": {
      "text/plain": [
       "0.8482432301740241"
      ]
     },
     "execution_count": 32,
     "metadata": {},
     "output_type": "execute_result"
    }
   ],
   "source": [
    "MAE = metrics.mean_absolute_error(y_test, y_preds)\n",
    "MAE"
   ]
  },
  {
   "cell_type": "code",
   "execution_count": 33,
   "id": "81b96789",
   "metadata": {},
   "outputs": [
    {
     "data": {
      "text/plain": [
       "81147543375932.7"
      ]
     },
     "execution_count": 33,
     "metadata": {},
     "output_type": "execute_result"
    }
   ],
   "source": [
    "MAPE = metrics.mean_absolute_percentage_error(y_test, y_preds)\n",
    "MAPE"
   ]
  },
  {
   "cell_type": "markdown",
   "id": "bc57c430",
   "metadata": {},
   "source": [
    "# 调参和优化"
   ]
  },
  {
   "cell_type": "code",
   "execution_count": 34,
   "id": "b2736899",
   "metadata": {},
   "outputs": [],
   "source": [
    "from sklearn.model_selection import train_test_split, TimeSeriesSplit, GridSearchCV"
   ]
  },
  {
   "cell_type": "code",
   "execution_count": 35,
   "id": "ff0bfc46",
   "metadata": {},
   "outputs": [],
   "source": [
    "# Cross-validation\n",
    "tscv = TimeSeriesSplit(n_splits=5)"
   ]
  },
  {
   "cell_type": "code",
   "execution_count": 36,
   "id": "4ccbd156",
   "metadata": {},
   "outputs": [
    {
     "data": {
      "text/plain": [
       "{'memory': None,\n",
       " 'steps': [('scaler', StandardScaler()),\n",
       "  ('regressor',\n",
       "   MultiOutputRegressor(estimator=SGDRegressor(alpha=0.01, l1_ratio=0.25,\n",
       "                                               penalty='elasticnet', tol=0.0001)))],\n",
       " 'verbose': False,\n",
       " 'scaler': StandardScaler(),\n",
       " 'regressor': MultiOutputRegressor(estimator=SGDRegressor(alpha=0.01, l1_ratio=0.25,\n",
       "                                             penalty='elasticnet', tol=0.0001)),\n",
       " 'scaler__copy': True,\n",
       " 'scaler__with_mean': True,\n",
       " 'scaler__with_std': True,\n",
       " 'regressor__estimator__alpha': 0.01,\n",
       " 'regressor__estimator__average': False,\n",
       " 'regressor__estimator__early_stopping': False,\n",
       " 'regressor__estimator__epsilon': 0.1,\n",
       " 'regressor__estimator__eta0': 0.01,\n",
       " 'regressor__estimator__fit_intercept': True,\n",
       " 'regressor__estimator__l1_ratio': 0.25,\n",
       " 'regressor__estimator__learning_rate': 'invscaling',\n",
       " 'regressor__estimator__loss': 'squared_error',\n",
       " 'regressor__estimator__max_iter': 1000,\n",
       " 'regressor__estimator__n_iter_no_change': 5,\n",
       " 'regressor__estimator__penalty': 'elasticnet',\n",
       " 'regressor__estimator__power_t': 0.25,\n",
       " 'regressor__estimator__random_state': None,\n",
       " 'regressor__estimator__shuffle': True,\n",
       " 'regressor__estimator__tol': 0.0001,\n",
       " 'regressor__estimator__validation_fraction': 0.1,\n",
       " 'regressor__estimator__verbose': 0,\n",
       " 'regressor__estimator__warm_start': False,\n",
       " 'regressor__estimator': SGDRegressor(alpha=0.01, l1_ratio=0.25, penalty='elasticnet', tol=0.0001),\n",
       " 'regressor__n_jobs': None}"
      ]
     },
     "execution_count": 36,
     "metadata": {},
     "output_type": "execute_result"
    }
   ],
   "source": [
    "# Get parameters list\n",
    "model.get_params()"
   ]
  },
  {
   "cell_type": "code",
   "execution_count": 37,
   "id": "1e14aa67",
   "metadata": {},
   "outputs": [],
   "source": [
    "# Perform Gridsearch and fit\n",
    "param_grid = {\"regressor__estimator__alpha\": [0.001,0.01,0.1,1,10,100],\n",
    "             \"regressor__estimator__l1_ratio\": [0.25,0.1,0.5,0.01,0.8]}"
   ]
  },
  {
   "cell_type": "code",
   "execution_count": 38,
   "id": "6eb6b6cd",
   "metadata": {},
   "outputs": [
    {
     "name": "stdout",
     "output_type": "stream",
     "text": [
      "Fitting 5 folds for each of 30 candidates, totalling 150 fits\n"
     ]
    },
    {
     "data": {
      "text/plain": [
       "GridSearchCV(cv=TimeSeriesSplit(gap=0, max_train_size=None, n_splits=5, test_size=None),\n",
       "             estimator=Pipeline(steps=[('scaler', StandardScaler()),\n",
       "                                       ('regressor',\n",
       "                                        MultiOutputRegressor(estimator=SGDRegressor(alpha=0.01,\n",
       "                                                                                    l1_ratio=0.25,\n",
       "                                                                                    penalty='elasticnet',\n",
       "                                                                                    tol=0.0001)))]),\n",
       "             n_jobs=-1,\n",
       "             param_grid={'regressor__estimator__alpha': [0.001, 0.01, 0.1, 1,\n",
       "                                                         10, 100],\n",
       "                         'regressor__estimator__l1_ratio': [0.25, 0.1, 0.5,\n",
       "                                                            0.01, 0.8]},\n",
       "             verbose=1)"
      ]
     },
     "execution_count": 38,
     "metadata": {},
     "output_type": "execute_result"
    }
   ],
   "source": [
    "gs = GridSearchCV(model, param_grid, n_jobs=-1, cv=tscv, verbose=1)\n",
    "gs.fit(X_train, y_train)"
   ]
  },
  {
   "cell_type": "code",
   "execution_count": 39,
   "id": "0a5de704",
   "metadata": {},
   "outputs": [
    {
     "data": {
      "text/plain": [
       "Pipeline(steps=[('scaler', StandardScaler()),\n",
       "                ('regressor',\n",
       "                 MultiOutputRegressor(estimator=SGDRegressor(alpha=1,\n",
       "                                                             l1_ratio=0.8,\n",
       "                                                             penalty='elasticnet',\n",
       "                                                             tol=0.0001)))])"
      ]
     },
     "execution_count": 39,
     "metadata": {},
     "output_type": "execute_result"
    }
   ],
   "source": [
    "# Best Estimator\n",
    "gs.best_estimator_"
   ]
  },
  {
   "cell_type": "code",
   "execution_count": 40,
   "id": "95c57a84",
   "metadata": {},
   "outputs": [
    {
     "name": "stdout",
     "output_type": "stream",
     "text": [
      "R^2 Train: 0.005756\n"
     ]
    }
   ],
   "source": [
    "print(f'R^2 Train: {gs.score(X_train, y_train):0.4}')"
   ]
  },
  {
   "cell_type": "markdown",
   "id": "e7aa0b2e",
   "metadata": {},
   "source": [
    "R方有更小"
   ]
  },
  {
   "cell_type": "code",
   "execution_count": 41,
   "id": "ca96428e",
   "metadata": {},
   "outputs": [],
   "source": [
    "y_preds1 = gs.predict(X_test)"
   ]
  },
  {
   "cell_type": "code",
   "execution_count": 42,
   "id": "d2df4153",
   "metadata": {},
   "outputs": [
    {
     "data": {
      "text/plain": [
       "7.049950313772265"
      ]
     },
     "execution_count": 42,
     "metadata": {},
     "output_type": "execute_result"
    }
   ],
   "source": [
    "MSE = metrics.mean_squared_error(y_test, y_preds1)\n",
    "MSE"
   ]
  },
  {
   "cell_type": "markdown",
   "id": "6983c387",
   "metadata": {},
   "source": [
    "MSE有更小"
   ]
  },
  {
   "cell_type": "code",
   "execution_count": 43,
   "id": "7376e866",
   "metadata": {},
   "outputs": [
    {
     "data": {
      "text/plain": [
       "4.658283481608197"
      ]
     },
     "execution_count": 43,
     "metadata": {},
     "output_type": "execute_result"
    }
   ],
   "source": [
    "y_preds2 = gs.predict(X_train)\n",
    "metrics.mean_squared_error(y_train, y_preds2)"
   ]
  },
  {
   "cell_type": "markdown",
   "id": "c0ba8bde",
   "metadata": {},
   "source": [
    "MSE在训练集和测试集上的区别不大"
   ]
  },
  {
   "cell_type": "code",
   "execution_count": null,
   "id": "3dd13108",
   "metadata": {},
   "outputs": [],
   "source": []
  },
  {
   "cell_type": "code",
   "execution_count": null,
   "id": "735ad9f4",
   "metadata": {},
   "outputs": [],
   "source": []
  },
  {
   "cell_type": "code",
   "execution_count": null,
   "id": "947db649",
   "metadata": {},
   "outputs": [],
   "source": []
  },
  {
   "cell_type": "code",
   "execution_count": null,
   "id": "e8b49c75",
   "metadata": {},
   "outputs": [],
   "source": []
  },
  {
   "cell_type": "code",
   "execution_count": null,
   "id": "212b6569",
   "metadata": {},
   "outputs": [],
   "source": []
  },
  {
   "cell_type": "code",
   "execution_count": null,
   "id": "592c8443",
   "metadata": {},
   "outputs": [],
   "source": []
  },
  {
   "cell_type": "code",
   "execution_count": null,
   "id": "ec2fd4e0",
   "metadata": {},
   "outputs": [],
   "source": []
  },
  {
   "cell_type": "code",
   "execution_count": null,
   "id": "7ce57a0e",
   "metadata": {},
   "outputs": [],
   "source": []
  },
  {
   "cell_type": "code",
   "execution_count": null,
   "id": "321ba573",
   "metadata": {},
   "outputs": [],
   "source": []
  },
  {
   "cell_type": "code",
   "execution_count": null,
   "id": "1538f249",
   "metadata": {},
   "outputs": [],
   "source": []
  },
  {
   "cell_type": "code",
   "execution_count": null,
   "id": "35e4a245",
   "metadata": {},
   "outputs": [],
   "source": []
  },
  {
   "cell_type": "code",
   "execution_count": null,
   "id": "5d8eb383",
   "metadata": {},
   "outputs": [],
   "source": []
  },
  {
   "cell_type": "code",
   "execution_count": null,
   "id": "cdba73d7",
   "metadata": {},
   "outputs": [],
   "source": []
  },
  {
   "cell_type": "code",
   "execution_count": null,
   "id": "a6fe136a",
   "metadata": {},
   "outputs": [],
   "source": []
  },
  {
   "cell_type": "code",
   "execution_count": null,
   "id": "4f1988c4",
   "metadata": {},
   "outputs": [],
   "source": []
  },
  {
   "cell_type": "code",
   "execution_count": null,
   "id": "d1e4d462",
   "metadata": {},
   "outputs": [],
   "source": []
  },
  {
   "cell_type": "code",
   "execution_count": null,
   "id": "6766c77f",
   "metadata": {},
   "outputs": [],
   "source": []
  },
  {
   "cell_type": "code",
   "execution_count": null,
   "id": "957475bf",
   "metadata": {},
   "outputs": [],
   "source": []
  },
  {
   "cell_type": "code",
   "execution_count": null,
   "id": "7db761af",
   "metadata": {},
   "outputs": [],
   "source": []
  }
 ],
 "metadata": {
  "kernelspec": {
   "display_name": "Python 3 (ipykernel)",
   "language": "python",
   "name": "python3"
  },
  "language_info": {
   "codemirror_mode": {
    "name": "ipython",
    "version": 3
   },
   "file_extension": ".py",
   "mimetype": "text/x-python",
   "name": "python",
   "nbconvert_exporter": "python",
   "pygments_lexer": "ipython3",
   "version": "3.9.13"
  }
 },
 "nbformat": 4,
 "nbformat_minor": 5
}
