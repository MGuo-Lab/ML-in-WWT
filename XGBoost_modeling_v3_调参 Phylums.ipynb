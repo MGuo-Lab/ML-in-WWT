{
 "cells": [
  {
   "cell_type": "markdown",
   "id": "467782f1",
   "metadata": {},
   "source": [
    "参考链接：https://zhuanlan.zhihu.com/p/162001079"
   ]
  },
  {
   "cell_type": "markdown",
   "id": "6a27eba1",
   "metadata": {},
   "source": [
    "**导入基础包**"
   ]
  },
  {
   "cell_type": "code",
   "execution_count": 8,
   "id": "4a9e3702",
   "metadata": {},
   "outputs": [],
   "source": [
    "#packages\n",
    "import pandas as pd\n",
    "import numpy as np\n",
    "\n",
    "from pylab import plt\n",
    "plt.style.use('seaborn')\n",
    "%matplotlib inline\n",
    "\n",
    "# Ignore warnings\n",
    "import warnings\n",
    "warnings.filterwarnings('ignore')"
   ]
  },
  {
   "cell_type": "markdown",
   "id": "698ddc82",
   "metadata": {},
   "source": [
    "**读取数据**"
   ]
  },
  {
   "cell_type": "code",
   "execution_count": 9,
   "id": "4379ceaa",
   "metadata": {},
   "outputs": [],
   "source": [
    "df = pd.read_csv('data_features_Phylums.csv') "
   ]
  },
  {
   "cell_type": "code",
   "execution_count": 10,
   "id": "4f204942",
   "metadata": {},
   "outputs": [
    {
     "data": {
      "text/html": [
       "<div>\n",
       "<style scoped>\n",
       "    .dataframe tbody tr th:only-of-type {\n",
       "        vertical-align: middle;\n",
       "    }\n",
       "\n",
       "    .dataframe tbody tr th {\n",
       "        vertical-align: top;\n",
       "    }\n",
       "\n",
       "    .dataframe thead th {\n",
       "        text-align: right;\n",
       "    }\n",
       "</style>\n",
       "<table border=\"1\" class=\"dataframe\">\n",
       "  <thead>\n",
       "    <tr style=\"text-align: right;\">\n",
       "      <th></th>\n",
       "      <th>Unnamed: 0</th>\n",
       "      <th>Sample ID</th>\n",
       "      <th>Sampling month average</th>\n",
       "      <th>Sampling month</th>\n",
       "      <th>SRTd</th>\n",
       "      <th>COD</th>\n",
       "      <th>NH4N</th>\n",
       "      <th>TP</th>\n",
       "      <th>Proteobacteria</th>\n",
       "      <th>Bacteroidota</th>\n",
       "      <th>...</th>\n",
       "      <th>Actinobacteriota</th>\n",
       "      <th>Acidobacteriota</th>\n",
       "      <th>Desulfobacterota</th>\n",
       "      <th>Dependentiae</th>\n",
       "      <th>Cyanobacteria</th>\n",
       "      <th>Spirochaetota</th>\n",
       "      <th>Nanoarchaeota</th>\n",
       "      <th>Elusimicrobiota</th>\n",
       "      <th>SAR324 clade(Marine group B)</th>\n",
       "      <th>Armatimonadota</th>\n",
       "    </tr>\n",
       "  </thead>\n",
       "  <tbody>\n",
       "    <tr>\n",
       "      <th>0</th>\n",
       "      <td>0</td>\n",
       "      <td>SAKR1</td>\n",
       "      <td>18.0</td>\n",
       "      <td>55.0</td>\n",
       "      <td>12.0</td>\n",
       "      <td>771.97</td>\n",
       "      <td>61.4</td>\n",
       "      <td>7.2</td>\n",
       "      <td>40.320312</td>\n",
       "      <td>29.988281</td>\n",
       "      <td>...</td>\n",
       "      <td>0.308594</td>\n",
       "      <td>3.945312</td>\n",
       "      <td>0.320312</td>\n",
       "      <td>0.175781</td>\n",
       "      <td>0.156250</td>\n",
       "      <td>0.160156</td>\n",
       "      <td>0.023438</td>\n",
       "      <td>0.652344</td>\n",
       "      <td>1.351562</td>\n",
       "      <td>0.738281</td>\n",
       "    </tr>\n",
       "    <tr>\n",
       "      <th>1</th>\n",
       "      <td>1</td>\n",
       "      <td>SAKR2</td>\n",
       "      <td>18.0</td>\n",
       "      <td>55.0</td>\n",
       "      <td>12.0</td>\n",
       "      <td>771.97</td>\n",
       "      <td>61.4</td>\n",
       "      <td>7.2</td>\n",
       "      <td>37.351562</td>\n",
       "      <td>31.402344</td>\n",
       "      <td>...</td>\n",
       "      <td>0.417969</td>\n",
       "      <td>4.082031</td>\n",
       "      <td>0.347656</td>\n",
       "      <td>0.191406</td>\n",
       "      <td>0.117188</td>\n",
       "      <td>0.187500</td>\n",
       "      <td>0.000000</td>\n",
       "      <td>0.554688</td>\n",
       "      <td>1.605469</td>\n",
       "      <td>1.031250</td>\n",
       "    </tr>\n",
       "    <tr>\n",
       "      <th>2</th>\n",
       "      <td>2</td>\n",
       "      <td>SAKR3</td>\n",
       "      <td>18.0</td>\n",
       "      <td>55.0</td>\n",
       "      <td>12.0</td>\n",
       "      <td>771.97</td>\n",
       "      <td>61.4</td>\n",
       "      <td>7.2</td>\n",
       "      <td>35.941406</td>\n",
       "      <td>33.183594</td>\n",
       "      <td>...</td>\n",
       "      <td>0.484375</td>\n",
       "      <td>4.027344</td>\n",
       "      <td>0.292969</td>\n",
       "      <td>0.222656</td>\n",
       "      <td>0.121094</td>\n",
       "      <td>0.175781</td>\n",
       "      <td>0.011719</td>\n",
       "      <td>0.578125</td>\n",
       "      <td>1.593750</td>\n",
       "      <td>0.828125</td>\n",
       "    </tr>\n",
       "    <tr>\n",
       "      <th>3</th>\n",
       "      <td>3</td>\n",
       "      <td>SAKR4</td>\n",
       "      <td>18.0</td>\n",
       "      <td>55.0</td>\n",
       "      <td>12.0</td>\n",
       "      <td>771.97</td>\n",
       "      <td>61.4</td>\n",
       "      <td>7.2</td>\n",
       "      <td>39.359375</td>\n",
       "      <td>30.535156</td>\n",
       "      <td>...</td>\n",
       "      <td>0.394531</td>\n",
       "      <td>4.113281</td>\n",
       "      <td>0.363281</td>\n",
       "      <td>0.207031</td>\n",
       "      <td>0.109375</td>\n",
       "      <td>0.191406</td>\n",
       "      <td>0.027344</td>\n",
       "      <td>0.671875</td>\n",
       "      <td>1.234375</td>\n",
       "      <td>0.875000</td>\n",
       "    </tr>\n",
       "    <tr>\n",
       "      <th>4</th>\n",
       "      <td>4</td>\n",
       "      <td>SAKR5</td>\n",
       "      <td>18.0</td>\n",
       "      <td>55.0</td>\n",
       "      <td>12.0</td>\n",
       "      <td>771.97</td>\n",
       "      <td>61.4</td>\n",
       "      <td>7.2</td>\n",
       "      <td>35.074219</td>\n",
       "      <td>33.347656</td>\n",
       "      <td>...</td>\n",
       "      <td>0.363281</td>\n",
       "      <td>4.449219</td>\n",
       "      <td>0.269531</td>\n",
       "      <td>0.253906</td>\n",
       "      <td>0.117188</td>\n",
       "      <td>0.250000</td>\n",
       "      <td>0.015625</td>\n",
       "      <td>0.628906</td>\n",
       "      <td>1.546875</td>\n",
       "      <td>0.882812</td>\n",
       "    </tr>\n",
       "  </tbody>\n",
       "</table>\n",
       "<p>5 rows × 29 columns</p>\n",
       "</div>"
      ],
      "text/plain": [
       "   Unnamed: 0 Sample ID  Sampling month average  Sampling month  SRTd     COD  \\\n",
       "0           0     SAKR1                    18.0            55.0  12.0  771.97   \n",
       "1           1     SAKR2                    18.0            55.0  12.0  771.97   \n",
       "2           2     SAKR3                    18.0            55.0  12.0  771.97   \n",
       "3           3     SAKR4                    18.0            55.0  12.0  771.97   \n",
       "4           4     SAKR5                    18.0            55.0  12.0  771.97   \n",
       "\n",
       "   NH4N   TP  Proteobacteria  Bacteroidota  ...  Actinobacteriota  \\\n",
       "0  61.4  7.2       40.320312     29.988281  ...          0.308594   \n",
       "1  61.4  7.2       37.351562     31.402344  ...          0.417969   \n",
       "2  61.4  7.2       35.941406     33.183594  ...          0.484375   \n",
       "3  61.4  7.2       39.359375     30.535156  ...          0.394531   \n",
       "4  61.4  7.2       35.074219     33.347656  ...          0.363281   \n",
       "\n",
       "   Acidobacteriota  Desulfobacterota  Dependentiae  Cyanobacteria  \\\n",
       "0         3.945312          0.320312      0.175781       0.156250   \n",
       "1         4.082031          0.347656      0.191406       0.117188   \n",
       "2         4.027344          0.292969      0.222656       0.121094   \n",
       "3         4.113281          0.363281      0.207031       0.109375   \n",
       "4         4.449219          0.269531      0.253906       0.117188   \n",
       "\n",
       "   Spirochaetota  Nanoarchaeota  Elusimicrobiota  \\\n",
       "0       0.160156       0.023438         0.652344   \n",
       "1       0.187500       0.000000         0.554688   \n",
       "2       0.175781       0.011719         0.578125   \n",
       "3       0.191406       0.027344         0.671875   \n",
       "4       0.250000       0.015625         0.628906   \n",
       "\n",
       "   SAR324 clade(Marine group B)  Armatimonadota  \n",
       "0                      1.351562        0.738281  \n",
       "1                      1.605469        1.031250  \n",
       "2                      1.593750        0.828125  \n",
       "3                      1.234375        0.875000  \n",
       "4                      1.546875        0.882812  \n",
       "\n",
       "[5 rows x 29 columns]"
      ]
     },
     "execution_count": 10,
     "metadata": {},
     "output_type": "execute_result"
    }
   ],
   "source": [
    "df.head()"
   ]
  },
  {
   "cell_type": "code",
   "execution_count": 11,
   "id": "7b3eb192",
   "metadata": {},
   "outputs": [
    {
     "data": {
      "text/plain": [
       "(1186, 29)"
      ]
     },
     "execution_count": 11,
     "metadata": {},
     "output_type": "execute_result"
    }
   ],
   "source": [
    "df.shape"
   ]
  },
  {
   "cell_type": "code",
   "execution_count": 12,
   "id": "d7add247",
   "metadata": {},
   "outputs": [
    {
     "data": {
      "text/plain": [
       "Index(['Unnamed: 0', 'Sample ID', 'Sampling month average', 'Sampling month',\n",
       "       'SRTd', 'COD', 'NH4N', 'TP', 'Proteobacteria', 'Bacteroidota',\n",
       "       'Patescibacteria', 'Unclassified', 'Firmicutes', 'Planctomycetota',\n",
       "       'Verrucomicrobiota', 'Chloroflexi', 'Myxococcota', 'Others',\n",
       "       'Bdellovibrionota', 'Actinobacteriota', 'Acidobacteriota',\n",
       "       'Desulfobacterota', 'Dependentiae', 'Cyanobacteria', 'Spirochaetota',\n",
       "       'Nanoarchaeota', 'Elusimicrobiota', 'SAR324 clade(Marine group B)',\n",
       "       'Armatimonadota'],\n",
       "      dtype='object')"
      ]
     },
     "execution_count": 12,
     "metadata": {},
     "output_type": "execute_result"
    }
   ],
   "source": [
    "df.columns"
   ]
  },
  {
   "cell_type": "code",
   "execution_count": 13,
   "id": "8897fab3",
   "metadata": {},
   "outputs": [],
   "source": [
    "features = ['Sampling month average', 'Sampling month','SRTd', 'COD', 'NH4N', 'TP']\n",
    "targets = ['Proteobacteria', 'Bacteroidota',\n",
    "       'Patescibacteria', 'Unclassified', 'Firmicutes', 'Planctomycetota',\n",
    "       'Verrucomicrobiota', 'Chloroflexi', 'Myxococcota', 'Others',\n",
    "       'Bdellovibrionota', 'Actinobacteriota', 'Acidobacteriota',\n",
    "       'Desulfobacterota', 'Dependentiae', 'Cyanobacteria', 'Spirochaetota',\n",
    "       'Nanoarchaeota', 'Elusimicrobiota', 'SAR324 clade(Marine group B)',\n",
    "       'Armatimonadota']"
   ]
  },
  {
   "cell_type": "markdown",
   "id": "ce86763e",
   "metadata": {},
   "source": [
    "**简单的EDA**"
   ]
  },
  {
   "cell_type": "code",
   "execution_count": 14,
   "id": "973a96e6",
   "metadata": {},
   "outputs": [
    {
     "data": {
      "text/plain": [
       "Unnamed: 0                        0\n",
       "Sample ID                         0\n",
       "Sampling month average          132\n",
       "Sampling month                   23\n",
       "SRTd                            342\n",
       "COD                             577\n",
       "NH4N                            430\n",
       "TP                              583\n",
       "Proteobacteria                    0\n",
       "Bacteroidota                      0\n",
       "Patescibacteria                   0\n",
       "Unclassified                      0\n",
       "Firmicutes                        0\n",
       "Planctomycetota                   0\n",
       "Verrucomicrobiota                 0\n",
       "Chloroflexi                       0\n",
       "Myxococcota                       0\n",
       "Others                            0\n",
       "Bdellovibrionota                  0\n",
       "Actinobacteriota                  0\n",
       "Acidobacteriota                   0\n",
       "Desulfobacterota                  0\n",
       "Dependentiae                      0\n",
       "Cyanobacteria                     0\n",
       "Spirochaetota                     0\n",
       "Nanoarchaeota                     0\n",
       "Elusimicrobiota                   0\n",
       "SAR324 clade(Marine group B)      0\n",
       "Armatimonadota                    0\n",
       "dtype: int64"
      ]
     },
     "execution_count": 14,
     "metadata": {},
     "output_type": "execute_result"
    }
   ],
   "source": [
    "df.isnull().sum()"
   ]
  },
  {
   "cell_type": "markdown",
   "id": "30d5f284",
   "metadata": {},
   "source": [
    "我们看到预测目标里面没有NA， 不过features里面有NA. "
   ]
  },
  {
   "cell_type": "markdown",
   "id": "df8d9eec",
   "metadata": {},
   "source": [
    "部分features的空值较多，还不能直接drop. "
   ]
  },
  {
   "cell_type": "markdown",
   "id": "d2d35d9c",
   "metadata": {},
   "source": [
    "考虑给空值部分填充均值。"
   ]
  },
  {
   "cell_type": "markdown",
   "id": "ada95988",
   "metadata": {},
   "source": [
    "分拆数据"
   ]
  },
  {
   "cell_type": "code",
   "execution_count": 15,
   "id": "a5f1646d",
   "metadata": {},
   "outputs": [],
   "source": [
    "from sklearn.model_selection import train_test_split"
   ]
  },
  {
   "cell_type": "code",
   "execution_count": 16,
   "id": "ec341593",
   "metadata": {},
   "outputs": [
    {
     "name": "stdout",
     "output_type": "stream",
     "text": [
      "Train and Test Size 948, 238\n"
     ]
    }
   ],
   "source": [
    "# Splitting the datasets into training and testing data.\n",
    "train_data, test_data = train_test_split(df, train_size=0.8, test_size=0.2, shuffle=False)\n",
    "\n",
    "# Output the train and test data size\n",
    "print(f\"Train and Test Size {len(train_data)}, {len(test_data)}\")"
   ]
  },
  {
   "cell_type": "markdown",
   "id": "bcc8f016",
   "metadata": {},
   "source": [
    "在train data 部分曲均值"
   ]
  },
  {
   "cell_type": "code",
   "execution_count": 17,
   "id": "aa73a73c",
   "metadata": {},
   "outputs": [
    {
     "data": {
      "text/plain": [
       "Sampling month average     23.154379\n",
       "Sampling month            115.381081\n",
       "SRTd                       15.258321\n",
       "COD                       430.108594\n",
       "NH4N                       26.645109\n",
       "TP                          6.274391\n",
       "dtype: float64"
      ]
     },
     "execution_count": 17,
     "metadata": {},
     "output_type": "execute_result"
    }
   ],
   "source": [
    "train_data[features].mean()"
   ]
  },
  {
   "cell_type": "markdown",
   "id": "fb7cc78f",
   "metadata": {},
   "source": [
    "用这部均值填充NA数据"
   ]
  },
  {
   "cell_type": "code",
   "execution_count": 18,
   "id": "28e71bd6",
   "metadata": {},
   "outputs": [],
   "source": [
    "df['Sampling month average'].fillna(23.154379, inplace = True)\n",
    "df['Sampling month'].fillna(115.381081, inplace = True)\n",
    "df['SRTd'].fillna(15.258321, inplace = True)\n",
    "df['COD'].fillna(430.108594, inplace = True)\n",
    "df['NH4N'].fillna(26.645109, inplace = True)\n",
    "df['TP'].fillna(6.274391, inplace = True)"
   ]
  },
  {
   "cell_type": "markdown",
   "id": "74a178e0",
   "metadata": {},
   "source": [
    "检查NA"
   ]
  },
  {
   "cell_type": "code",
   "execution_count": 19,
   "id": "cfea83fd",
   "metadata": {},
   "outputs": [
    {
     "data": {
      "text/plain": [
       "Unnamed: 0                      0\n",
       "Sample ID                       0\n",
       "Sampling month average          0\n",
       "Sampling month                  0\n",
       "SRTd                            0\n",
       "COD                             0\n",
       "NH4N                            0\n",
       "TP                              0\n",
       "Proteobacteria                  0\n",
       "Bacteroidota                    0\n",
       "Patescibacteria                 0\n",
       "Unclassified                    0\n",
       "Firmicutes                      0\n",
       "Planctomycetota                 0\n",
       "Verrucomicrobiota               0\n",
       "Chloroflexi                     0\n",
       "Myxococcota                     0\n",
       "Others                          0\n",
       "Bdellovibrionota                0\n",
       "Actinobacteriota                0\n",
       "Acidobacteriota                 0\n",
       "Desulfobacterota                0\n",
       "Dependentiae                    0\n",
       "Cyanobacteria                   0\n",
       "Spirochaetota                   0\n",
       "Nanoarchaeota                   0\n",
       "Elusimicrobiota                 0\n",
       "SAR324 clade(Marine group B)    0\n",
       "Armatimonadota                  0\n",
       "dtype: int64"
      ]
     },
     "execution_count": 19,
     "metadata": {},
     "output_type": "execute_result"
    }
   ],
   "source": [
    "df.isnull().sum()"
   ]
  },
  {
   "cell_type": "markdown",
   "id": "1306a77f",
   "metadata": {},
   "source": [
    "重定义训练和测试集"
   ]
  },
  {
   "cell_type": "code",
   "execution_count": 20,
   "id": "71a9ac1a",
   "metadata": {},
   "outputs": [
    {
     "name": "stdout",
     "output_type": "stream",
     "text": [
      "Train and Test Size 948, 238\n"
     ]
    }
   ],
   "source": [
    "# Splitting the datasets into training and testing data.\n",
    "train_data, test_data = train_test_split(df, train_size=0.8, test_size=0.2, shuffle=False)\n",
    "\n",
    "# Output the train and test data size\n",
    "print(f\"Train and Test Size {len(train_data)}, {len(test_data)}\")"
   ]
  },
  {
   "cell_type": "markdown",
   "id": "04470613",
   "metadata": {},
   "source": [
    "**建模**"
   ]
  },
  {
   "cell_type": "code",
   "execution_count": 21,
   "id": "8d7a9eba",
   "metadata": {},
   "outputs": [],
   "source": [
    "from sklearn import linear_model \n",
    "from sklearn.pipeline import Pipeline\n",
    "from sklearn.preprocessing import StandardScaler\n",
    "from sklearn.linear_model import Ridge #导入岭回归模型\n",
    "from sklearn.linear_model import SGDRegressor\n",
    "# XGBoost Classifier\n",
    "from xgboost import XGBClassifier, XGBRegressor"
   ]
  },
  {
   "cell_type": "code",
   "execution_count": 22,
   "id": "ac36646e",
   "metadata": {},
   "outputs": [],
   "source": [
    "X_train = train_data[features]\n",
    "y_train = train_data[targets]\n",
    "X_test = test_data[features]\n",
    "y_test = test_data[targets]"
   ]
  },
  {
   "cell_type": "code",
   "execution_count": 23,
   "id": "5b565dfc",
   "metadata": {},
   "outputs": [],
   "source": [
    "xgb =  XGBRegressor(verbosity = 0, silent=True, random_state=42)"
   ]
  },
  {
   "cell_type": "code",
   "execution_count": 24,
   "id": "26cec117",
   "metadata": {},
   "outputs": [],
   "source": [
    "model = Pipeline([\n",
    "    ('scaler', StandardScaler()),\n",
    "    ('regressor', xgb)\n",
    "])"
   ]
  },
  {
   "cell_type": "markdown",
   "id": "74bceacd",
   "metadata": {},
   "source": [
    "训练模型"
   ]
  },
  {
   "cell_type": "code",
   "execution_count": 25,
   "id": "48387400",
   "metadata": {},
   "outputs": [
    {
     "name": "stdout",
     "output_type": "stream",
     "text": [
      "R^2 Train: 0.8316\n"
     ]
    }
   ],
   "source": [
    "model.fit(X_train, y_train)\n",
    "print(f'R^2 Train: {model.score(X_train, y_train):0.4}')"
   ]
  },
  {
   "cell_type": "markdown",
   "id": "798d0ac1",
   "metadata": {},
   "source": [
    "利用训练好的模型做测试"
   ]
  },
  {
   "cell_type": "code",
   "execution_count": 26,
   "id": "815fe277",
   "metadata": {},
   "outputs": [],
   "source": [
    "y_preds = model.predict(X_test)"
   ]
  },
  {
   "cell_type": "code",
   "execution_count": 27,
   "id": "70d63970",
   "metadata": {},
   "outputs": [
    {
     "data": {
      "text/plain": [
       "array([[34.61594   , 31.702354  ,  1.248598  , ...,  0.22575657,\n",
       "         0.20392244,  0.22078541],\n",
       "       [36.150314  , 30.648525  ,  2.0807254 , ...,  0.26850778,\n",
       "         0.2037881 ,  0.22368705],\n",
       "       [36.150314  , 30.648525  ,  2.0807254 , ...,  0.26850778,\n",
       "         0.2037881 ,  0.22368705],\n",
       "       ...,\n",
       "       [37.064285  , 30.468267  ,  1.1322193 , ...,  0.23903449,\n",
       "         0.08992113,  0.07880441],\n",
       "       [37.064285  , 30.468267  ,  1.1322193 , ...,  0.23903449,\n",
       "         0.08992113,  0.07880441],\n",
       "       [37.064285  , 30.468267  ,  1.1322193 , ...,  0.23903449,\n",
       "         0.08992113,  0.07880441]], dtype=float32)"
      ]
     },
     "execution_count": 27,
     "metadata": {},
     "output_type": "execute_result"
    }
   ],
   "source": [
    "y_preds"
   ]
  },
  {
   "cell_type": "markdown",
   "id": "ea954879",
   "metadata": {},
   "source": [
    "**结果可视化**"
   ]
  },
  {
   "cell_type": "markdown",
   "id": "54d799c7",
   "metadata": {},
   "source": [
    "展示第一个ID的预测结果。"
   ]
  },
  {
   "cell_type": "code",
   "execution_count": 28,
   "id": "389d13c7",
   "metadata": {},
   "outputs": [
    {
     "data": {
      "text/plain": [
       "array([3.4615940e+01, 3.1702354e+01, 1.2485980e+00, 7.9443681e-01,\n",
       "       8.6344987e-01, 2.9767466e+00, 1.4437932e+00, 3.5810890e+00,\n",
       "       7.6549945e+00, 3.5613427e+00, 7.7448040e-01, 5.4039302e+00,\n",
       "       2.7870872e+00, 2.2039554e-01, 1.9645073e-01, 2.8641555e-01,\n",
       "       1.2941010e+00, 1.5490610e-02, 2.2575657e-01, 2.0392244e-01,\n",
       "       2.2078541e-01], dtype=float32)"
      ]
     },
     "execution_count": 28,
     "metadata": {},
     "output_type": "execute_result"
    }
   ],
   "source": [
    "y_preds[0]"
   ]
  },
  {
   "cell_type": "code",
   "execution_count": 29,
   "id": "406ba69a",
   "metadata": {},
   "outputs": [
    {
     "data": {
      "text/plain": [
       "[36.31640625,\n",
       " 19.61328125,\n",
       " 2.0703125,\n",
       " 0.828125,\n",
       " 0.70703125,\n",
       " 3.0,\n",
       " 2.27734375,\n",
       " 5.046875,\n",
       " 12.75,\n",
       " 3.1875,\n",
       " 1.03125,\n",
       " 7.765625,\n",
       " 3.203125,\n",
       " 0.43359375,\n",
       " 0.0625,\n",
       " 0.21484375,\n",
       " 0.37109375,\n",
       " 0.04296875,\n",
       " 0.37109375,\n",
       " 0.3984375,\n",
       " 0.30859375]"
      ]
     },
     "execution_count": 29,
     "metadata": {},
     "output_type": "execute_result"
    }
   ],
   "source": [
    "y_test.iloc[0].tolist()"
   ]
  },
  {
   "cell_type": "code",
   "execution_count": 30,
   "id": "82965ccb",
   "metadata": {},
   "outputs": [],
   "source": [
    "c = {\"classes\":targets,\n",
    "     \"predictions\":y_preds[0],\n",
    "    \"real\":y_test.iloc[0].tolist() }"
   ]
  },
  {
   "cell_type": "code",
   "execution_count": 31,
   "id": "d63a163c",
   "metadata": {},
   "outputs": [
    {
     "data": {
      "text/html": [
       "<div>\n",
       "<style scoped>\n",
       "    .dataframe tbody tr th:only-of-type {\n",
       "        vertical-align: middle;\n",
       "    }\n",
       "\n",
       "    .dataframe tbody tr th {\n",
       "        vertical-align: top;\n",
       "    }\n",
       "\n",
       "    .dataframe thead th {\n",
       "        text-align: right;\n",
       "    }\n",
       "</style>\n",
       "<table border=\"1\" class=\"dataframe\">\n",
       "  <thead>\n",
       "    <tr style=\"text-align: right;\">\n",
       "      <th></th>\n",
       "      <th>predictions</th>\n",
       "      <th>real</th>\n",
       "    </tr>\n",
       "    <tr>\n",
       "      <th>classes</th>\n",
       "      <th></th>\n",
       "      <th></th>\n",
       "    </tr>\n",
       "  </thead>\n",
       "  <tbody>\n",
       "    <tr>\n",
       "      <th>Proteobacteria</th>\n",
       "      <td>34.615940</td>\n",
       "      <td>36.316406</td>\n",
       "    </tr>\n",
       "    <tr>\n",
       "      <th>Bacteroidota</th>\n",
       "      <td>31.702354</td>\n",
       "      <td>19.613281</td>\n",
       "    </tr>\n",
       "    <tr>\n",
       "      <th>Patescibacteria</th>\n",
       "      <td>1.248598</td>\n",
       "      <td>2.070312</td>\n",
       "    </tr>\n",
       "    <tr>\n",
       "      <th>Unclassified</th>\n",
       "      <td>0.794437</td>\n",
       "      <td>0.828125</td>\n",
       "    </tr>\n",
       "    <tr>\n",
       "      <th>Firmicutes</th>\n",
       "      <td>0.863450</td>\n",
       "      <td>0.707031</td>\n",
       "    </tr>\n",
       "    <tr>\n",
       "      <th>Planctomycetota</th>\n",
       "      <td>2.976747</td>\n",
       "      <td>3.000000</td>\n",
       "    </tr>\n",
       "    <tr>\n",
       "      <th>Verrucomicrobiota</th>\n",
       "      <td>1.443793</td>\n",
       "      <td>2.277344</td>\n",
       "    </tr>\n",
       "    <tr>\n",
       "      <th>Chloroflexi</th>\n",
       "      <td>3.581089</td>\n",
       "      <td>5.046875</td>\n",
       "    </tr>\n",
       "    <tr>\n",
       "      <th>Myxococcota</th>\n",
       "      <td>7.654994</td>\n",
       "      <td>12.750000</td>\n",
       "    </tr>\n",
       "    <tr>\n",
       "      <th>Others</th>\n",
       "      <td>3.561343</td>\n",
       "      <td>3.187500</td>\n",
       "    </tr>\n",
       "    <tr>\n",
       "      <th>Bdellovibrionota</th>\n",
       "      <td>0.774480</td>\n",
       "      <td>1.031250</td>\n",
       "    </tr>\n",
       "    <tr>\n",
       "      <th>Actinobacteriota</th>\n",
       "      <td>5.403930</td>\n",
       "      <td>7.765625</td>\n",
       "    </tr>\n",
       "    <tr>\n",
       "      <th>Acidobacteriota</th>\n",
       "      <td>2.787087</td>\n",
       "      <td>3.203125</td>\n",
       "    </tr>\n",
       "    <tr>\n",
       "      <th>Desulfobacterota</th>\n",
       "      <td>0.220396</td>\n",
       "      <td>0.433594</td>\n",
       "    </tr>\n",
       "    <tr>\n",
       "      <th>Dependentiae</th>\n",
       "      <td>0.196451</td>\n",
       "      <td>0.062500</td>\n",
       "    </tr>\n",
       "    <tr>\n",
       "      <th>Cyanobacteria</th>\n",
       "      <td>0.286416</td>\n",
       "      <td>0.214844</td>\n",
       "    </tr>\n",
       "    <tr>\n",
       "      <th>Spirochaetota</th>\n",
       "      <td>1.294101</td>\n",
       "      <td>0.371094</td>\n",
       "    </tr>\n",
       "    <tr>\n",
       "      <th>Nanoarchaeota</th>\n",
       "      <td>0.015491</td>\n",
       "      <td>0.042969</td>\n",
       "    </tr>\n",
       "    <tr>\n",
       "      <th>Elusimicrobiota</th>\n",
       "      <td>0.225757</td>\n",
       "      <td>0.371094</td>\n",
       "    </tr>\n",
       "    <tr>\n",
       "      <th>SAR324 clade(Marine group B)</th>\n",
       "      <td>0.203922</td>\n",
       "      <td>0.398438</td>\n",
       "    </tr>\n",
       "    <tr>\n",
       "      <th>Armatimonadota</th>\n",
       "      <td>0.220785</td>\n",
       "      <td>0.308594</td>\n",
       "    </tr>\n",
       "  </tbody>\n",
       "</table>\n",
       "</div>"
      ],
      "text/plain": [
       "                              predictions       real\n",
       "classes                                             \n",
       "Proteobacteria                  34.615940  36.316406\n",
       "Bacteroidota                    31.702354  19.613281\n",
       "Patescibacteria                  1.248598   2.070312\n",
       "Unclassified                     0.794437   0.828125\n",
       "Firmicutes                       0.863450   0.707031\n",
       "Planctomycetota                  2.976747   3.000000\n",
       "Verrucomicrobiota                1.443793   2.277344\n",
       "Chloroflexi                      3.581089   5.046875\n",
       "Myxococcota                      7.654994  12.750000\n",
       "Others                           3.561343   3.187500\n",
       "Bdellovibrionota                 0.774480   1.031250\n",
       "Actinobacteriota                 5.403930   7.765625\n",
       "Acidobacteriota                  2.787087   3.203125\n",
       "Desulfobacterota                 0.220396   0.433594\n",
       "Dependentiae                     0.196451   0.062500\n",
       "Cyanobacteria                    0.286416   0.214844\n",
       "Spirochaetota                    1.294101   0.371094\n",
       "Nanoarchaeota                    0.015491   0.042969\n",
       "Elusimicrobiota                  0.225757   0.371094\n",
       "SAR324 clade(Marine group B)     0.203922   0.398438\n",
       "Armatimonadota                   0.220785   0.308594"
      ]
     },
     "execution_count": 31,
     "metadata": {},
     "output_type": "execute_result"
    }
   ],
   "source": [
    "com = pd.DataFrame(c)\n",
    "com = com.set_index('classes')\n",
    "com"
   ]
  },
  {
   "cell_type": "markdown",
   "id": "5ed907aa",
   "metadata": {},
   "source": [
    "预测和实际结果的柱状图对比"
   ]
  },
  {
   "cell_type": "code",
   "execution_count": 32,
   "id": "76b0bfd5",
   "metadata": {},
   "outputs": [
    {
     "data": {
      "image/png": "[encoded data removed]",
      "text/plain": [
       "<Figure size 2000x500 with 1 Axes>"
      ]
     },
     "metadata": {},
     "output_type": "display_data"
    }
   ],
   "source": [
    "com.plot(kind='bar',figsize=(20,5));"
   ]
  },
  {
   "cell_type": "markdown",
   "id": "54332a7d",
   "metadata": {},
   "source": [
    "预测和实际结果的散点图对比。"
   ]
  },
  {
   "cell_type": "code",
   "execution_count": 33,
   "id": "5638feb1",
   "metadata": {},
   "outputs": [
    {
     "data": {
      "image/png": "[encoded data removed]",
      "text/plain": [
       "<Figure size 2000x500 with 1 Axes>"
      ]
     },
     "metadata": {},
     "output_type": "display_data"
    }
   ],
   "source": [
    "com.plot(kind='line',style='--o',figsize=(20,5));"
   ]
  },
  {
   "cell_type": "markdown",
   "id": "e8ba71be",
   "metadata": {},
   "source": [
    "上面是第一个预测结果和实际结果的对比，修改参数可以对比其他列。也可以汇总对比均值。"
   ]
  },
  {
   "cell_type": "markdown",
   "id": "a5082093",
   "metadata": {},
   "source": [
    "**模型评估**"
   ]
  },
  {
   "cell_type": "markdown",
   "id": "a6231845",
   "metadata": {},
   "source": [
    "训练集部分"
   ]
  },
  {
   "cell_type": "markdown",
   "id": "b0387a09",
   "metadata": {},
   "source": [
    "R^2"
   ]
  },
  {
   "cell_type": "code",
   "execution_count": 34,
   "id": "2dfb98f0",
   "metadata": {},
   "outputs": [
    {
     "name": "stdout",
     "output_type": "stream",
     "text": [
      "R^2 Train: 0.8316\n"
     ]
    }
   ],
   "source": [
    "print(f'R^2 Train: {model.score(X_train, y_train):0.4}')"
   ]
  },
  {
   "cell_type": "code",
   "execution_count": 35,
   "id": "e7dc6970",
   "metadata": {},
   "outputs": [],
   "source": [
    "from sklearn import metrics"
   ]
  },
  {
   "cell_type": "markdown",
   "id": "8d02a00d",
   "metadata": {},
   "source": [
    "训练集的MSE"
   ]
  },
  {
   "cell_type": "code",
   "execution_count": 36,
   "id": "b31672db",
   "metadata": {},
   "outputs": [
    {
     "data": {
      "text/plain": [
       "1.772370020511416"
      ]
     },
     "execution_count": 36,
     "metadata": {},
     "output_type": "execute_result"
    }
   ],
   "source": [
    "y_preds2 = model.predict(X_train)\n",
    "metrics.mean_squared_error(y_train, y_preds2)"
   ]
  },
  {
   "cell_type": "markdown",
   "id": "d3bbea5d",
   "metadata": {},
   "source": [
    "测试集部分"
   ]
  },
  {
   "cell_type": "code",
   "execution_count": 37,
   "id": "a2b00aef",
   "metadata": {},
   "outputs": [
    {
     "data": {
      "text/plain": [
       "16.926578899078418"
      ]
     },
     "execution_count": 37,
     "metadata": {},
     "output_type": "execute_result"
    }
   ],
   "source": [
    "MSE = metrics.mean_squared_error(y_test, y_preds)\n",
    "MSE"
   ]
  },
  {
   "cell_type": "code",
   "execution_count": 38,
   "id": "b1c02fdb",
   "metadata": {},
   "outputs": [
    {
     "data": {
      "text/plain": [
       "4.114192375069306"
      ]
     },
     "execution_count": 38,
     "metadata": {},
     "output_type": "execute_result"
    }
   ],
   "source": [
    "RMSE = metrics.mean_squared_error(y_test, y_preds)**0.5\n",
    "RMSE"
   ]
  },
  {
   "cell_type": "code",
   "execution_count": 39,
   "id": "e90edce7",
   "metadata": {},
   "outputs": [
    {
     "data": {
      "text/plain": [
       "1.9160019717510546"
      ]
     },
     "execution_count": 39,
     "metadata": {},
     "output_type": "execute_result"
    }
   ],
   "source": [
    "MAE = metrics.mean_absolute_error(y_test, y_preds)\n",
    "MAE"
   ]
  },
  {
   "cell_type": "code",
   "execution_count": 40,
   "id": "81b96789",
   "metadata": {},
   "outputs": [
    {
     "data": {
      "text/plain": [
       "33304277257492.535"
      ]
     },
     "execution_count": 40,
     "metadata": {},
     "output_type": "execute_result"
    }
   ],
   "source": [
    "MAPE = metrics.mean_absolute_percentage_error(y_test, y_preds)\n",
    "MAPE"
   ]
  },
  {
   "cell_type": "markdown",
   "id": "1495b873",
   "metadata": {},
   "source": [
    "# 调参和优化"
   ]
  },
  {
   "cell_type": "code",
   "execution_count": 41,
   "id": "b2736899",
   "metadata": {},
   "outputs": [],
   "source": [
    "from sklearn.model_selection import train_test_split, TimeSeriesSplit, GridSearchCV"
   ]
  },
  {
   "cell_type": "code",
   "execution_count": 42,
   "id": "ff0bfc46",
   "metadata": {},
   "outputs": [],
   "source": [
    "# Cross-validation\n",
    "tscv = TimeSeriesSplit(n_splits=5)"
   ]
  },
  {
   "cell_type": "code",
   "execution_count": 43,
   "id": "4ccbd156",
   "metadata": {},
   "outputs": [
    {
     "data": {
      "text/plain": [
       "{'memory': None,\n",
       " 'steps': [('scaler', StandardScaler()),\n",
       "  ('regressor',\n",
       "   XGBRegressor(base_score=None, booster=None, callbacks=None,\n",
       "                colsample_bylevel=None, colsample_bynode=None,\n",
       "                colsample_bytree=None, early_stopping_rounds=None,\n",
       "                enable_categorical=False, eval_metric=None, feature_types=None,\n",
       "                gamma=None, gpu_id=None, grow_policy=None, importance_type=None,\n",
       "                interaction_constraints=None, learning_rate=None, max_bin=None,\n",
       "                max_cat_threshold=None, max_cat_to_onehot=None,\n",
       "                max_delta_step=None, max_depth=None, max_leaves=None,\n",
       "                min_child_weight=None, missing=nan, monotone_constraints=None,\n",
       "                n_estimators=100, n_jobs=None, num_parallel_tree=None,\n",
       "                predictor=None, random_state=42, ...))],\n",
       " 'verbose': False,\n",
       " 'scaler': StandardScaler(),\n",
       " 'regressor': XGBRegressor(base_score=None, booster=None, callbacks=None,\n",
       "              colsample_bylevel=None, colsample_bynode=None,\n",
       "              colsample_bytree=None, early_stopping_rounds=None,\n",
       "              enable_categorical=False, eval_metric=None, feature_types=None,\n",
       "              gamma=None, gpu_id=None, grow_policy=None, importance_type=None,\n",
       "              interaction_constraints=None, learning_rate=None, max_bin=None,\n",
       "              max_cat_threshold=None, max_cat_to_onehot=None,\n",
       "              max_delta_step=None, max_depth=None, max_leaves=None,\n",
       "              min_child_weight=None, missing=nan, monotone_constraints=None,\n",
       "              n_estimators=100, n_jobs=None, num_parallel_tree=None,\n",
       "              predictor=None, random_state=42, ...),\n",
       " 'scaler__copy': True,\n",
       " 'scaler__with_mean': True,\n",
       " 'scaler__with_std': True,\n",
       " 'regressor__objective': 'reg:squarederror',\n",
       " 'regressor__base_score': None,\n",
       " 'regressor__booster': None,\n",
       " 'regressor__callbacks': None,\n",
       " 'regressor__colsample_bylevel': None,\n",
       " 'regressor__colsample_bynode': None,\n",
       " 'regressor__colsample_bytree': None,\n",
       " 'regressor__early_stopping_rounds': None,\n",
       " 'regressor__enable_categorical': False,\n",
       " 'regressor__eval_metric': None,\n",
       " 'regressor__feature_types': None,\n",
       " 'regressor__gamma': None,\n",
       " 'regressor__gpu_id': None,\n",
       " 'regressor__grow_policy': None,\n",
       " 'regressor__importance_type': None,\n",
       " 'regressor__interaction_constraints': None,\n",
       " 'regressor__learning_rate': None,\n",
       " 'regressor__max_bin': None,\n",
       " 'regressor__max_cat_threshold': None,\n",
       " 'regressor__max_cat_to_onehot': None,\n",
       " 'regressor__max_delta_step': None,\n",
       " 'regressor__max_depth': None,\n",
       " 'regressor__max_leaves': None,\n",
       " 'regressor__min_child_weight': None,\n",
       " 'regressor__missing': nan,\n",
       " 'regressor__monotone_constraints': None,\n",
       " 'regressor__n_estimators': 100,\n",
       " 'regressor__n_jobs': None,\n",
       " 'regressor__num_parallel_tree': None,\n",
       " 'regressor__predictor': None,\n",
       " 'regressor__random_state': 42,\n",
       " 'regressor__reg_alpha': None,\n",
       " 'regressor__reg_lambda': None,\n",
       " 'regressor__sampling_method': None,\n",
       " 'regressor__scale_pos_weight': None,\n",
       " 'regressor__subsample': None,\n",
       " 'regressor__tree_method': None,\n",
       " 'regressor__validate_parameters': None,\n",
       " 'regressor__verbosity': 0,\n",
       " 'regressor__silent': True}"
      ]
     },
     "execution_count": 43,
     "metadata": {},
     "output_type": "execute_result"
    }
   ],
   "source": [
    "# Get parameters list\n",
    "model.get_params()"
   ]
  },
  {
   "cell_type": "code",
   "execution_count": 44,
   "id": "1e14aa67",
   "metadata": {},
   "outputs": [],
   "source": [
    "# Perform Gridsearch and fit\n",
    "param_grid = {\"regressor__n_estimators\": [100,150,300,400,500]}"
   ]
  },
  {
   "cell_type": "code",
   "execution_count": 45,
   "id": "6eb6b6cd",
   "metadata": {},
   "outputs": [
    {
     "name": "stdout",
     "output_type": "stream",
     "text": [
      "Fitting 5 folds for each of 5 candidates, totalling 25 fits\n"
     ]
    },
    {
     "data": {
      "text/plain": [
       "GridSearchCV(cv=TimeSeriesSplit(gap=0, max_train_size=None, n_splits=5, test_size=None),\n",
       "             estimator=Pipeline(steps=[('scaler', StandardScaler()),\n",
       "                                       ('regressor',\n",
       "                                        XGBRegressor(base_score=None,\n",
       "                                                     booster=None,\n",
       "                                                     callbacks=None,\n",
       "                                                     colsample_bylevel=None,\n",
       "                                                     colsample_bynode=None,\n",
       "                                                     colsample_bytree=None,\n",
       "                                                     early_stopping_rounds=None,\n",
       "                                                     enable_categorical=False,\n",
       "                                                     eval_metric=None,\n",
       "                                                     featu...\n",
       "                                                     learning_rate=None,\n",
       "                                                     max_bin=None,\n",
       "                                                     max_cat_threshold=None,\n",
       "                                                     max_cat_to_onehot=None,\n",
       "                                                     max_delta_step=None,\n",
       "                                                     max_depth=None,\n",
       "                                                     max_leaves=None,\n",
       "                                                     min_child_weight=None,\n",
       "                                                     missing=nan,\n",
       "                                                     monotone_constraints=None,\n",
       "                                                     n_estimators=100,\n",
       "                                                     n_jobs=None,\n",
       "                                                     num_parallel_tree=None,\n",
       "                                                     predictor=None,\n",
       "                                                     random_state=42, ...))]),\n",
       "             n_jobs=-1,\n",
       "             param_grid={'regressor__n_estimators': [100, 150, 300, 400, 500]},\n",
       "             verbose=1)"
      ]
     },
     "execution_count": 45,
     "metadata": {},
     "output_type": "execute_result"
    }
   ],
   "source": [
    "gs = GridSearchCV(model, param_grid, n_jobs=-1, cv=tscv, verbose=1)\n",
    "gs.fit(X_train, y_train)"
   ]
  },
  {
   "cell_type": "code",
   "execution_count": 46,
   "id": "0a5de704",
   "metadata": {},
   "outputs": [
    {
     "data": {
      "text/plain": [
       "Pipeline(steps=[('scaler', StandardScaler()),\n",
       "                ('regressor',\n",
       "                 XGBRegressor(base_score=None, booster=None, callbacks=None,\n",
       "                              colsample_bylevel=None, colsample_bynode=None,\n",
       "                              colsample_bytree=None, early_stopping_rounds=None,\n",
       "                              enable_categorical=False, eval_metric=None,\n",
       "                              feature_types=None, gamma=None, gpu_id=None,\n",
       "                              grow_policy=None, importance_type=None,\n",
       "                              interaction_constraints=None, learning_rate=None,\n",
       "                              max_bin=None, max_cat_threshold=None,\n",
       "                              max_cat_to_onehot=None, max_delta_step=None,\n",
       "                              max_depth=None, max_leaves=None,\n",
       "                              min_child_weight=None, missing=nan,\n",
       "                              monotone_constraints=None, n_estimators=100,\n",
       "                              n_jobs=None, num_parallel_tree=None,\n",
       "                              predictor=None, random_state=42, ...))])"
      ]
     },
     "execution_count": 46,
     "metadata": {},
     "output_type": "execute_result"
    }
   ],
   "source": [
    "# Best Estimator\n",
    "gs.best_estimator_"
   ]
  },
  {
   "cell_type": "code",
   "execution_count": 47,
   "id": "95c57a84",
   "metadata": {},
   "outputs": [
    {
     "name": "stdout",
     "output_type": "stream",
     "text": [
      "R^2 Train: 0.8316\n"
     ]
    }
   ],
   "source": [
    "print(f'R^2 Train: {gs.score(X_train, y_train):0.4}')"
   ]
  },
  {
   "cell_type": "markdown",
   "id": "88fe2704",
   "metadata": {},
   "source": [
    "R方差别不大"
   ]
  },
  {
   "cell_type": "code",
   "execution_count": 48,
   "id": "ca96428e",
   "metadata": {},
   "outputs": [],
   "source": [
    "y_preds1 = gs.predict(X_test)"
   ]
  },
  {
   "cell_type": "code",
   "execution_count": 49,
   "id": "d2df4153",
   "metadata": {},
   "outputs": [
    {
     "data": {
      "text/plain": [
       "16.926578899078418"
      ]
     },
     "execution_count": 49,
     "metadata": {},
     "output_type": "execute_result"
    }
   ],
   "source": [
    "MSE = metrics.mean_squared_error(y_test, y_preds1)\n",
    "MSE"
   ]
  },
  {
   "cell_type": "markdown",
   "id": "a3f58969",
   "metadata": {},
   "source": [
    "MSE的差别也不大"
   ]
  },
  {
   "cell_type": "code",
   "execution_count": 50,
   "id": "7376e866",
   "metadata": {},
   "outputs": [
    {
     "data": {
      "text/plain": [
       "1.772370020511416"
      ]
     },
     "execution_count": 50,
     "metadata": {},
     "output_type": "execute_result"
    }
   ],
   "source": [
    "y_preds2 = gs.predict(X_train)\n",
    "metrics.mean_squared_error(y_train, y_preds2)"
   ]
  },
  {
   "cell_type": "markdown",
   "id": "c40ab011",
   "metadata": {},
   "source": [
    "训练集和测试集的MSE差别比较大"
   ]
  },
  {
   "cell_type": "code",
   "execution_count": null,
   "id": "3dd13108",
   "metadata": {},
   "outputs": [],
   "source": []
  },
  {
   "cell_type": "code",
   "execution_count": null,
   "id": "735ad9f4",
   "metadata": {},
   "outputs": [],
   "source": []
  },
  {
   "cell_type": "code",
   "execution_count": null,
   "id": "947db649",
   "metadata": {},
   "outputs": [],
   "source": []
  },
  {
   "cell_type": "code",
   "execution_count": null,
   "id": "e8b49c75",
   "metadata": {},
   "outputs": [],
   "source": []
  },
  {
   "cell_type": "code",
   "execution_count": null,
   "id": "212b6569",
   "metadata": {},
   "outputs": [],
   "source": []
  },
  {
   "cell_type": "code",
   "execution_count": null,
   "id": "592c8443",
   "metadata": {},
   "outputs": [],
   "source": []
  },
  {
   "cell_type": "code",
   "execution_count": null,
   "id": "ec2fd4e0",
   "metadata": {},
   "outputs": [],
   "source": []
  },
  {
   "cell_type": "code",
   "execution_count": null,
   "id": "7ce57a0e",
   "metadata": {},
   "outputs": [],
   "source": []
  },
  {
   "cell_type": "code",
   "execution_count": null,
   "id": "321ba573",
   "metadata": {},
   "outputs": [],
   "source": []
  },
  {
   "cell_type": "code",
   "execution_count": null,
   "id": "1538f249",
   "metadata": {},
   "outputs": [],
   "source": []
  },
  {
   "cell_type": "code",
   "execution_count": null,
   "id": "35e4a245",
   "metadata": {},
   "outputs": [],
   "source": []
  },
  {
   "cell_type": "code",
   "execution_count": null,
   "id": "5d8eb383",
   "metadata": {},
   "outputs": [],
   "source": []
  },
  {
   "cell_type": "code",
   "execution_count": null,
   "id": "cdba73d7",
   "metadata": {},
   "outputs": [],
   "source": []
  },
  {
   "cell_type": "code",
   "execution_count": null,
   "id": "a6fe136a",
   "metadata": {},
   "outputs": [],
   "source": []
  },
  {
   "cell_type": "code",
   "execution_count": null,
   "id": "4f1988c4",
   "metadata": {},
   "outputs": [],
   "source": []
  },
  {
   "cell_type": "code",
   "execution_count": null,
   "id": "d1e4d462",
   "metadata": {},
   "outputs": [],
   "source": []
  },
  {
   "cell_type": "code",
   "execution_count": null,
   "id": "6766c77f",
   "metadata": {},
   "outputs": [],
   "source": []
  },
  {
   "cell_type": "code",
   "execution_count": null,
   "id": "957475bf",
   "metadata": {},
   "outputs": [],
   "source": []
  },
  {
   "cell_type": "code",
   "execution_count": null,
   "id": "7db761af",
   "metadata": {},
   "outputs": [],
   "source": []
  }
 ],
 "metadata": {
  "kernelspec": {
   "display_name": "Python 3 (ipykernel)",
   "language": "python",
   "name": "python3"
  },
  "language_info": {
   "codemirror_mode": {
    "name": "ipython",
    "version": 3
   },
   "file_extension": ".py",
   "mimetype": "text/x-python",
   "name": "python",
   "nbconvert_exporter": "python",
   "pygments_lexer": "ipython3",
   "version": "3.9.13"
  }
 },
 "nbformat": 4,
 "nbformat_minor": 5
}
