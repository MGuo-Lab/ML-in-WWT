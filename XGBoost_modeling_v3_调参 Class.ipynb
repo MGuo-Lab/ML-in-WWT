{
 "cells": [
  {
   "cell_type": "markdown",
   "id": "467782f1",
   "metadata": {},
   "source": [
    "参考链接：https://zhuanlan.zhihu.com/p/162001079"
   ]
  },
  {
   "cell_type": "markdown",
   "id": "6a27eba1",
   "metadata": {},
   "source": [
    "**导入基础包**"
   ]
  },
  {
   "cell_type": "code",
   "execution_count": 7,
   "id": "4a9e3702",
   "metadata": {},
   "outputs": [],
   "source": [
    "#packages\n",
    "import pandas as pd\n",
    "import numpy as np\n",
    "\n",
    "from pylab import plt\n",
    "plt.style.use('seaborn')\n",
    "%matplotlib inline\n",
    "\n",
    "# Ignore warnings\n",
    "import warnings\n",
    "warnings.filterwarnings('ignore')"
   ]
  },
  {
   "cell_type": "markdown",
   "id": "698ddc82",
   "metadata": {},
   "source": [
    "**读取数据**"
   ]
  },
  {
   "cell_type": "code",
   "execution_count": 8,
   "id": "4379ceaa",
   "metadata": {},
   "outputs": [],
   "source": [
    "df = pd.read_csv('data_features_Class.csv') "
   ]
  },
  {
   "cell_type": "code",
   "execution_count": 9,
   "id": "4f204942",
   "metadata": {},
   "outputs": [
    {
     "data": {
      "text/html": [
       "<div>\n",
       "<style scoped>\n",
       "    .dataframe tbody tr th:only-of-type {\n",
       "        vertical-align: middle;\n",
       "    }\n",
       "\n",
       "    .dataframe tbody tr th {\n",
       "        vertical-align: top;\n",
       "    }\n",
       "\n",
       "    .dataframe thead th {\n",
       "        text-align: right;\n",
       "    }\n",
       "</style>\n",
       "<table border=\"1\" class=\"dataframe\">\n",
       "  <thead>\n",
       "    <tr style=\"text-align: right;\">\n",
       "      <th></th>\n",
       "      <th>Unnamed: 0</th>\n",
       "      <th>Sample ID</th>\n",
       "      <th>Sampling month average</th>\n",
       "      <th>Sampling month</th>\n",
       "      <th>SRTd</th>\n",
       "      <th>COD</th>\n",
       "      <th>NH4N</th>\n",
       "      <th>TP</th>\n",
       "      <th>Gammaproteobacteria</th>\n",
       "      <th>Bacteroidia</th>\n",
       "      <th>...</th>\n",
       "      <th>Vampirivibrionia</th>\n",
       "      <th>Desulfovibrionia</th>\n",
       "      <th>Negativicutes</th>\n",
       "      <th>Holophagae</th>\n",
       "      <th>Leptospirae</th>\n",
       "      <th>metagenome</th>\n",
       "      <th>Kapabacteria</th>\n",
       "      <th>Lineage IIb</th>\n",
       "      <th>Desulfobacteria</th>\n",
       "      <th>Hydrogenedentia</th>\n",
       "    </tr>\n",
       "  </thead>\n",
       "  <tbody>\n",
       "    <tr>\n",
       "      <th>0</th>\n",
       "      <td>0</td>\n",
       "      <td>SAKR1</td>\n",
       "      <td>18.0</td>\n",
       "      <td>55.0</td>\n",
       "      <td>12.0</td>\n",
       "      <td>771.97</td>\n",
       "      <td>61.4</td>\n",
       "      <td>7.2</td>\n",
       "      <td>35.535156</td>\n",
       "      <td>22.441406</td>\n",
       "      <td>...</td>\n",
       "      <td>0.054688</td>\n",
       "      <td>0.082031</td>\n",
       "      <td>0.027344</td>\n",
       "      <td>0.058594</td>\n",
       "      <td>0.144531</td>\n",
       "      <td>0.757812</td>\n",
       "      <td>0.058594</td>\n",
       "      <td>0.257812</td>\n",
       "      <td>0.003906</td>\n",
       "      <td>0.101562</td>\n",
       "    </tr>\n",
       "    <tr>\n",
       "      <th>1</th>\n",
       "      <td>1</td>\n",
       "      <td>SAKR2</td>\n",
       "      <td>18.0</td>\n",
       "      <td>55.0</td>\n",
       "      <td>12.0</td>\n",
       "      <td>771.97</td>\n",
       "      <td>61.4</td>\n",
       "      <td>7.2</td>\n",
       "      <td>32.203125</td>\n",
       "      <td>23.753906</td>\n",
       "      <td>...</td>\n",
       "      <td>0.035156</td>\n",
       "      <td>0.101562</td>\n",
       "      <td>0.023438</td>\n",
       "      <td>0.105469</td>\n",
       "      <td>0.160156</td>\n",
       "      <td>0.941406</td>\n",
       "      <td>0.066406</td>\n",
       "      <td>0.214844</td>\n",
       "      <td>0.003906</td>\n",
       "      <td>0.085938</td>\n",
       "    </tr>\n",
       "    <tr>\n",
       "      <th>2</th>\n",
       "      <td>2</td>\n",
       "      <td>SAKR3</td>\n",
       "      <td>18.0</td>\n",
       "      <td>55.0</td>\n",
       "      <td>12.0</td>\n",
       "      <td>771.97</td>\n",
       "      <td>61.4</td>\n",
       "      <td>7.2</td>\n",
       "      <td>31.246094</td>\n",
       "      <td>24.363281</td>\n",
       "      <td>...</td>\n",
       "      <td>0.035156</td>\n",
       "      <td>0.054688</td>\n",
       "      <td>0.046875</td>\n",
       "      <td>0.054688</td>\n",
       "      <td>0.167969</td>\n",
       "      <td>0.917969</td>\n",
       "      <td>0.042969</td>\n",
       "      <td>0.246094</td>\n",
       "      <td>0.000000</td>\n",
       "      <td>0.101562</td>\n",
       "    </tr>\n",
       "    <tr>\n",
       "      <th>3</th>\n",
       "      <td>3</td>\n",
       "      <td>SAKR4</td>\n",
       "      <td>18.0</td>\n",
       "      <td>55.0</td>\n",
       "      <td>12.0</td>\n",
       "      <td>771.97</td>\n",
       "      <td>61.4</td>\n",
       "      <td>7.2</td>\n",
       "      <td>34.714844</td>\n",
       "      <td>23.082031</td>\n",
       "      <td>...</td>\n",
       "      <td>0.042969</td>\n",
       "      <td>0.062500</td>\n",
       "      <td>0.066406</td>\n",
       "      <td>0.078125</td>\n",
       "      <td>0.171875</td>\n",
       "      <td>0.812500</td>\n",
       "      <td>0.078125</td>\n",
       "      <td>0.222656</td>\n",
       "      <td>0.015625</td>\n",
       "      <td>0.101562</td>\n",
       "    </tr>\n",
       "    <tr>\n",
       "      <th>4</th>\n",
       "      <td>4</td>\n",
       "      <td>SAKR5</td>\n",
       "      <td>18.0</td>\n",
       "      <td>55.0</td>\n",
       "      <td>12.0</td>\n",
       "      <td>771.97</td>\n",
       "      <td>61.4</td>\n",
       "      <td>7.2</td>\n",
       "      <td>30.414062</td>\n",
       "      <td>24.949219</td>\n",
       "      <td>...</td>\n",
       "      <td>0.039062</td>\n",
       "      <td>0.054688</td>\n",
       "      <td>0.035156</td>\n",
       "      <td>0.058594</td>\n",
       "      <td>0.226562</td>\n",
       "      <td>0.902344</td>\n",
       "      <td>0.070312</td>\n",
       "      <td>0.265625</td>\n",
       "      <td>0.000000</td>\n",
       "      <td>0.121094</td>\n",
       "    </tr>\n",
       "  </tbody>\n",
       "</table>\n",
       "<p>5 rows × 59 columns</p>\n",
       "</div>"
      ],
      "text/plain": [
       "   Unnamed: 0 Sample ID  Sampling month average  Sampling month  SRTd     COD  \\\n",
       "0           0     SAKR1                    18.0            55.0  12.0  771.97   \n",
       "1           1     SAKR2                    18.0            55.0  12.0  771.97   \n",
       "2           2     SAKR3                    18.0            55.0  12.0  771.97   \n",
       "3           3     SAKR4                    18.0            55.0  12.0  771.97   \n",
       "4           4     SAKR5                    18.0            55.0  12.0  771.97   \n",
       "\n",
       "   NH4N   TP  Gammaproteobacteria  Bacteroidia  ...  Vampirivibrionia  \\\n",
       "0  61.4  7.2            35.535156    22.441406  ...          0.054688   \n",
       "1  61.4  7.2            32.203125    23.753906  ...          0.035156   \n",
       "2  61.4  7.2            31.246094    24.363281  ...          0.035156   \n",
       "3  61.4  7.2            34.714844    23.082031  ...          0.042969   \n",
       "4  61.4  7.2            30.414062    24.949219  ...          0.039062   \n",
       "\n",
       "   Desulfovibrionia  Negativicutes  Holophagae  Leptospirae  metagenome  \\\n",
       "0          0.082031       0.027344    0.058594     0.144531    0.757812   \n",
       "1          0.101562       0.023438    0.105469     0.160156    0.941406   \n",
       "2          0.054688       0.046875    0.054688     0.167969    0.917969   \n",
       "3          0.062500       0.066406    0.078125     0.171875    0.812500   \n",
       "4          0.054688       0.035156    0.058594     0.226562    0.902344   \n",
       "\n",
       "   Kapabacteria  Lineage IIb  Desulfobacteria  Hydrogenedentia  \n",
       "0      0.058594     0.257812         0.003906         0.101562  \n",
       "1      0.066406     0.214844         0.003906         0.085938  \n",
       "2      0.042969     0.246094         0.000000         0.101562  \n",
       "3      0.078125     0.222656         0.015625         0.101562  \n",
       "4      0.070312     0.265625         0.000000         0.121094  \n",
       "\n",
       "[5 rows x 59 columns]"
      ]
     },
     "execution_count": 9,
     "metadata": {},
     "output_type": "execute_result"
    }
   ],
   "source": [
    "df.head()"
   ]
  },
  {
   "cell_type": "code",
   "execution_count": 10,
   "id": "7b3eb192",
   "metadata": {},
   "outputs": [
    {
     "data": {
      "text/plain": [
       "(1186, 59)"
      ]
     },
     "execution_count": 10,
     "metadata": {},
     "output_type": "execute_result"
    }
   ],
   "source": [
    "df.shape"
   ]
  },
  {
   "cell_type": "code",
   "execution_count": 11,
   "id": "d7add247",
   "metadata": {},
   "outputs": [
    {
     "data": {
      "text/plain": [
       "Index(['Unnamed: 0', 'Sample ID', 'Sampling month average', 'Sampling month',\n",
       "       'SRTd', 'COD', 'NH4N', 'TP', 'Gammaproteobacteria', 'Bacteroidia',\n",
       "       'Unclassified', 'Alphaproteobacteria', 'Others', 'Clostridia',\n",
       "       'Anaerolineae', 'Parcubacteria', 'Polyangia', 'Planctomycetes',\n",
       "       'Verrucomicrobiae', 'Bdellovibrionia', 'Chlamydiae', 'Oligoflexia',\n",
       "       'Phycisphaerae', 'Gracilibacteria', 'Actinobacteria', 'Bacilli',\n",
       "       'Microgenomatia', 'Babeliae', 'ABY1', 'Saccharimonadia',\n",
       "       'Acidimicrobiia', 'Omnitrophia', 'Cyanobacteriia', 'Acidobacteriae',\n",
       "       'Myxococcia', 'Nanoarchaeia', 'Thermoleophilia', 'Blastocatellia',\n",
       "       'OM190', 'Spirochaetia', 'Nitrospiria', 'Chloroflexia',\n",
       "       'Kiritimatiellae', 'Ignavibacteria', 'Desulfuromonadia',\n",
       "       'Campylobacteria', 'Gemmatimonadetes', 'Vicinamibacteria',\n",
       "       'Fimbriimonadia', 'Vampirivibrionia', 'Desulfovibrionia',\n",
       "       'Negativicutes', 'Holophagae', 'Leptospirae', 'metagenome',\n",
       "       'Kapabacteria', 'Lineage IIb', 'Desulfobacteria', 'Hydrogenedentia'],\n",
       "      dtype='object')"
      ]
     },
     "execution_count": 11,
     "metadata": {},
     "output_type": "execute_result"
    }
   ],
   "source": [
    "df.columns"
   ]
  },
  {
   "cell_type": "code",
   "execution_count": 12,
   "id": "8897fab3",
   "metadata": {},
   "outputs": [],
   "source": [
    "features = ['Sampling month average', 'Sampling month','SRTd', 'COD', 'NH4N', 'TP']\n",
    "targets = ['Gammaproteobacteria', 'Bacteroidia',\n",
    "       'Unclassified', 'Alphaproteobacteria', 'Others', 'Clostridia',\n",
    "       'Anaerolineae', 'Parcubacteria', 'Polyangia', 'Planctomycetes',\n",
    "       'Verrucomicrobiae', 'Bdellovibrionia', 'Chlamydiae', 'Oligoflexia',\n",
    "       'Phycisphaerae', 'Gracilibacteria', 'Actinobacteria', 'Bacilli',\n",
    "       'Microgenomatia', 'Babeliae', 'ABY1', 'Saccharimonadia',\n",
    "       'Acidimicrobiia', 'Omnitrophia', 'Cyanobacteriia', 'Acidobacteriae',\n",
    "       'Myxococcia', 'Nanoarchaeia', 'Thermoleophilia', 'Blastocatellia',\n",
    "       'OM190', 'Spirochaetia', 'Nitrospiria', 'Chloroflexia',\n",
    "       'Kiritimatiellae', 'Ignavibacteria', 'Desulfuromonadia',\n",
    "       'Campylobacteria', 'Gemmatimonadetes', 'Vicinamibacteria',\n",
    "       'Fimbriimonadia', 'Vampirivibrionia', 'Desulfovibrionia',\n",
    "       'Negativicutes', 'Holophagae', 'Leptospirae', 'metagenome',\n",
    "       'Kapabacteria', 'Lineage IIb', 'Desulfobacteria', 'Hydrogenedentia']"
   ]
  },
  {
   "cell_type": "markdown",
   "id": "ce86763e",
   "metadata": {},
   "source": [
    "**简单的EDA**"
   ]
  },
  {
   "cell_type": "code",
   "execution_count": 13,
   "id": "973a96e6",
   "metadata": {},
   "outputs": [
    {
     "data": {
      "text/plain": [
       "Unnamed: 0                  0\n",
       "Sample ID                   0\n",
       "Sampling month average    132\n",
       "Sampling month             23\n",
       "SRTd                      342\n",
       "COD                       577\n",
       "NH4N                      430\n",
       "TP                        583\n",
       "Gammaproteobacteria         0\n",
       "Bacteroidia                 0\n",
       "Unclassified                0\n",
       "Alphaproteobacteria         0\n",
       "Others                      0\n",
       "Clostridia                  0\n",
       "Anaerolineae                0\n",
       "Parcubacteria               0\n",
       "Polyangia                   0\n",
       "Planctomycetes              0\n",
       "Verrucomicrobiae            0\n",
       "Bdellovibrionia             0\n",
       "Chlamydiae                  0\n",
       "Oligoflexia                 0\n",
       "Phycisphaerae               0\n",
       "Gracilibacteria             0\n",
       "Actinobacteria              0\n",
       "Bacilli                     0\n",
       "Microgenomatia              0\n",
       "Babeliae                    0\n",
       "ABY1                        0\n",
       "Saccharimonadia             0\n",
       "Acidimicrobiia              0\n",
       "Omnitrophia                 0\n",
       "Cyanobacteriia              0\n",
       "Acidobacteriae              0\n",
       "Myxococcia                  0\n",
       "Nanoarchaeia                0\n",
       "Thermoleophilia             0\n",
       "Blastocatellia              0\n",
       "OM190                       0\n",
       "Spirochaetia                0\n",
       "Nitrospiria                 0\n",
       "Chloroflexia                0\n",
       "Kiritimatiellae             0\n",
       "Ignavibacteria              0\n",
       "Desulfuromonadia            0\n",
       "Campylobacteria             0\n",
       "Gemmatimonadetes            0\n",
       "Vicinamibacteria            0\n",
       "Fimbriimonadia              0\n",
       "Vampirivibrionia            0\n",
       "Desulfovibrionia            0\n",
       "Negativicutes               0\n",
       "Holophagae                  0\n",
       "Leptospirae                 0\n",
       "metagenome                  0\n",
       "Kapabacteria                0\n",
       "Lineage IIb                 0\n",
       "Desulfobacteria             0\n",
       "Hydrogenedentia             0\n",
       "dtype: int64"
      ]
     },
     "execution_count": 13,
     "metadata": {},
     "output_type": "execute_result"
    }
   ],
   "source": [
    "df.isnull().sum()"
   ]
  },
  {
   "cell_type": "markdown",
   "id": "30d5f284",
   "metadata": {},
   "source": [
    "我们看到预测目标里面没有NA， 不过features里面有NA. "
   ]
  },
  {
   "cell_type": "markdown",
   "id": "df8d9eec",
   "metadata": {},
   "source": [
    "部分features的空值较多，还不能直接drop. "
   ]
  },
  {
   "cell_type": "markdown",
   "id": "d2d35d9c",
   "metadata": {},
   "source": [
    "考虑给空值部分填充均值。"
   ]
  },
  {
   "cell_type": "markdown",
   "id": "ada95988",
   "metadata": {},
   "source": [
    "分拆数据"
   ]
  },
  {
   "cell_type": "code",
   "execution_count": 14,
   "id": "a5f1646d",
   "metadata": {},
   "outputs": [],
   "source": [
    "from sklearn.model_selection import train_test_split"
   ]
  },
  {
   "cell_type": "code",
   "execution_count": 15,
   "id": "ec341593",
   "metadata": {},
   "outputs": [
    {
     "name": "stdout",
     "output_type": "stream",
     "text": [
      "Train and Test Size 948, 238\n"
     ]
    }
   ],
   "source": [
    "# Splitting the datasets into training and testing data.\n",
    "train_data, test_data = train_test_split(df, train_size=0.8, test_size=0.2, shuffle=False)\n",
    "\n",
    "# Output the train and test data size\n",
    "print(f\"Train and Test Size {len(train_data)}, {len(test_data)}\")"
   ]
  },
  {
   "cell_type": "markdown",
   "id": "bcc8f016",
   "metadata": {},
   "source": [
    "在train data 部分曲均值"
   ]
  },
  {
   "cell_type": "code",
   "execution_count": 16,
   "id": "aa73a73c",
   "metadata": {},
   "outputs": [
    {
     "data": {
      "text/plain": [
       "Sampling month average     23.154379\n",
       "Sampling month            115.381081\n",
       "SRTd                       15.258321\n",
       "COD                       430.108594\n",
       "NH4N                       26.645109\n",
       "TP                          6.274391\n",
       "dtype: float64"
      ]
     },
     "execution_count": 16,
     "metadata": {},
     "output_type": "execute_result"
    }
   ],
   "source": [
    "train_data[features].mean()"
   ]
  },
  {
   "cell_type": "markdown",
   "id": "fb7cc78f",
   "metadata": {},
   "source": [
    "用这部均值填充NA数据"
   ]
  },
  {
   "cell_type": "code",
   "execution_count": 17,
   "id": "28e71bd6",
   "metadata": {},
   "outputs": [],
   "source": [
    "df['Sampling month average'].fillna(23.154379, inplace = True)\n",
    "df['Sampling month'].fillna(115.381081, inplace = True)\n",
    "df['SRTd'].fillna(15.258321, inplace = True)\n",
    "df['COD'].fillna(430.108594, inplace = True)\n",
    "df['NH4N'].fillna(26.645109, inplace = True)\n",
    "df['TP'].fillna(6.274391, inplace = True)"
   ]
  },
  {
   "cell_type": "markdown",
   "id": "74a178e0",
   "metadata": {},
   "source": [
    "检查NA"
   ]
  },
  {
   "cell_type": "code",
   "execution_count": 18,
   "id": "cfea83fd",
   "metadata": {},
   "outputs": [
    {
     "data": {
      "text/plain": [
       "Unnamed: 0                0\n",
       "Sample ID                 0\n",
       "Sampling month average    0\n",
       "Sampling month            0\n",
       "SRTd                      0\n",
       "COD                       0\n",
       "NH4N                      0\n",
       "TP                        0\n",
       "Gammaproteobacteria       0\n",
       "Bacteroidia               0\n",
       "Unclassified              0\n",
       "Alphaproteobacteria       0\n",
       "Others                    0\n",
       "Clostridia                0\n",
       "Anaerolineae              0\n",
       "Parcubacteria             0\n",
       "Polyangia                 0\n",
       "Planctomycetes            0\n",
       "Verrucomicrobiae          0\n",
       "Bdellovibrionia           0\n",
       "Chlamydiae                0\n",
       "Oligoflexia               0\n",
       "Phycisphaerae             0\n",
       "Gracilibacteria           0\n",
       "Actinobacteria            0\n",
       "Bacilli                   0\n",
       "Microgenomatia            0\n",
       "Babeliae                  0\n",
       "ABY1                      0\n",
       "Saccharimonadia           0\n",
       "Acidimicrobiia            0\n",
       "Omnitrophia               0\n",
       "Cyanobacteriia            0\n",
       "Acidobacteriae            0\n",
       "Myxococcia                0\n",
       "Nanoarchaeia              0\n",
       "Thermoleophilia           0\n",
       "Blastocatellia            0\n",
       "OM190                     0\n",
       "Spirochaetia              0\n",
       "Nitrospiria               0\n",
       "Chloroflexia              0\n",
       "Kiritimatiellae           0\n",
       "Ignavibacteria            0\n",
       "Desulfuromonadia          0\n",
       "Campylobacteria           0\n",
       "Gemmatimonadetes          0\n",
       "Vicinamibacteria          0\n",
       "Fimbriimonadia            0\n",
       "Vampirivibrionia          0\n",
       "Desulfovibrionia          0\n",
       "Negativicutes             0\n",
       "Holophagae                0\n",
       "Leptospirae               0\n",
       "metagenome                0\n",
       "Kapabacteria              0\n",
       "Lineage IIb               0\n",
       "Desulfobacteria           0\n",
       "Hydrogenedentia           0\n",
       "dtype: int64"
      ]
     },
     "execution_count": 18,
     "metadata": {},
     "output_type": "execute_result"
    }
   ],
   "source": [
    "df.isnull().sum()"
   ]
  },
  {
   "cell_type": "markdown",
   "id": "1306a77f",
   "metadata": {},
   "source": [
    "重定义训练和测试集"
   ]
  },
  {
   "cell_type": "code",
   "execution_count": 19,
   "id": "71a9ac1a",
   "metadata": {},
   "outputs": [
    {
     "name": "stdout",
     "output_type": "stream",
     "text": [
      "Train and Test Size 948, 238\n"
     ]
    }
   ],
   "source": [
    "# Splitting the datasets into training and testing data.\n",
    "train_data, test_data = train_test_split(df, train_size=0.8, test_size=0.2, shuffle=False)\n",
    "\n",
    "# Output the train and test data size\n",
    "print(f\"Train and Test Size {len(train_data)}, {len(test_data)}\")"
   ]
  },
  {
   "cell_type": "markdown",
   "id": "04470613",
   "metadata": {},
   "source": [
    "**建模**"
   ]
  },
  {
   "cell_type": "code",
   "execution_count": 20,
   "id": "8d7a9eba",
   "metadata": {},
   "outputs": [],
   "source": [
    "from sklearn import linear_model \n",
    "from sklearn.pipeline import Pipeline\n",
    "from sklearn.preprocessing import StandardScaler\n",
    "from sklearn.linear_model import Ridge #导入岭回归模型\n",
    "from sklearn.linear_model import SGDRegressor\n",
    "# XGBoost Classifier\n",
    "from xgboost import XGBClassifier, XGBRegressor"
   ]
  },
  {
   "cell_type": "code",
   "execution_count": 21,
   "id": "ac36646e",
   "metadata": {},
   "outputs": [],
   "source": [
    "X_train = train_data[features]\n",
    "y_train = train_data[targets]\n",
    "X_test = test_data[features]\n",
    "y_test = test_data[targets]"
   ]
  },
  {
   "cell_type": "code",
   "execution_count": 22,
   "id": "5b565dfc",
   "metadata": {},
   "outputs": [],
   "source": [
    "xgb =  XGBRegressor(verbosity = 0, silent=True, random_state=42)"
   ]
  },
  {
   "cell_type": "code",
   "execution_count": 23,
   "id": "26cec117",
   "metadata": {},
   "outputs": [],
   "source": [
    "model = Pipeline([\n",
    "    ('scaler', StandardScaler()),\n",
    "    ('regressor', xgb)\n",
    "])"
   ]
  },
  {
   "cell_type": "markdown",
   "id": "74bceacd",
   "metadata": {},
   "source": [
    "训练模型"
   ]
  },
  {
   "cell_type": "code",
   "execution_count": 24,
   "id": "48387400",
   "metadata": {},
   "outputs": [
    {
     "name": "stdout",
     "output_type": "stream",
     "text": [
      "R^2 Train: 0.8079\n"
     ]
    }
   ],
   "source": [
    "model.fit(X_train, y_train)\n",
    "print(f'R^2 Train: {model.score(X_train, y_train):0.4}')"
   ]
  },
  {
   "cell_type": "markdown",
   "id": "798d0ac1",
   "metadata": {},
   "source": [
    "利用训练好的模型做测试"
   ]
  },
  {
   "cell_type": "code",
   "execution_count": 25,
   "id": "815fe277",
   "metadata": {},
   "outputs": [],
   "source": [
    "y_preds = model.predict(X_test)"
   ]
  },
  {
   "cell_type": "code",
   "execution_count": 26,
   "id": "70d63970",
   "metadata": {},
   "outputs": [
    {
     "data": {
      "text/plain": [
       "array([[ 2.7731806e+01,  3.0767715e+01,  1.8955184e+00, ...,\n",
       "         6.2988177e-02,  1.0439201e-02,  1.2892090e-02],\n",
       "       [ 2.9851639e+01,  3.0446268e+01,  1.8528671e+00, ...,\n",
       "         9.4646849e-02,  1.6847190e-02,  1.0129139e-01],\n",
       "       [ 2.9851639e+01,  3.0446268e+01,  1.8528671e+00, ...,\n",
       "         9.4646849e-02,  1.6847190e-02,  1.0129139e-01],\n",
       "       ...,\n",
       "       [ 3.3976074e+01,  2.9706194e+01,  9.6231943e-01, ...,\n",
       "         1.8186308e-02, -6.6345353e-03,  6.0375705e-02],\n",
       "       [ 3.3976074e+01,  2.9706194e+01,  9.6231943e-01, ...,\n",
       "         1.8186308e-02, -6.6345353e-03,  6.0375705e-02],\n",
       "       [ 3.3976074e+01,  2.9706194e+01,  9.6231943e-01, ...,\n",
       "         1.8186308e-02, -6.6345353e-03,  6.0375705e-02]], dtype=float32)"
      ]
     },
     "execution_count": 26,
     "metadata": {},
     "output_type": "execute_result"
    }
   ],
   "source": [
    "y_preds"
   ]
  },
  {
   "cell_type": "markdown",
   "id": "ea954879",
   "metadata": {},
   "source": [
    "**结果可视化**"
   ]
  },
  {
   "cell_type": "markdown",
   "id": "54d799c7",
   "metadata": {},
   "source": [
    "展示第一个ID的预测结果。"
   ]
  },
  {
   "cell_type": "code",
   "execution_count": 27,
   "id": "389d13c7",
   "metadata": {},
   "outputs": [
    {
     "data": {
      "text/plain": [
       "array([2.7731806e+01, 3.0767715e+01, 1.8955184e+00, 6.4347763e+00,\n",
       "       1.1891586e+00, 5.6791222e-01, 3.2297401e+00, 4.9844104e-01,\n",
       "       7.1744704e+00, 1.2204977e+00, 9.9414217e-01, 3.2500729e-01,\n",
       "       3.1763673e-01, 4.4903168e-01, 1.1631178e+00, 1.4769228e-01,\n",
       "       4.4598804e+00, 2.5617933e-01, 3.7770882e-02, 1.9645073e-01,\n",
       "       6.8662688e-02, 3.7766030e-01, 7.5506270e-01, 1.9417033e-02,\n",
       "       2.2536986e-02, 3.5437167e-01, 3.7924084e-01, 1.5490610e-02,\n",
       "       2.0800696e-01, 1.0457560e+00, 5.4420394e-01, 3.6990758e-02,\n",
       "       2.1580377e+00, 2.8328829e-02, 1.0736097e-01, 6.7673165e-01,\n",
       "       5.6421697e-02, 3.6607972e-01, 3.6831176e-01, 6.3239044e-01,\n",
       "       2.0837398e-01, 2.3937984e-01, 6.6512160e-02, 3.6544938e-02,\n",
       "       6.6720420e-01, 1.2400018e+00, 7.6640576e-02, 1.8677178e-01,\n",
       "       6.2988177e-02, 1.0439201e-02, 1.2892090e-02], dtype=float32)"
      ]
     },
     "execution_count": 27,
     "metadata": {},
     "output_type": "execute_result"
    }
   ],
   "source": [
    "y_preds[0]"
   ]
  },
  {
   "cell_type": "code",
   "execution_count": 28,
   "id": "406ba69a",
   "metadata": {},
   "outputs": [
    {
     "data": {
      "text/plain": [
       "[27.25390625,\n",
       " 17.56640625,\n",
       " 1.76171875,\n",
       " 8.9609375,\n",
       " 1.875,\n",
       " 0.4921875,\n",
       " 4.35546875,\n",
       " 1.2109375,\n",
       " 12.34765625,\n",
       " 0.92578125,\n",
       " 1.578125,\n",
       " 0.41015625,\n",
       " 0.3984375,\n",
       " 0.62109375,\n",
       " 1.14453125,\n",
       " 0.17578125,\n",
       " 6.9609375,\n",
       " 0.16796875,\n",
       " 0.07421875,\n",
       " 0.0625,\n",
       " 0.1328125,\n",
       " 0.41015625,\n",
       " 0.671875,\n",
       " 0.0078125,\n",
       " 0.01171875,\n",
       " 0.46484375,\n",
       " 0.28125,\n",
       " 0.04296875,\n",
       " 0.12890625,\n",
       " 0.9921875,\n",
       " 0.89453125,\n",
       " 0.09765625,\n",
       " 1.6210937500000002,\n",
       " 0.03515625,\n",
       " 0.28125,\n",
       " 1.43359375,\n",
       " 0.140625,\n",
       " 0.14453125,\n",
       " 0.4921875,\n",
       " 0.60546875,\n",
       " 0.30859375,\n",
       " 0.19140625,\n",
       " 0.08984375,\n",
       " 0.046875,\n",
       " 1.07421875,\n",
       " 0.25,\n",
       " 0.18359375,\n",
       " 0.41796875,\n",
       " 0.15625,\n",
       " 0.015625,\n",
       " 0.03125]"
      ]
     },
     "execution_count": 28,
     "metadata": {},
     "output_type": "execute_result"
    }
   ],
   "source": [
    "y_test.iloc[0].tolist()"
   ]
  },
  {
   "cell_type": "code",
   "execution_count": 29,
   "id": "82965ccb",
   "metadata": {},
   "outputs": [],
   "source": [
    "c = {\"classes\":targets,\n",
    "     \"predictions\":y_preds[0],\n",
    "    \"real\":y_test.iloc[0].tolist() }"
   ]
  },
  {
   "cell_type": "code",
   "execution_count": 30,
   "id": "d63a163c",
   "metadata": {},
   "outputs": [
    {
     "data": {
      "text/html": [
       "<div>\n",
       "<style scoped>\n",
       "    .dataframe tbody tr th:only-of-type {\n",
       "        vertical-align: middle;\n",
       "    }\n",
       "\n",
       "    .dataframe tbody tr th {\n",
       "        vertical-align: top;\n",
       "    }\n",
       "\n",
       "    .dataframe thead th {\n",
       "        text-align: right;\n",
       "    }\n",
       "</style>\n",
       "<table border=\"1\" class=\"dataframe\">\n",
       "  <thead>\n",
       "    <tr style=\"text-align: right;\">\n",
       "      <th></th>\n",
       "      <th>predictions</th>\n",
       "      <th>real</th>\n",
       "    </tr>\n",
       "    <tr>\n",
       "      <th>classes</th>\n",
       "      <th></th>\n",
       "      <th></th>\n",
       "    </tr>\n",
       "  </thead>\n",
       "  <tbody>\n",
       "    <tr>\n",
       "      <th>Gammaproteobacteria</th>\n",
       "      <td>27.731806</td>\n",
       "      <td>27.253906</td>\n",
       "    </tr>\n",
       "    <tr>\n",
       "      <th>Bacteroidia</th>\n",
       "      <td>30.767715</td>\n",
       "      <td>17.566406</td>\n",
       "    </tr>\n",
       "    <tr>\n",
       "      <th>Unclassified</th>\n",
       "      <td>1.895518</td>\n",
       "      <td>1.761719</td>\n",
       "    </tr>\n",
       "    <tr>\n",
       "      <th>Alphaproteobacteria</th>\n",
       "      <td>6.434776</td>\n",
       "      <td>8.960938</td>\n",
       "    </tr>\n",
       "    <tr>\n",
       "      <th>Others</th>\n",
       "      <td>1.189159</td>\n",
       "      <td>1.875000</td>\n",
       "    </tr>\n",
       "    <tr>\n",
       "      <th>Clostridia</th>\n",
       "      <td>0.567912</td>\n",
       "      <td>0.492188</td>\n",
       "    </tr>\n",
       "    <tr>\n",
       "      <th>Anaerolineae</th>\n",
       "      <td>3.229740</td>\n",
       "      <td>4.355469</td>\n",
       "    </tr>\n",
       "    <tr>\n",
       "      <th>Parcubacteria</th>\n",
       "      <td>0.498441</td>\n",
       "      <td>1.210938</td>\n",
       "    </tr>\n",
       "    <tr>\n",
       "      <th>Polyangia</th>\n",
       "      <td>7.174470</td>\n",
       "      <td>12.347656</td>\n",
       "    </tr>\n",
       "    <tr>\n",
       "      <th>Planctomycetes</th>\n",
       "      <td>1.220498</td>\n",
       "      <td>0.925781</td>\n",
       "    </tr>\n",
       "    <tr>\n",
       "      <th>Verrucomicrobiae</th>\n",
       "      <td>0.994142</td>\n",
       "      <td>1.578125</td>\n",
       "    </tr>\n",
       "    <tr>\n",
       "      <th>Bdellovibrionia</th>\n",
       "      <td>0.325007</td>\n",
       "      <td>0.410156</td>\n",
       "    </tr>\n",
       "    <tr>\n",
       "      <th>Chlamydiae</th>\n",
       "      <td>0.317637</td>\n",
       "      <td>0.398438</td>\n",
       "    </tr>\n",
       "    <tr>\n",
       "      <th>Oligoflexia</th>\n",
       "      <td>0.449032</td>\n",
       "      <td>0.621094</td>\n",
       "    </tr>\n",
       "    <tr>\n",
       "      <th>Phycisphaerae</th>\n",
       "      <td>1.163118</td>\n",
       "      <td>1.144531</td>\n",
       "    </tr>\n",
       "    <tr>\n",
       "      <th>Gracilibacteria</th>\n",
       "      <td>0.147692</td>\n",
       "      <td>0.175781</td>\n",
       "    </tr>\n",
       "    <tr>\n",
       "      <th>Actinobacteria</th>\n",
       "      <td>4.459880</td>\n",
       "      <td>6.960938</td>\n",
       "    </tr>\n",
       "    <tr>\n",
       "      <th>Bacilli</th>\n",
       "      <td>0.256179</td>\n",
       "      <td>0.167969</td>\n",
       "    </tr>\n",
       "    <tr>\n",
       "      <th>Microgenomatia</th>\n",
       "      <td>0.037771</td>\n",
       "      <td>0.074219</td>\n",
       "    </tr>\n",
       "    <tr>\n",
       "      <th>Babeliae</th>\n",
       "      <td>0.196451</td>\n",
       "      <td>0.062500</td>\n",
       "    </tr>\n",
       "    <tr>\n",
       "      <th>ABY1</th>\n",
       "      <td>0.068663</td>\n",
       "      <td>0.132812</td>\n",
       "    </tr>\n",
       "    <tr>\n",
       "      <th>Saccharimonadia</th>\n",
       "      <td>0.377660</td>\n",
       "      <td>0.410156</td>\n",
       "    </tr>\n",
       "    <tr>\n",
       "      <th>Acidimicrobiia</th>\n",
       "      <td>0.755063</td>\n",
       "      <td>0.671875</td>\n",
       "    </tr>\n",
       "    <tr>\n",
       "      <th>Omnitrophia</th>\n",
       "      <td>0.019417</td>\n",
       "      <td>0.007812</td>\n",
       "    </tr>\n",
       "    <tr>\n",
       "      <th>Cyanobacteriia</th>\n",
       "      <td>0.022537</td>\n",
       "      <td>0.011719</td>\n",
       "    </tr>\n",
       "    <tr>\n",
       "      <th>Acidobacteriae</th>\n",
       "      <td>0.354372</td>\n",
       "      <td>0.464844</td>\n",
       "    </tr>\n",
       "    <tr>\n",
       "      <th>Myxococcia</th>\n",
       "      <td>0.379241</td>\n",
       "      <td>0.281250</td>\n",
       "    </tr>\n",
       "    <tr>\n",
       "      <th>Nanoarchaeia</th>\n",
       "      <td>0.015491</td>\n",
       "      <td>0.042969</td>\n",
       "    </tr>\n",
       "    <tr>\n",
       "      <th>Thermoleophilia</th>\n",
       "      <td>0.208007</td>\n",
       "      <td>0.128906</td>\n",
       "    </tr>\n",
       "    <tr>\n",
       "      <th>Blastocatellia</th>\n",
       "      <td>1.045756</td>\n",
       "      <td>0.992188</td>\n",
       "    </tr>\n",
       "    <tr>\n",
       "      <th>OM190</th>\n",
       "      <td>0.544204</td>\n",
       "      <td>0.894531</td>\n",
       "    </tr>\n",
       "    <tr>\n",
       "      <th>Spirochaetia</th>\n",
       "      <td>0.036991</td>\n",
       "      <td>0.097656</td>\n",
       "    </tr>\n",
       "    <tr>\n",
       "      <th>Nitrospiria</th>\n",
       "      <td>2.158038</td>\n",
       "      <td>1.621094</td>\n",
       "    </tr>\n",
       "    <tr>\n",
       "      <th>Chloroflexia</th>\n",
       "      <td>0.028329</td>\n",
       "      <td>0.035156</td>\n",
       "    </tr>\n",
       "    <tr>\n",
       "      <th>Kiritimatiellae</th>\n",
       "      <td>0.107361</td>\n",
       "      <td>0.281250</td>\n",
       "    </tr>\n",
       "    <tr>\n",
       "      <th>Ignavibacteria</th>\n",
       "      <td>0.676732</td>\n",
       "      <td>1.433594</td>\n",
       "    </tr>\n",
       "    <tr>\n",
       "      <th>Desulfuromonadia</th>\n",
       "      <td>0.056422</td>\n",
       "      <td>0.140625</td>\n",
       "    </tr>\n",
       "    <tr>\n",
       "      <th>Campylobacteria</th>\n",
       "      <td>0.366080</td>\n",
       "      <td>0.144531</td>\n",
       "    </tr>\n",
       "    <tr>\n",
       "      <th>Gemmatimonadetes</th>\n",
       "      <td>0.368312</td>\n",
       "      <td>0.492188</td>\n",
       "    </tr>\n",
       "    <tr>\n",
       "      <th>Vicinamibacteria</th>\n",
       "      <td>0.632390</td>\n",
       "      <td>0.605469</td>\n",
       "    </tr>\n",
       "    <tr>\n",
       "      <th>Fimbriimonadia</th>\n",
       "      <td>0.208374</td>\n",
       "      <td>0.308594</td>\n",
       "    </tr>\n",
       "    <tr>\n",
       "      <th>Vampirivibrionia</th>\n",
       "      <td>0.239380</td>\n",
       "      <td>0.191406</td>\n",
       "    </tr>\n",
       "    <tr>\n",
       "      <th>Desulfovibrionia</th>\n",
       "      <td>0.066512</td>\n",
       "      <td>0.089844</td>\n",
       "    </tr>\n",
       "    <tr>\n",
       "      <th>Negativicutes</th>\n",
       "      <td>0.036545</td>\n",
       "      <td>0.046875</td>\n",
       "    </tr>\n",
       "    <tr>\n",
       "      <th>Holophagae</th>\n",
       "      <td>0.667204</td>\n",
       "      <td>1.074219</td>\n",
       "    </tr>\n",
       "    <tr>\n",
       "      <th>Leptospirae</th>\n",
       "      <td>1.240002</td>\n",
       "      <td>0.250000</td>\n",
       "    </tr>\n",
       "    <tr>\n",
       "      <th>metagenome</th>\n",
       "      <td>0.076641</td>\n",
       "      <td>0.183594</td>\n",
       "    </tr>\n",
       "    <tr>\n",
       "      <th>Kapabacteria</th>\n",
       "      <td>0.186772</td>\n",
       "      <td>0.417969</td>\n",
       "    </tr>\n",
       "    <tr>\n",
       "      <th>Lineage IIb</th>\n",
       "      <td>0.062988</td>\n",
       "      <td>0.156250</td>\n",
       "    </tr>\n",
       "    <tr>\n",
       "      <th>Desulfobacteria</th>\n",
       "      <td>0.010439</td>\n",
       "      <td>0.015625</td>\n",
       "    </tr>\n",
       "    <tr>\n",
       "      <th>Hydrogenedentia</th>\n",
       "      <td>0.012892</td>\n",
       "      <td>0.031250</td>\n",
       "    </tr>\n",
       "  </tbody>\n",
       "</table>\n",
       "</div>"
      ],
      "text/plain": [
       "                     predictions       real\n",
       "classes                                    \n",
       "Gammaproteobacteria    27.731806  27.253906\n",
       "Bacteroidia            30.767715  17.566406\n",
       "Unclassified            1.895518   1.761719\n",
       "Alphaproteobacteria     6.434776   8.960938\n",
       "Others                  1.189159   1.875000\n",
       "Clostridia              0.567912   0.492188\n",
       "Anaerolineae            3.229740   4.355469\n",
       "Parcubacteria           0.498441   1.210938\n",
       "Polyangia               7.174470  12.347656\n",
       "Planctomycetes          1.220498   0.925781\n",
       "Verrucomicrobiae        0.994142   1.578125\n",
       "Bdellovibrionia         0.325007   0.410156\n",
       "Chlamydiae              0.317637   0.398438\n",
       "Oligoflexia             0.449032   0.621094\n",
       "Phycisphaerae           1.163118   1.144531\n",
       "Gracilibacteria         0.147692   0.175781\n",
       "Actinobacteria          4.459880   6.960938\n",
       "Bacilli                 0.256179   0.167969\n",
       "Microgenomatia          0.037771   0.074219\n",
       "Babeliae                0.196451   0.062500\n",
       "ABY1                    0.068663   0.132812\n",
       "Saccharimonadia         0.377660   0.410156\n",
       "Acidimicrobiia          0.755063   0.671875\n",
       "Omnitrophia             0.019417   0.007812\n",
       "Cyanobacteriia          0.022537   0.011719\n",
       "Acidobacteriae          0.354372   0.464844\n",
       "Myxococcia              0.379241   0.281250\n",
       "Nanoarchaeia            0.015491   0.042969\n",
       "Thermoleophilia         0.208007   0.128906\n",
       "Blastocatellia          1.045756   0.992188\n",
       "OM190                   0.544204   0.894531\n",
       "Spirochaetia            0.036991   0.097656\n",
       "Nitrospiria             2.158038   1.621094\n",
       "Chloroflexia            0.028329   0.035156\n",
       "Kiritimatiellae         0.107361   0.281250\n",
       "Ignavibacteria          0.676732   1.433594\n",
       "Desulfuromonadia        0.056422   0.140625\n",
       "Campylobacteria         0.366080   0.144531\n",
       "Gemmatimonadetes        0.368312   0.492188\n",
       "Vicinamibacteria        0.632390   0.605469\n",
       "Fimbriimonadia          0.208374   0.308594\n",
       "Vampirivibrionia        0.239380   0.191406\n",
       "Desulfovibrionia        0.066512   0.089844\n",
       "Negativicutes           0.036545   0.046875\n",
       "Holophagae              0.667204   1.074219\n",
       "Leptospirae             1.240002   0.250000\n",
       "metagenome              0.076641   0.183594\n",
       "Kapabacteria            0.186772   0.417969\n",
       "Lineage IIb             0.062988   0.156250\n",
       "Desulfobacteria         0.010439   0.015625\n",
       "Hydrogenedentia         0.012892   0.031250"
      ]
     },
     "execution_count": 30,
     "metadata": {},
     "output_type": "execute_result"
    }
   ],
   "source": [
    "com = pd.DataFrame(c)\n",
    "com = com.set_index('classes')\n",
    "com"
   ]
  },
  {
   "cell_type": "markdown",
   "id": "5ed907aa",
   "metadata": {},
   "source": [
    "预测和实际结果的柱状图对比"
   ]
  },
  {
   "cell_type": "code",
   "execution_count": 31,
   "id": "76b0bfd5",
   "metadata": {},
   "outputs": [
    {
     "data": {
      "image/png": "[encoded data removed]",
      "text/plain": [
       "<Figure size 2000x500 with 1 Axes>"
      ]
     },
     "metadata": {},
     "output_type": "display_data"
    }
   ],
   "source": [
    "com.plot(kind='bar',figsize=(20,5));"
   ]
  },
  {
   "cell_type": "markdown",
   "id": "54332a7d",
   "metadata": {},
   "source": [
    "预测和实际结果的散点图对比。"
   ]
  },
  {
   "cell_type": "code",
   "execution_count": 32,
   "id": "5638feb1",
   "metadata": {},
   "outputs": [
    {
     "data": {
      "image/png": "[encoded data removed]",
      "text/plain": [
       "<Figure size 2000x500 with 1 Axes>"
      ]
     },
     "metadata": {},
     "output_type": "display_data"
    }
   ],
   "source": [
    "com.plot(kind='line',style='--o',figsize=(20,5));"
   ]
  },
  {
   "cell_type": "markdown",
   "id": "e8ba71be",
   "metadata": {},
   "source": [
    "上面是第一个预测结果和实际结果的对比，修改参数可以对比其他列。也可以汇总对比均值。"
   ]
  },
  {
   "cell_type": "markdown",
   "id": "a5082093",
   "metadata": {},
   "source": [
    "**模型评估**"
   ]
  },
  {
   "cell_type": "markdown",
   "id": "a6231845",
   "metadata": {},
   "source": [
    "训练集部分"
   ]
  },
  {
   "cell_type": "markdown",
   "id": "b0387a09",
   "metadata": {},
   "source": [
    "R^2"
   ]
  },
  {
   "cell_type": "code",
   "execution_count": 33,
   "id": "2dfb98f0",
   "metadata": {},
   "outputs": [
    {
     "name": "stdout",
     "output_type": "stream",
     "text": [
      "R^2 Train: 0.8079\n"
     ]
    }
   ],
   "source": [
    "print(f'R^2 Train: {model.score(X_train, y_train):0.4}')"
   ]
  },
  {
   "cell_type": "code",
   "execution_count": 34,
   "id": "e7dc6970",
   "metadata": {},
   "outputs": [],
   "source": [
    "from sklearn import metrics"
   ]
  },
  {
   "cell_type": "markdown",
   "id": "8d02a00d",
   "metadata": {},
   "source": [
    "训练集的MSE"
   ]
  },
  {
   "cell_type": "code",
   "execution_count": 35,
   "id": "b31672db",
   "metadata": {},
   "outputs": [
    {
     "data": {
      "text/plain": [
       "0.7568100625018477"
      ]
     },
     "execution_count": 35,
     "metadata": {},
     "output_type": "execute_result"
    }
   ],
   "source": [
    "y_preds2 = model.predict(X_train)\n",
    "metrics.mean_squared_error(y_train, y_preds2)"
   ]
  },
  {
   "cell_type": "markdown",
   "id": "d3bbea5d",
   "metadata": {},
   "source": [
    "测试集部分"
   ]
  },
  {
   "cell_type": "code",
   "execution_count": 36,
   "id": "a2b00aef",
   "metadata": {},
   "outputs": [
    {
     "data": {
      "text/plain": [
       "8.048999689575481"
      ]
     },
     "execution_count": 36,
     "metadata": {},
     "output_type": "execute_result"
    }
   ],
   "source": [
    "MSE = metrics.mean_squared_error(y_test, y_preds)\n",
    "MSE"
   ]
  },
  {
   "cell_type": "code",
   "execution_count": 37,
   "id": "b1c02fdb",
   "metadata": {},
   "outputs": [
    {
     "data": {
      "text/plain": [
       "2.8370759047962535"
      ]
     },
     "execution_count": 37,
     "metadata": {},
     "output_type": "execute_result"
    }
   ],
   "source": [
    "RMSE = metrics.mean_squared_error(y_test, y_preds)**0.5\n",
    "RMSE"
   ]
  },
  {
   "cell_type": "code",
   "execution_count": 38,
   "id": "e90edce7",
   "metadata": {},
   "outputs": [
    {
     "data": {
      "text/plain": [
       "0.9894568236330845"
      ]
     },
     "execution_count": 38,
     "metadata": {},
     "output_type": "execute_result"
    }
   ],
   "source": [
    "MAE = metrics.mean_absolute_error(y_test, y_preds)\n",
    "MAE"
   ]
  },
  {
   "cell_type": "code",
   "execution_count": 39,
   "id": "81b96789",
   "metadata": {},
   "outputs": [
    {
     "data": {
      "text/plain": [
       "125702782125022.28"
      ]
     },
     "execution_count": 39,
     "metadata": {},
     "output_type": "execute_result"
    }
   ],
   "source": [
    "MAPE = metrics.mean_absolute_percentage_error(y_test, y_preds)\n",
    "MAPE"
   ]
  },
  {
   "cell_type": "markdown",
   "id": "1495b873",
   "metadata": {},
   "source": [
    "# 调参和优化"
   ]
  },
  {
   "cell_type": "code",
   "execution_count": 40,
   "id": "b2736899",
   "metadata": {},
   "outputs": [],
   "source": [
    "from sklearn.model_selection import train_test_split, TimeSeriesSplit, GridSearchCV"
   ]
  },
  {
   "cell_type": "code",
   "execution_count": 41,
   "id": "ff0bfc46",
   "metadata": {},
   "outputs": [],
   "source": [
    "# Cross-validation\n",
    "tscv = TimeSeriesSplit(n_splits=5)"
   ]
  },
  {
   "cell_type": "code",
   "execution_count": 42,
   "id": "4ccbd156",
   "metadata": {},
   "outputs": [
    {
     "data": {
      "text/plain": [
       "{'memory': None,\n",
       " 'steps': [('scaler', StandardScaler()),\n",
       "  ('regressor',\n",
       "   XGBRegressor(base_score=None, booster=None, callbacks=None,\n",
       "                colsample_bylevel=None, colsample_bynode=None,\n",
       "                colsample_bytree=None, early_stopping_rounds=None,\n",
       "                enable_categorical=False, eval_metric=None, feature_types=None,\n",
       "                gamma=None, gpu_id=None, grow_policy=None, importance_type=None,\n",
       "                interaction_constraints=None, learning_rate=None, max_bin=None,\n",
       "                max_cat_threshold=None, max_cat_to_onehot=None,\n",
       "                max_delta_step=None, max_depth=None, max_leaves=None,\n",
       "                min_child_weight=None, missing=nan, monotone_constraints=None,\n",
       "                n_estimators=100, n_jobs=None, num_parallel_tree=None,\n",
       "                predictor=None, random_state=42, ...))],\n",
       " 'verbose': False,\n",
       " 'scaler': StandardScaler(),\n",
       " 'regressor': XGBRegressor(base_score=None, booster=None, callbacks=None,\n",
       "              colsample_bylevel=None, colsample_bynode=None,\n",
       "              colsample_bytree=None, early_stopping_rounds=None,\n",
       "              enable_categorical=False, eval_metric=None, feature_types=None,\n",
       "              gamma=None, gpu_id=None, grow_policy=None, importance_type=None,\n",
       "              interaction_constraints=None, learning_rate=None, max_bin=None,\n",
       "              max_cat_threshold=None, max_cat_to_onehot=None,\n",
       "              max_delta_step=None, max_depth=None, max_leaves=None,\n",
       "              min_child_weight=None, missing=nan, monotone_constraints=None,\n",
       "              n_estimators=100, n_jobs=None, num_parallel_tree=None,\n",
       "              predictor=None, random_state=42, ...),\n",
       " 'scaler__copy': True,\n",
       " 'scaler__with_mean': True,\n",
       " 'scaler__with_std': True,\n",
       " 'regressor__objective': 'reg:squarederror',\n",
       " 'regressor__base_score': None,\n",
       " 'regressor__booster': None,\n",
       " 'regressor__callbacks': None,\n",
       " 'regressor__colsample_bylevel': None,\n",
       " 'regressor__colsample_bynode': None,\n",
       " 'regressor__colsample_bytree': None,\n",
       " 'regressor__early_stopping_rounds': None,\n",
       " 'regressor__enable_categorical': False,\n",
       " 'regressor__eval_metric': None,\n",
       " 'regressor__feature_types': None,\n",
       " 'regressor__gamma': None,\n",
       " 'regressor__gpu_id': None,\n",
       " 'regressor__grow_policy': None,\n",
       " 'regressor__importance_type': None,\n",
       " 'regressor__interaction_constraints': None,\n",
       " 'regressor__learning_rate': None,\n",
       " 'regressor__max_bin': None,\n",
       " 'regressor__max_cat_threshold': None,\n",
       " 'regressor__max_cat_to_onehot': None,\n",
       " 'regressor__max_delta_step': None,\n",
       " 'regressor__max_depth': None,\n",
       " 'regressor__max_leaves': None,\n",
       " 'regressor__min_child_weight': None,\n",
       " 'regressor__missing': nan,\n",
       " 'regressor__monotone_constraints': None,\n",
       " 'regressor__n_estimators': 100,\n",
       " 'regressor__n_jobs': None,\n",
       " 'regressor__num_parallel_tree': None,\n",
       " 'regressor__predictor': None,\n",
       " 'regressor__random_state': 42,\n",
       " 'regressor__reg_alpha': None,\n",
       " 'regressor__reg_lambda': None,\n",
       " 'regressor__sampling_method': None,\n",
       " 'regressor__scale_pos_weight': None,\n",
       " 'regressor__subsample': None,\n",
       " 'regressor__tree_method': None,\n",
       " 'regressor__validate_parameters': None,\n",
       " 'regressor__verbosity': 0,\n",
       " 'regressor__silent': True}"
      ]
     },
     "execution_count": 42,
     "metadata": {},
     "output_type": "execute_result"
    }
   ],
   "source": [
    "# Get parameters list\n",
    "model.get_params()"
   ]
  },
  {
   "cell_type": "code",
   "execution_count": 43,
   "id": "1e14aa67",
   "metadata": {},
   "outputs": [],
   "source": [
    "# Perform Gridsearch and fit\n",
    "param_grid = {\"regressor__n_estimators\": [100,150,300,400,500]}"
   ]
  },
  {
   "cell_type": "code",
   "execution_count": 44,
   "id": "6eb6b6cd",
   "metadata": {},
   "outputs": [
    {
     "name": "stdout",
     "output_type": "stream",
     "text": [
      "Fitting 5 folds for each of 5 candidates, totalling 25 fits\n"
     ]
    },
    {
     "data": {
      "text/plain": [
       "GridSearchCV(cv=TimeSeriesSplit(gap=0, max_train_size=None, n_splits=5, test_size=None),\n",
       "             estimator=Pipeline(steps=[('scaler', StandardScaler()),\n",
       "                                       ('regressor',\n",
       "                                        XGBRegressor(base_score=None,\n",
       "                                                     booster=None,\n",
       "                                                     callbacks=None,\n",
       "                                                     colsample_bylevel=None,\n",
       "                                                     colsample_bynode=None,\n",
       "                                                     colsample_bytree=None,\n",
       "                                                     early_stopping_rounds=None,\n",
       "                                                     enable_categorical=False,\n",
       "                                                     eval_metric=None,\n",
       "                                                     featu...\n",
       "                                                     learning_rate=None,\n",
       "                                                     max_bin=None,\n",
       "                                                     max_cat_threshold=None,\n",
       "                                                     max_cat_to_onehot=None,\n",
       "                                                     max_delta_step=None,\n",
       "                                                     max_depth=None,\n",
       "                                                     max_leaves=None,\n",
       "                                                     min_child_weight=None,\n",
       "                                                     missing=nan,\n",
       "                                                     monotone_constraints=None,\n",
       "                                                     n_estimators=100,\n",
       "                                                     n_jobs=None,\n",
       "                                                     num_parallel_tree=None,\n",
       "                                                     predictor=None,\n",
       "                                                     random_state=42, ...))]),\n",
       "             n_jobs=-1,\n",
       "             param_grid={'regressor__n_estimators': [100, 150, 300, 400, 500]},\n",
       "             verbose=1)"
      ]
     },
     "execution_count": 44,
     "metadata": {},
     "output_type": "execute_result"
    }
   ],
   "source": [
    "gs = GridSearchCV(model, param_grid, n_jobs=-1, cv=tscv, verbose=1)\n",
    "gs.fit(X_train, y_train)"
   ]
  },
  {
   "cell_type": "code",
   "execution_count": 45,
   "id": "0a5de704",
   "metadata": {},
   "outputs": [
    {
     "data": {
      "text/plain": [
       "Pipeline(steps=[('scaler', StandardScaler()),\n",
       "                ('regressor',\n",
       "                 XGBRegressor(base_score=None, booster=None, callbacks=None,\n",
       "                              colsample_bylevel=None, colsample_bynode=None,\n",
       "                              colsample_bytree=None, early_stopping_rounds=None,\n",
       "                              enable_categorical=False, eval_metric=None,\n",
       "                              feature_types=None, gamma=None, gpu_id=None,\n",
       "                              grow_policy=None, importance_type=None,\n",
       "                              interaction_constraints=None, learning_rate=None,\n",
       "                              max_bin=None, max_cat_threshold=None,\n",
       "                              max_cat_to_onehot=None, max_delta_step=None,\n",
       "                              max_depth=None, max_leaves=None,\n",
       "                              min_child_weight=None, missing=nan,\n",
       "                              monotone_constraints=None, n_estimators=100,\n",
       "                              n_jobs=None, num_parallel_tree=None,\n",
       "                              predictor=None, random_state=42, ...))])"
      ]
     },
     "execution_count": 45,
     "metadata": {},
     "output_type": "execute_result"
    }
   ],
   "source": [
    "# Best Estimator\n",
    "gs.best_estimator_"
   ]
  },
  {
   "cell_type": "code",
   "execution_count": 46,
   "id": "95c57a84",
   "metadata": {},
   "outputs": [
    {
     "name": "stdout",
     "output_type": "stream",
     "text": [
      "R^2 Train: 0.8079\n"
     ]
    }
   ],
   "source": [
    "print(f'R^2 Train: {gs.score(X_train, y_train):0.4}')"
   ]
  },
  {
   "cell_type": "markdown",
   "id": "88fe2704",
   "metadata": {},
   "source": [
    "R方差别不大"
   ]
  },
  {
   "cell_type": "code",
   "execution_count": 47,
   "id": "ca96428e",
   "metadata": {},
   "outputs": [],
   "source": [
    "y_preds1 = gs.predict(X_test)"
   ]
  },
  {
   "cell_type": "code",
   "execution_count": 48,
   "id": "d2df4153",
   "metadata": {},
   "outputs": [
    {
     "data": {
      "text/plain": [
       "8.048999689575481"
      ]
     },
     "execution_count": 48,
     "metadata": {},
     "output_type": "execute_result"
    }
   ],
   "source": [
    "MSE = metrics.mean_squared_error(y_test, y_preds1)\n",
    "MSE"
   ]
  },
  {
   "cell_type": "markdown",
   "id": "a3f58969",
   "metadata": {},
   "source": [
    "MSE的差别也不大"
   ]
  },
  {
   "cell_type": "code",
   "execution_count": 49,
   "id": "7376e866",
   "metadata": {},
   "outputs": [
    {
     "data": {
      "text/plain": [
       "0.7568100625018477"
      ]
     },
     "execution_count": 49,
     "metadata": {},
     "output_type": "execute_result"
    }
   ],
   "source": [
    "y_preds2 = gs.predict(X_train)\n",
    "metrics.mean_squared_error(y_train, y_preds2)"
   ]
  },
  {
   "cell_type": "markdown",
   "id": "c40ab011",
   "metadata": {},
   "source": [
    "训练集和测试集的MSE差别比较大"
   ]
  },
  {
   "cell_type": "code",
   "execution_count": null,
   "id": "3dd13108",
   "metadata": {},
   "outputs": [],
   "source": []
  },
  {
   "cell_type": "code",
   "execution_count": null,
   "id": "735ad9f4",
   "metadata": {},
   "outputs": [],
   "source": []
  },
  {
   "cell_type": "code",
   "execution_count": null,
   "id": "947db649",
   "metadata": {},
   "outputs": [],
   "source": []
  },
  {
   "cell_type": "code",
   "execution_count": null,
   "id": "e8b49c75",
   "metadata": {},
   "outputs": [],
   "source": []
  },
  {
   "cell_type": "code",
   "execution_count": null,
   "id": "212b6569",
   "metadata": {},
   "outputs": [],
   "source": []
  },
  {
   "cell_type": "code",
   "execution_count": null,
   "id": "592c8443",
   "metadata": {},
   "outputs": [],
   "source": []
  },
  {
   "cell_type": "code",
   "execution_count": null,
   "id": "ec2fd4e0",
   "metadata": {},
   "outputs": [],
   "source": []
  },
  {
   "cell_type": "code",
   "execution_count": null,
   "id": "7ce57a0e",
   "metadata": {},
   "outputs": [],
   "source": []
  },
  {
   "cell_type": "code",
   "execution_count": null,
   "id": "321ba573",
   "metadata": {},
   "outputs": [],
   "source": []
  },
  {
   "cell_type": "code",
   "execution_count": null,
   "id": "1538f249",
   "metadata": {},
   "outputs": [],
   "source": []
  },
  {
   "cell_type": "code",
   "execution_count": null,
   "id": "35e4a245",
   "metadata": {},
   "outputs": [],
   "source": []
  },
  {
   "cell_type": "code",
   "execution_count": null,
   "id": "5d8eb383",
   "metadata": {},
   "outputs": [],
   "source": []
  },
  {
   "cell_type": "code",
   "execution_count": null,
   "id": "cdba73d7",
   "metadata": {},
   "outputs": [],
   "source": []
  },
  {
   "cell_type": "code",
   "execution_count": null,
   "id": "a6fe136a",
   "metadata": {},
   "outputs": [],
   "source": []
  },
  {
   "cell_type": "code",
   "execution_count": null,
   "id": "4f1988c4",
   "metadata": {},
   "outputs": [],
   "source": []
  },
  {
   "cell_type": "code",
   "execution_count": null,
   "id": "d1e4d462",
   "metadata": {},
   "outputs": [],
   "source": []
  },
  {
   "cell_type": "code",
   "execution_count": null,
   "id": "6766c77f",
   "metadata": {},
   "outputs": [],
   "source": []
  },
  {
   "cell_type": "code",
   "execution_count": null,
   "id": "957475bf",
   "metadata": {},
   "outputs": [],
   "source": []
  },
  {
   "cell_type": "code",
   "execution_count": null,
   "id": "7db761af",
   "metadata": {},
   "outputs": [],
   "source": []
  }
 ],
 "metadata": {
  "kernelspec": {
   "display_name": "Python 3 (ipykernel)",
   "language": "python",
   "name": "python3"
  },
  "language_info": {
   "codemirror_mode": {
    "name": "ipython",
    "version": 3
   },
   "file_extension": ".py",
   "mimetype": "text/x-python",
   "name": "python",
   "nbconvert_exporter": "python",
   "pygments_lexer": "ipython3",
   "version": "3.9.13"
  }
 },
 "nbformat": 4,
 "nbformat_minor": 5
}
