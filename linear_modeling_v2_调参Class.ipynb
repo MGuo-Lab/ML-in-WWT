{
 "cells": [
  {
   "cell_type": "markdown",
   "id": "6a27eba1",
   "metadata": {},
   "source": [
    "**导入基础包**"
   ]
  },
  {
   "cell_type": "code",
   "execution_count": 1,
   "id": "4a9e3702",
   "metadata": {},
   "outputs": [],
   "source": [
    "#packages\n",
    "import pandas as pd\n",
    "import numpy as np\n",
    "\n",
    "from pylab import plt\n",
    "plt.style.use('seaborn')\n",
    "%matplotlib inline\n",
    "\n",
    "# Ignore warnings\n",
    "import warnings\n",
    "warnings.filterwarnings('ignore')"
   ]
  },
  {
   "cell_type": "markdown",
   "id": "698ddc82",
   "metadata": {},
   "source": [
    "**读取数据**"
   ]
  },
  {
   "cell_type": "code",
   "execution_count": 2,
   "id": "4379ceaa",
   "metadata": {},
   "outputs": [],
   "source": [
    "df = pd.read_csv('data_features_Class.csv') "
   ]
  },
  {
   "cell_type": "code",
   "execution_count": 3,
   "id": "4f204942",
   "metadata": {},
   "outputs": [
    {
     "data": {
      "text/html": [
       "<div>\n",
       "<style scoped>\n",
       "    .dataframe tbody tr th:only-of-type {\n",
       "        vertical-align: middle;\n",
       "    }\n",
       "\n",
       "    .dataframe tbody tr th {\n",
       "        vertical-align: top;\n",
       "    }\n",
       "\n",
       "    .dataframe thead th {\n",
       "        text-align: right;\n",
       "    }\n",
       "</style>\n",
       "<table border=\"1\" class=\"dataframe\">\n",
       "  <thead>\n",
       "    <tr style=\"text-align: right;\">\n",
       "      <th></th>\n",
       "      <th>Unnamed: 0</th>\n",
       "      <th>Sample ID</th>\n",
       "      <th>Sampling month average</th>\n",
       "      <th>Sampling month</th>\n",
       "      <th>SRTd</th>\n",
       "      <th>COD</th>\n",
       "      <th>NH4N</th>\n",
       "      <th>TP</th>\n",
       "      <th>Gammaproteobacteria</th>\n",
       "      <th>Bacteroidia</th>\n",
       "      <th>...</th>\n",
       "      <th>Vampirivibrionia</th>\n",
       "      <th>Desulfovibrionia</th>\n",
       "      <th>Negativicutes</th>\n",
       "      <th>Holophagae</th>\n",
       "      <th>Leptospirae</th>\n",
       "      <th>metagenome</th>\n",
       "      <th>Kapabacteria</th>\n",
       "      <th>Lineage IIb</th>\n",
       "      <th>Desulfobacteria</th>\n",
       "      <th>Hydrogenedentia</th>\n",
       "    </tr>\n",
       "  </thead>\n",
       "  <tbody>\n",
       "    <tr>\n",
       "      <th>0</th>\n",
       "      <td>0</td>\n",
       "      <td>SAKR1</td>\n",
       "      <td>18.0</td>\n",
       "      <td>55.0</td>\n",
       "      <td>12.0</td>\n",
       "      <td>771.97</td>\n",
       "      <td>61.4</td>\n",
       "      <td>7.2</td>\n",
       "      <td>35.535156</td>\n",
       "      <td>22.441406</td>\n",
       "      <td>...</td>\n",
       "      <td>0.054688</td>\n",
       "      <td>0.082031</td>\n",
       "      <td>0.027344</td>\n",
       "      <td>0.058594</td>\n",
       "      <td>0.144531</td>\n",
       "      <td>0.757812</td>\n",
       "      <td>0.058594</td>\n",
       "      <td>0.257812</td>\n",
       "      <td>0.003906</td>\n",
       "      <td>0.101562</td>\n",
       "    </tr>\n",
       "    <tr>\n",
       "      <th>1</th>\n",
       "      <td>1</td>\n",
       "      <td>SAKR2</td>\n",
       "      <td>18.0</td>\n",
       "      <td>55.0</td>\n",
       "      <td>12.0</td>\n",
       "      <td>771.97</td>\n",
       "      <td>61.4</td>\n",
       "      <td>7.2</td>\n",
       "      <td>32.203125</td>\n",
       "      <td>23.753906</td>\n",
       "      <td>...</td>\n",
       "      <td>0.035156</td>\n",
       "      <td>0.101562</td>\n",
       "      <td>0.023438</td>\n",
       "      <td>0.105469</td>\n",
       "      <td>0.160156</td>\n",
       "      <td>0.941406</td>\n",
       "      <td>0.066406</td>\n",
       "      <td>0.214844</td>\n",
       "      <td>0.003906</td>\n",
       "      <td>0.085938</td>\n",
       "    </tr>\n",
       "    <tr>\n",
       "      <th>2</th>\n",
       "      <td>2</td>\n",
       "      <td>SAKR3</td>\n",
       "      <td>18.0</td>\n",
       "      <td>55.0</td>\n",
       "      <td>12.0</td>\n",
       "      <td>771.97</td>\n",
       "      <td>61.4</td>\n",
       "      <td>7.2</td>\n",
       "      <td>31.246094</td>\n",
       "      <td>24.363281</td>\n",
       "      <td>...</td>\n",
       "      <td>0.035156</td>\n",
       "      <td>0.054688</td>\n",
       "      <td>0.046875</td>\n",
       "      <td>0.054688</td>\n",
       "      <td>0.167969</td>\n",
       "      <td>0.917969</td>\n",
       "      <td>0.042969</td>\n",
       "      <td>0.246094</td>\n",
       "      <td>0.000000</td>\n",
       "      <td>0.101562</td>\n",
       "    </tr>\n",
       "    <tr>\n",
       "      <th>3</th>\n",
       "      <td>3</td>\n",
       "      <td>SAKR4</td>\n",
       "      <td>18.0</td>\n",
       "      <td>55.0</td>\n",
       "      <td>12.0</td>\n",
       "      <td>771.97</td>\n",
       "      <td>61.4</td>\n",
       "      <td>7.2</td>\n",
       "      <td>34.714844</td>\n",
       "      <td>23.082031</td>\n",
       "      <td>...</td>\n",
       "      <td>0.042969</td>\n",
       "      <td>0.062500</td>\n",
       "      <td>0.066406</td>\n",
       "      <td>0.078125</td>\n",
       "      <td>0.171875</td>\n",
       "      <td>0.812500</td>\n",
       "      <td>0.078125</td>\n",
       "      <td>0.222656</td>\n",
       "      <td>0.015625</td>\n",
       "      <td>0.101562</td>\n",
       "    </tr>\n",
       "    <tr>\n",
       "      <th>4</th>\n",
       "      <td>4</td>\n",
       "      <td>SAKR5</td>\n",
       "      <td>18.0</td>\n",
       "      <td>55.0</td>\n",
       "      <td>12.0</td>\n",
       "      <td>771.97</td>\n",
       "      <td>61.4</td>\n",
       "      <td>7.2</td>\n",
       "      <td>30.414062</td>\n",
       "      <td>24.949219</td>\n",
       "      <td>...</td>\n",
       "      <td>0.039062</td>\n",
       "      <td>0.054688</td>\n",
       "      <td>0.035156</td>\n",
       "      <td>0.058594</td>\n",
       "      <td>0.226562</td>\n",
       "      <td>0.902344</td>\n",
       "      <td>0.070312</td>\n",
       "      <td>0.265625</td>\n",
       "      <td>0.000000</td>\n",
       "      <td>0.121094</td>\n",
       "    </tr>\n",
       "  </tbody>\n",
       "</table>\n",
       "<p>5 rows × 59 columns</p>\n",
       "</div>"
      ],
      "text/plain": [
       "   Unnamed: 0 Sample ID  Sampling month average  Sampling month  SRTd     COD  \\\n",
       "0           0     SAKR1                    18.0            55.0  12.0  771.97   \n",
       "1           1     SAKR2                    18.0            55.0  12.0  771.97   \n",
       "2           2     SAKR3                    18.0            55.0  12.0  771.97   \n",
       "3           3     SAKR4                    18.0            55.0  12.0  771.97   \n",
       "4           4     SAKR5                    18.0            55.0  12.0  771.97   \n",
       "\n",
       "   NH4N   TP  Gammaproteobacteria  Bacteroidia  ...  Vampirivibrionia  \\\n",
       "0  61.4  7.2            35.535156    22.441406  ...          0.054688   \n",
       "1  61.4  7.2            32.203125    23.753906  ...          0.035156   \n",
       "2  61.4  7.2            31.246094    24.363281  ...          0.035156   \n",
       "3  61.4  7.2            34.714844    23.082031  ...          0.042969   \n",
       "4  61.4  7.2            30.414062    24.949219  ...          0.039062   \n",
       "\n",
       "   Desulfovibrionia  Negativicutes  Holophagae  Leptospirae  metagenome  \\\n",
       "0          0.082031       0.027344    0.058594     0.144531    0.757812   \n",
       "1          0.101562       0.023438    0.105469     0.160156    0.941406   \n",
       "2          0.054688       0.046875    0.054688     0.167969    0.917969   \n",
       "3          0.062500       0.066406    0.078125     0.171875    0.812500   \n",
       "4          0.054688       0.035156    0.058594     0.226562    0.902344   \n",
       "\n",
       "   Kapabacteria  Lineage IIb  Desulfobacteria  Hydrogenedentia  \n",
       "0      0.058594     0.257812         0.003906         0.101562  \n",
       "1      0.066406     0.214844         0.003906         0.085938  \n",
       "2      0.042969     0.246094         0.000000         0.101562  \n",
       "3      0.078125     0.222656         0.015625         0.101562  \n",
       "4      0.070312     0.265625         0.000000         0.121094  \n",
       "\n",
       "[5 rows x 59 columns]"
      ]
     },
     "execution_count": 3,
     "metadata": {},
     "output_type": "execute_result"
    }
   ],
   "source": [
    "df.head()"
   ]
  },
  {
   "cell_type": "code",
   "execution_count": 4,
   "id": "7b3eb192",
   "metadata": {},
   "outputs": [
    {
     "data": {
      "text/plain": [
       "(1186, 59)"
      ]
     },
     "execution_count": 4,
     "metadata": {},
     "output_type": "execute_result"
    }
   ],
   "source": [
    "df.shape"
   ]
  },
  {
   "cell_type": "code",
   "execution_count": 5,
   "id": "d7add247",
   "metadata": {},
   "outputs": [
    {
     "data": {
      "text/plain": [
       "Index(['Unnamed: 0', 'Sample ID', 'Sampling month average', 'Sampling month',\n",
       "       'SRTd', 'COD', 'NH4N', 'TP', 'Gammaproteobacteria', 'Bacteroidia',\n",
       "       'Unclassified', 'Alphaproteobacteria', 'Others', 'Clostridia',\n",
       "       'Anaerolineae', 'Parcubacteria', 'Polyangia', 'Planctomycetes',\n",
       "       'Verrucomicrobiae', 'Bdellovibrionia', 'Chlamydiae', 'Oligoflexia',\n",
       "       'Phycisphaerae', 'Gracilibacteria', 'Actinobacteria', 'Bacilli',\n",
       "       'Microgenomatia', 'Babeliae', 'ABY1', 'Saccharimonadia',\n",
       "       'Acidimicrobiia', 'Omnitrophia', 'Cyanobacteriia', 'Acidobacteriae',\n",
       "       'Myxococcia', 'Nanoarchaeia', 'Thermoleophilia', 'Blastocatellia',\n",
       "       'OM190', 'Spirochaetia', 'Nitrospiria', 'Chloroflexia',\n",
       "       'Kiritimatiellae', 'Ignavibacteria', 'Desulfuromonadia',\n",
       "       'Campylobacteria', 'Gemmatimonadetes', 'Vicinamibacteria',\n",
       "       'Fimbriimonadia', 'Vampirivibrionia', 'Desulfovibrionia',\n",
       "       'Negativicutes', 'Holophagae', 'Leptospirae', 'metagenome',\n",
       "       'Kapabacteria', 'Lineage IIb', 'Desulfobacteria', 'Hydrogenedentia'],\n",
       "      dtype='object')"
      ]
     },
     "execution_count": 5,
     "metadata": {},
     "output_type": "execute_result"
    }
   ],
   "source": [
    "df.columns"
   ]
  },
  {
   "cell_type": "code",
   "execution_count": 20,
   "id": "8897fab3",
   "metadata": {},
   "outputs": [],
   "source": [
    "features = ['Sampling month average', 'Sampling month','SRTd', 'COD', 'NH4N', 'TP']\n",
    "targets = ['Gammaproteobacteria', 'Bacteroidia',\n",
    "       'Unclassified', 'Alphaproteobacteria', 'Others', 'Clostridia',\n",
    "       'Anaerolineae', 'Parcubacteria', 'Polyangia', 'Planctomycetes',\n",
    "       'Verrucomicrobiae', 'Bdellovibrionia', 'Chlamydiae', 'Oligoflexia',\n",
    "       'Phycisphaerae', 'Gracilibacteria', 'Actinobacteria', 'Bacilli',\n",
    "       'Microgenomatia', 'Babeliae', 'ABY1', 'Saccharimonadia',\n",
    "       'Acidimicrobiia', 'Omnitrophia', 'Cyanobacteriia', 'Acidobacteriae',\n",
    "       'Myxococcia', 'Nanoarchaeia', 'Thermoleophilia', 'Blastocatellia',\n",
    "       'OM190', 'Spirochaetia', 'Nitrospiria', 'Chloroflexia',\n",
    "       'Kiritimatiellae', 'Ignavibacteria', 'Desulfuromonadia',\n",
    "       'Campylobacteria', 'Gemmatimonadetes', 'Vicinamibacteria',\n",
    "       'Fimbriimonadia', 'Vampirivibrionia', 'Desulfovibrionia',\n",
    "       'Negativicutes', 'Holophagae', 'Leptospirae', 'metagenome',\n",
    "       'Kapabacteria', 'Lineage IIb', 'Desulfobacteria', 'Hydrogenedentia']"
   ]
  },
  {
   "cell_type": "markdown",
   "id": "ce86763e",
   "metadata": {},
   "source": [
    "**简单的EDA**"
   ]
  },
  {
   "cell_type": "code",
   "execution_count": 21,
   "id": "973a96e6",
   "metadata": {},
   "outputs": [
    {
     "data": {
      "text/plain": [
       "Unnamed: 0                0\n",
       "Sample ID                 0\n",
       "Sampling month average    0\n",
       "Sampling month            0\n",
       "SRTd                      0\n",
       "COD                       0\n",
       "NH4N                      0\n",
       "TP                        0\n",
       "Gammaproteobacteria       0\n",
       "Bacteroidia               0\n",
       "Unclassified              0\n",
       "Alphaproteobacteria       0\n",
       "Others                    0\n",
       "Clostridia                0\n",
       "Anaerolineae              0\n",
       "Parcubacteria             0\n",
       "Polyangia                 0\n",
       "Planctomycetes            0\n",
       "Verrucomicrobiae          0\n",
       "Bdellovibrionia           0\n",
       "Chlamydiae                0\n",
       "Oligoflexia               0\n",
       "Phycisphaerae             0\n",
       "Gracilibacteria           0\n",
       "Actinobacteria            0\n",
       "Bacilli                   0\n",
       "Microgenomatia            0\n",
       "Babeliae                  0\n",
       "ABY1                      0\n",
       "Saccharimonadia           0\n",
       "Acidimicrobiia            0\n",
       "Omnitrophia               0\n",
       "Cyanobacteriia            0\n",
       "Acidobacteriae            0\n",
       "Myxococcia                0\n",
       "Nanoarchaeia              0\n",
       "Thermoleophilia           0\n",
       "Blastocatellia            0\n",
       "OM190                     0\n",
       "Spirochaetia              0\n",
       "Nitrospiria               0\n",
       "Chloroflexia              0\n",
       "Kiritimatiellae           0\n",
       "Ignavibacteria            0\n",
       "Desulfuromonadia          0\n",
       "Campylobacteria           0\n",
       "Gemmatimonadetes          0\n",
       "Vicinamibacteria          0\n",
       "Fimbriimonadia            0\n",
       "Vampirivibrionia          0\n",
       "Desulfovibrionia          0\n",
       "Negativicutes             0\n",
       "Holophagae                0\n",
       "Leptospirae               0\n",
       "metagenome                0\n",
       "Kapabacteria              0\n",
       "Lineage IIb               0\n",
       "Desulfobacteria           0\n",
       "Hydrogenedentia           0\n",
       "dtype: int64"
      ]
     },
     "execution_count": 21,
     "metadata": {},
     "output_type": "execute_result"
    }
   ],
   "source": [
    "df.isnull().sum()"
   ]
  },
  {
   "cell_type": "markdown",
   "id": "30d5f284",
   "metadata": {},
   "source": [
    "我们看到预测目标里面没有NA， 不过features里面有NA. "
   ]
  },
  {
   "cell_type": "markdown",
   "id": "df8d9eec",
   "metadata": {},
   "source": [
    "部分features的空值较多，还不能直接drop. "
   ]
  },
  {
   "cell_type": "markdown",
   "id": "d2d35d9c",
   "metadata": {},
   "source": [
    "考虑给空值部分填充均值。"
   ]
  },
  {
   "cell_type": "markdown",
   "id": "ada95988",
   "metadata": {},
   "source": [
    "分拆数据"
   ]
  },
  {
   "cell_type": "code",
   "execution_count": 22,
   "id": "a5f1646d",
   "metadata": {},
   "outputs": [],
   "source": [
    "from sklearn.model_selection import train_test_split"
   ]
  },
  {
   "cell_type": "code",
   "execution_count": 23,
   "id": "ec341593",
   "metadata": {},
   "outputs": [
    {
     "name": "stdout",
     "output_type": "stream",
     "text": [
      "Train and Test Size 948, 238\n"
     ]
    }
   ],
   "source": [
    "# Splitting the datasets into training and testing data.\n",
    "train_data, test_data = train_test_split(df, train_size=0.8, test_size=0.2, shuffle=False)\n",
    "\n",
    "# Output the train and test data size\n",
    "print(f\"Train and Test Size {len(train_data)}, {len(test_data)}\")"
   ]
  },
  {
   "cell_type": "markdown",
   "id": "bcc8f016",
   "metadata": {},
   "source": [
    "在train data 部分曲均值"
   ]
  },
  {
   "cell_type": "code",
   "execution_count": 24,
   "id": "aa73a73c",
   "metadata": {},
   "outputs": [
    {
     "data": {
      "text/plain": [
       "Sampling month average     23.154379\n",
       "Sampling month            115.381081\n",
       "SRTd                       15.258321\n",
       "COD                       430.108594\n",
       "NH4N                       26.645109\n",
       "TP                          6.274391\n",
       "dtype: float64"
      ]
     },
     "execution_count": 24,
     "metadata": {},
     "output_type": "execute_result"
    }
   ],
   "source": [
    "train_data[features].mean()"
   ]
  },
  {
   "cell_type": "markdown",
   "id": "fb7cc78f",
   "metadata": {},
   "source": [
    "用这部均值填充NA数据"
   ]
  },
  {
   "cell_type": "code",
   "execution_count": 25,
   "id": "28e71bd6",
   "metadata": {},
   "outputs": [],
   "source": [
    "df['Sampling month average'].fillna(23.154379, inplace = True)\n",
    "df['Sampling month'].fillna(115.381081, inplace = True)\n",
    "df['SRTd'].fillna(15.258321, inplace = True)\n",
    "df['COD'].fillna(430.108594, inplace = True)\n",
    "df['NH4N'].fillna(26.645109, inplace = True)\n",
    "df['TP'].fillna(6.274391, inplace = True)"
   ]
  },
  {
   "cell_type": "markdown",
   "id": "74a178e0",
   "metadata": {},
   "source": [
    "检查NA"
   ]
  },
  {
   "cell_type": "code",
   "execution_count": 26,
   "id": "cfea83fd",
   "metadata": {},
   "outputs": [
    {
     "data": {
      "text/plain": [
       "Unnamed: 0                0\n",
       "Sample ID                 0\n",
       "Sampling month average    0\n",
       "Sampling month            0\n",
       "SRTd                      0\n",
       "COD                       0\n",
       "NH4N                      0\n",
       "TP                        0\n",
       "Gammaproteobacteria       0\n",
       "Bacteroidia               0\n",
       "Unclassified              0\n",
       "Alphaproteobacteria       0\n",
       "Others                    0\n",
       "Clostridia                0\n",
       "Anaerolineae              0\n",
       "Parcubacteria             0\n",
       "Polyangia                 0\n",
       "Planctomycetes            0\n",
       "Verrucomicrobiae          0\n",
       "Bdellovibrionia           0\n",
       "Chlamydiae                0\n",
       "Oligoflexia               0\n",
       "Phycisphaerae             0\n",
       "Gracilibacteria           0\n",
       "Actinobacteria            0\n",
       "Bacilli                   0\n",
       "Microgenomatia            0\n",
       "Babeliae                  0\n",
       "ABY1                      0\n",
       "Saccharimonadia           0\n",
       "Acidimicrobiia            0\n",
       "Omnitrophia               0\n",
       "Cyanobacteriia            0\n",
       "Acidobacteriae            0\n",
       "Myxococcia                0\n",
       "Nanoarchaeia              0\n",
       "Thermoleophilia           0\n",
       "Blastocatellia            0\n",
       "OM190                     0\n",
       "Spirochaetia              0\n",
       "Nitrospiria               0\n",
       "Chloroflexia              0\n",
       "Kiritimatiellae           0\n",
       "Ignavibacteria            0\n",
       "Desulfuromonadia          0\n",
       "Campylobacteria           0\n",
       "Gemmatimonadetes          0\n",
       "Vicinamibacteria          0\n",
       "Fimbriimonadia            0\n",
       "Vampirivibrionia          0\n",
       "Desulfovibrionia          0\n",
       "Negativicutes             0\n",
       "Holophagae                0\n",
       "Leptospirae               0\n",
       "metagenome                0\n",
       "Kapabacteria              0\n",
       "Lineage IIb               0\n",
       "Desulfobacteria           0\n",
       "Hydrogenedentia           0\n",
       "dtype: int64"
      ]
     },
     "execution_count": 26,
     "metadata": {},
     "output_type": "execute_result"
    }
   ],
   "source": [
    "df.isnull().sum()"
   ]
  },
  {
   "cell_type": "markdown",
   "id": "1306a77f",
   "metadata": {},
   "source": [
    "重定义训练和测试集"
   ]
  },
  {
   "cell_type": "code",
   "execution_count": 27,
   "id": "71a9ac1a",
   "metadata": {},
   "outputs": [
    {
     "name": "stdout",
     "output_type": "stream",
     "text": [
      "Train and Test Size 948, 238\n"
     ]
    }
   ],
   "source": [
    "# Splitting the datasets into training and testing data.\n",
    "train_data, test_data = train_test_split(df, train_size=0.8, test_size=0.2, shuffle=False)\n",
    "\n",
    "# Output the train and test data size\n",
    "print(f\"Train and Test Size {len(train_data)}, {len(test_data)}\")"
   ]
  },
  {
   "cell_type": "markdown",
   "id": "04470613",
   "metadata": {},
   "source": [
    "**线性回归**"
   ]
  },
  {
   "cell_type": "code",
   "execution_count": 28,
   "id": "8d7a9eba",
   "metadata": {},
   "outputs": [],
   "source": [
    "from sklearn import linear_model \n",
    "from sklearn.pipeline import Pipeline\n",
    "from sklearn.preprocessing import StandardScaler\n",
    "from sklearn.linear_model import Ridge #导入岭回归模型"
   ]
  },
  {
   "cell_type": "code",
   "execution_count": 29,
   "id": "ac36646e",
   "metadata": {},
   "outputs": [],
   "source": [
    "X_train = train_data[features]\n",
    "y_train = train_data[targets]\n",
    "X_test = test_data[features]\n",
    "y_test = test_data[targets]"
   ]
  },
  {
   "cell_type": "code",
   "execution_count": 30,
   "id": "5b565dfc",
   "metadata": {},
   "outputs": [],
   "source": [
    "ridge = Ridge() #调整训练数据"
   ]
  },
  {
   "cell_type": "code",
   "execution_count": 31,
   "id": "26cec117",
   "metadata": {},
   "outputs": [],
   "source": [
    "model = Pipeline([\n",
    "    ('scaler', StandardScaler()),\n",
    "    ('regressor', ridge)\n",
    "])"
   ]
  },
  {
   "cell_type": "markdown",
   "id": "74bceacd",
   "metadata": {},
   "source": [
    "训练模型"
   ]
  },
  {
   "cell_type": "code",
   "execution_count": 32,
   "id": "48387400",
   "metadata": {},
   "outputs": [
    {
     "name": "stdout",
     "output_type": "stream",
     "text": [
      "R^2 Train: 0.09787\n"
     ]
    }
   ],
   "source": [
    "model.fit(X_train, y_train)\n",
    "print(f'R^2 Train: {model.score(X_train, y_train):0.4}')"
   ]
  },
  {
   "cell_type": "markdown",
   "id": "798d0ac1",
   "metadata": {},
   "source": [
    "利用训练好的模型做测试"
   ]
  },
  {
   "cell_type": "code",
   "execution_count": 33,
   "id": "815fe277",
   "metadata": {},
   "outputs": [],
   "source": [
    "y_preds = model.predict(X_test)"
   ]
  },
  {
   "cell_type": "code",
   "execution_count": 34,
   "id": "70d63970",
   "metadata": {},
   "outputs": [
    {
     "data": {
      "text/plain": [
       "array([[3.22606531e+01, 2.88223801e+01, 1.73203106e+00, ...,\n",
       "        5.52011536e-02, 2.97728397e-02, 8.18774699e-02],\n",
       "       [3.23749042e+01, 2.97999114e+01, 1.84171109e+00, ...,\n",
       "        5.08497572e-02, 2.57544105e-02, 8.73132477e-02],\n",
       "       [3.23749042e+01, 2.97999114e+01, 1.84171109e+00, ...,\n",
       "        5.08497572e-02, 2.57544105e-02, 8.73132477e-02],\n",
       "       ...,\n",
       "       [3.37082767e+01, 2.84195092e+01, 1.52400602e+00, ...,\n",
       "        5.38774073e-02, 2.81311844e-02, 7.75326244e-02],\n",
       "       [3.37082767e+01, 2.84195092e+01, 1.52400602e+00, ...,\n",
       "        5.38774073e-02, 2.81311844e-02, 7.75326244e-02],\n",
       "       [3.37082767e+01, 2.84195092e+01, 1.52400602e+00, ...,\n",
       "        5.38774073e-02, 2.81311844e-02, 7.75326244e-02]])"
      ]
     },
     "execution_count": 34,
     "metadata": {},
     "output_type": "execute_result"
    }
   ],
   "source": [
    "y_preds"
   ]
  },
  {
   "cell_type": "markdown",
   "id": "ea954879",
   "metadata": {},
   "source": [
    "**结果可视化**"
   ]
  },
  {
   "cell_type": "markdown",
   "id": "54d799c7",
   "metadata": {},
   "source": [
    "展示第一个ID的预测结果。"
   ]
  },
  {
   "cell_type": "code",
   "execution_count": 35,
   "id": "389d13c7",
   "metadata": {},
   "outputs": [
    {
     "data": {
      "text/plain": [
       "array([3.22606531e+01, 2.88223801e+01, 1.73203106e+00, 6.66084549e+00,\n",
       "       1.84188989e+00, 1.04776346e+00, 3.02410268e+00, 7.36380418e-01,\n",
       "       5.03009045e+00, 9.27267524e-01, 1.24302354e+00, 6.95454929e-01,\n",
       "       4.23615446e-01, 3.55044726e-01, 5.77644937e-01, 4.36126619e-01,\n",
       "       1.36880266e+00, 4.37098200e-01, 1.34478565e-01, 1.73665527e-01,\n",
       "       1.30777812e-01, 3.78637468e-01, 9.89956894e-01, 5.57467532e-02,\n",
       "       1.80395908e-01, 2.85682726e-01, 4.18598735e-01, 5.68600742e-02,\n",
       "       3.72268482e-01, 1.48724167e+00, 4.71076599e-01, 7.43062424e-02,\n",
       "       1.50400934e+00, 2.21176675e-01, 6.31535219e-02, 1.15229436e+00,\n",
       "       2.68018685e-01, 8.75100362e-01, 5.52655759e-01, 3.99740675e-01,\n",
       "       2.76530885e-01, 1.89643774e-01, 7.44899044e-02, 6.77894851e-02,\n",
       "       3.86535959e-01, 4.53201112e-01, 1.68309092e-01, 3.50590306e-01,\n",
       "       5.52011536e-02, 2.97728397e-02, 8.18774699e-02])"
      ]
     },
     "execution_count": 35,
     "metadata": {},
     "output_type": "execute_result"
    }
   ],
   "source": [
    "y_preds[0]"
   ]
  },
  {
   "cell_type": "code",
   "execution_count": 36,
   "id": "406ba69a",
   "metadata": {},
   "outputs": [
    {
     "data": {
      "text/plain": [
       "[27.25390625,\n",
       " 17.56640625,\n",
       " 1.76171875,\n",
       " 8.9609375,\n",
       " 1.875,\n",
       " 0.4921875,\n",
       " 4.35546875,\n",
       " 1.2109375,\n",
       " 12.34765625,\n",
       " 0.92578125,\n",
       " 1.578125,\n",
       " 0.41015625,\n",
       " 0.3984375,\n",
       " 0.62109375,\n",
       " 1.14453125,\n",
       " 0.17578125,\n",
       " 6.9609375,\n",
       " 0.16796875,\n",
       " 0.07421875,\n",
       " 0.0625,\n",
       " 0.1328125,\n",
       " 0.41015625,\n",
       " 0.671875,\n",
       " 0.0078125,\n",
       " 0.01171875,\n",
       " 0.46484375,\n",
       " 0.28125,\n",
       " 0.04296875,\n",
       " 0.12890625,\n",
       " 0.9921875,\n",
       " 0.89453125,\n",
       " 0.09765625,\n",
       " 1.6210937500000002,\n",
       " 0.03515625,\n",
       " 0.28125,\n",
       " 1.43359375,\n",
       " 0.140625,\n",
       " 0.14453125,\n",
       " 0.4921875,\n",
       " 0.60546875,\n",
       " 0.30859375,\n",
       " 0.19140625,\n",
       " 0.08984375,\n",
       " 0.046875,\n",
       " 1.07421875,\n",
       " 0.25,\n",
       " 0.18359375,\n",
       " 0.41796875,\n",
       " 0.15625,\n",
       " 0.015625,\n",
       " 0.03125]"
      ]
     },
     "execution_count": 36,
     "metadata": {},
     "output_type": "execute_result"
    }
   ],
   "source": [
    "y_test.iloc[0].tolist()"
   ]
  },
  {
   "cell_type": "code",
   "execution_count": 37,
   "id": "82965ccb",
   "metadata": {},
   "outputs": [],
   "source": [
    "c = {\"classes\":targets,\n",
    "     \"predictions\":y_preds[0],\n",
    "    \"real\":y_test.iloc[0].tolist() }"
   ]
  },
  {
   "cell_type": "code",
   "execution_count": 38,
   "id": "d63a163c",
   "metadata": {},
   "outputs": [
    {
     "data": {
      "text/html": [
       "<div>\n",
       "<style scoped>\n",
       "    .dataframe tbody tr th:only-of-type {\n",
       "        vertical-align: middle;\n",
       "    }\n",
       "\n",
       "    .dataframe tbody tr th {\n",
       "        vertical-align: top;\n",
       "    }\n",
       "\n",
       "    .dataframe thead th {\n",
       "        text-align: right;\n",
       "    }\n",
       "</style>\n",
       "<table border=\"1\" class=\"dataframe\">\n",
       "  <thead>\n",
       "    <tr style=\"text-align: right;\">\n",
       "      <th></th>\n",
       "      <th>predictions</th>\n",
       "      <th>real</th>\n",
       "    </tr>\n",
       "    <tr>\n",
       "      <th>classes</th>\n",
       "      <th></th>\n",
       "      <th></th>\n",
       "    </tr>\n",
       "  </thead>\n",
       "  <tbody>\n",
       "    <tr>\n",
       "      <th>Gammaproteobacteria</th>\n",
       "      <td>32.260653</td>\n",
       "      <td>27.253906</td>\n",
       "    </tr>\n",
       "    <tr>\n",
       "      <th>Bacteroidia</th>\n",
       "      <td>28.822380</td>\n",
       "      <td>17.566406</td>\n",
       "    </tr>\n",
       "    <tr>\n",
       "      <th>Unclassified</th>\n",
       "      <td>1.732031</td>\n",
       "      <td>1.761719</td>\n",
       "    </tr>\n",
       "    <tr>\n",
       "      <th>Alphaproteobacteria</th>\n",
       "      <td>6.660845</td>\n",
       "      <td>8.960938</td>\n",
       "    </tr>\n",
       "    <tr>\n",
       "      <th>Others</th>\n",
       "      <td>1.841890</td>\n",
       "      <td>1.875000</td>\n",
       "    </tr>\n",
       "    <tr>\n",
       "      <th>Clostridia</th>\n",
       "      <td>1.047763</td>\n",
       "      <td>0.492188</td>\n",
       "    </tr>\n",
       "    <tr>\n",
       "      <th>Anaerolineae</th>\n",
       "      <td>3.024103</td>\n",
       "      <td>4.355469</td>\n",
       "    </tr>\n",
       "    <tr>\n",
       "      <th>Parcubacteria</th>\n",
       "      <td>0.736380</td>\n",
       "      <td>1.210938</td>\n",
       "    </tr>\n",
       "    <tr>\n",
       "      <th>Polyangia</th>\n",
       "      <td>5.030090</td>\n",
       "      <td>12.347656</td>\n",
       "    </tr>\n",
       "    <tr>\n",
       "      <th>Planctomycetes</th>\n",
       "      <td>0.927268</td>\n",
       "      <td>0.925781</td>\n",
       "    </tr>\n",
       "    <tr>\n",
       "      <th>Verrucomicrobiae</th>\n",
       "      <td>1.243024</td>\n",
       "      <td>1.578125</td>\n",
       "    </tr>\n",
       "    <tr>\n",
       "      <th>Bdellovibrionia</th>\n",
       "      <td>0.695455</td>\n",
       "      <td>0.410156</td>\n",
       "    </tr>\n",
       "    <tr>\n",
       "      <th>Chlamydiae</th>\n",
       "      <td>0.423615</td>\n",
       "      <td>0.398438</td>\n",
       "    </tr>\n",
       "    <tr>\n",
       "      <th>Oligoflexia</th>\n",
       "      <td>0.355045</td>\n",
       "      <td>0.621094</td>\n",
       "    </tr>\n",
       "    <tr>\n",
       "      <th>Phycisphaerae</th>\n",
       "      <td>0.577645</td>\n",
       "      <td>1.144531</td>\n",
       "    </tr>\n",
       "    <tr>\n",
       "      <th>Gracilibacteria</th>\n",
       "      <td>0.436127</td>\n",
       "      <td>0.175781</td>\n",
       "    </tr>\n",
       "    <tr>\n",
       "      <th>Actinobacteria</th>\n",
       "      <td>1.368803</td>\n",
       "      <td>6.960938</td>\n",
       "    </tr>\n",
       "    <tr>\n",
       "      <th>Bacilli</th>\n",
       "      <td>0.437098</td>\n",
       "      <td>0.167969</td>\n",
       "    </tr>\n",
       "    <tr>\n",
       "      <th>Microgenomatia</th>\n",
       "      <td>0.134479</td>\n",
       "      <td>0.074219</td>\n",
       "    </tr>\n",
       "    <tr>\n",
       "      <th>Babeliae</th>\n",
       "      <td>0.173666</td>\n",
       "      <td>0.062500</td>\n",
       "    </tr>\n",
       "    <tr>\n",
       "      <th>ABY1</th>\n",
       "      <td>0.130778</td>\n",
       "      <td>0.132812</td>\n",
       "    </tr>\n",
       "    <tr>\n",
       "      <th>Saccharimonadia</th>\n",
       "      <td>0.378637</td>\n",
       "      <td>0.410156</td>\n",
       "    </tr>\n",
       "    <tr>\n",
       "      <th>Acidimicrobiia</th>\n",
       "      <td>0.989957</td>\n",
       "      <td>0.671875</td>\n",
       "    </tr>\n",
       "    <tr>\n",
       "      <th>Omnitrophia</th>\n",
       "      <td>0.055747</td>\n",
       "      <td>0.007812</td>\n",
       "    </tr>\n",
       "    <tr>\n",
       "      <th>Cyanobacteriia</th>\n",
       "      <td>0.180396</td>\n",
       "      <td>0.011719</td>\n",
       "    </tr>\n",
       "    <tr>\n",
       "      <th>Acidobacteriae</th>\n",
       "      <td>0.285683</td>\n",
       "      <td>0.464844</td>\n",
       "    </tr>\n",
       "    <tr>\n",
       "      <th>Myxococcia</th>\n",
       "      <td>0.418599</td>\n",
       "      <td>0.281250</td>\n",
       "    </tr>\n",
       "    <tr>\n",
       "      <th>Nanoarchaeia</th>\n",
       "      <td>0.056860</td>\n",
       "      <td>0.042969</td>\n",
       "    </tr>\n",
       "    <tr>\n",
       "      <th>Thermoleophilia</th>\n",
       "      <td>0.372268</td>\n",
       "      <td>0.128906</td>\n",
       "    </tr>\n",
       "    <tr>\n",
       "      <th>Blastocatellia</th>\n",
       "      <td>1.487242</td>\n",
       "      <td>0.992188</td>\n",
       "    </tr>\n",
       "    <tr>\n",
       "      <th>OM190</th>\n",
       "      <td>0.471077</td>\n",
       "      <td>0.894531</td>\n",
       "    </tr>\n",
       "    <tr>\n",
       "      <th>Spirochaetia</th>\n",
       "      <td>0.074306</td>\n",
       "      <td>0.097656</td>\n",
       "    </tr>\n",
       "    <tr>\n",
       "      <th>Nitrospiria</th>\n",
       "      <td>1.504009</td>\n",
       "      <td>1.621094</td>\n",
       "    </tr>\n",
       "    <tr>\n",
       "      <th>Chloroflexia</th>\n",
       "      <td>0.221177</td>\n",
       "      <td>0.035156</td>\n",
       "    </tr>\n",
       "    <tr>\n",
       "      <th>Kiritimatiellae</th>\n",
       "      <td>0.063154</td>\n",
       "      <td>0.281250</td>\n",
       "    </tr>\n",
       "    <tr>\n",
       "      <th>Ignavibacteria</th>\n",
       "      <td>1.152294</td>\n",
       "      <td>1.433594</td>\n",
       "    </tr>\n",
       "    <tr>\n",
       "      <th>Desulfuromonadia</th>\n",
       "      <td>0.268019</td>\n",
       "      <td>0.140625</td>\n",
       "    </tr>\n",
       "    <tr>\n",
       "      <th>Campylobacteria</th>\n",
       "      <td>0.875100</td>\n",
       "      <td>0.144531</td>\n",
       "    </tr>\n",
       "    <tr>\n",
       "      <th>Gemmatimonadetes</th>\n",
       "      <td>0.552656</td>\n",
       "      <td>0.492188</td>\n",
       "    </tr>\n",
       "    <tr>\n",
       "      <th>Vicinamibacteria</th>\n",
       "      <td>0.399741</td>\n",
       "      <td>0.605469</td>\n",
       "    </tr>\n",
       "    <tr>\n",
       "      <th>Fimbriimonadia</th>\n",
       "      <td>0.276531</td>\n",
       "      <td>0.308594</td>\n",
       "    </tr>\n",
       "    <tr>\n",
       "      <th>Vampirivibrionia</th>\n",
       "      <td>0.189644</td>\n",
       "      <td>0.191406</td>\n",
       "    </tr>\n",
       "    <tr>\n",
       "      <th>Desulfovibrionia</th>\n",
       "      <td>0.074490</td>\n",
       "      <td>0.089844</td>\n",
       "    </tr>\n",
       "    <tr>\n",
       "      <th>Negativicutes</th>\n",
       "      <td>0.067789</td>\n",
       "      <td>0.046875</td>\n",
       "    </tr>\n",
       "    <tr>\n",
       "      <th>Holophagae</th>\n",
       "      <td>0.386536</td>\n",
       "      <td>1.074219</td>\n",
       "    </tr>\n",
       "    <tr>\n",
       "      <th>Leptospirae</th>\n",
       "      <td>0.453201</td>\n",
       "      <td>0.250000</td>\n",
       "    </tr>\n",
       "    <tr>\n",
       "      <th>metagenome</th>\n",
       "      <td>0.168309</td>\n",
       "      <td>0.183594</td>\n",
       "    </tr>\n",
       "    <tr>\n",
       "      <th>Kapabacteria</th>\n",
       "      <td>0.350590</td>\n",
       "      <td>0.417969</td>\n",
       "    </tr>\n",
       "    <tr>\n",
       "      <th>Lineage IIb</th>\n",
       "      <td>0.055201</td>\n",
       "      <td>0.156250</td>\n",
       "    </tr>\n",
       "    <tr>\n",
       "      <th>Desulfobacteria</th>\n",
       "      <td>0.029773</td>\n",
       "      <td>0.015625</td>\n",
       "    </tr>\n",
       "    <tr>\n",
       "      <th>Hydrogenedentia</th>\n",
       "      <td>0.081877</td>\n",
       "      <td>0.031250</td>\n",
       "    </tr>\n",
       "  </tbody>\n",
       "</table>\n",
       "</div>"
      ],
      "text/plain": [
       "                     predictions       real\n",
       "classes                                    \n",
       "Gammaproteobacteria    32.260653  27.253906\n",
       "Bacteroidia            28.822380  17.566406\n",
       "Unclassified            1.732031   1.761719\n",
       "Alphaproteobacteria     6.660845   8.960938\n",
       "Others                  1.841890   1.875000\n",
       "Clostridia              1.047763   0.492188\n",
       "Anaerolineae            3.024103   4.355469\n",
       "Parcubacteria           0.736380   1.210938\n",
       "Polyangia               5.030090  12.347656\n",
       "Planctomycetes          0.927268   0.925781\n",
       "Verrucomicrobiae        1.243024   1.578125\n",
       "Bdellovibrionia         0.695455   0.410156\n",
       "Chlamydiae              0.423615   0.398438\n",
       "Oligoflexia             0.355045   0.621094\n",
       "Phycisphaerae           0.577645   1.144531\n",
       "Gracilibacteria         0.436127   0.175781\n",
       "Actinobacteria          1.368803   6.960938\n",
       "Bacilli                 0.437098   0.167969\n",
       "Microgenomatia          0.134479   0.074219\n",
       "Babeliae                0.173666   0.062500\n",
       "ABY1                    0.130778   0.132812\n",
       "Saccharimonadia         0.378637   0.410156\n",
       "Acidimicrobiia          0.989957   0.671875\n",
       "Omnitrophia             0.055747   0.007812\n",
       "Cyanobacteriia          0.180396   0.011719\n",
       "Acidobacteriae          0.285683   0.464844\n",
       "Myxococcia              0.418599   0.281250\n",
       "Nanoarchaeia            0.056860   0.042969\n",
       "Thermoleophilia         0.372268   0.128906\n",
       "Blastocatellia          1.487242   0.992188\n",
       "OM190                   0.471077   0.894531\n",
       "Spirochaetia            0.074306   0.097656\n",
       "Nitrospiria             1.504009   1.621094\n",
       "Chloroflexia            0.221177   0.035156\n",
       "Kiritimatiellae         0.063154   0.281250\n",
       "Ignavibacteria          1.152294   1.433594\n",
       "Desulfuromonadia        0.268019   0.140625\n",
       "Campylobacteria         0.875100   0.144531\n",
       "Gemmatimonadetes        0.552656   0.492188\n",
       "Vicinamibacteria        0.399741   0.605469\n",
       "Fimbriimonadia          0.276531   0.308594\n",
       "Vampirivibrionia        0.189644   0.191406\n",
       "Desulfovibrionia        0.074490   0.089844\n",
       "Negativicutes           0.067789   0.046875\n",
       "Holophagae              0.386536   1.074219\n",
       "Leptospirae             0.453201   0.250000\n",
       "metagenome              0.168309   0.183594\n",
       "Kapabacteria            0.350590   0.417969\n",
       "Lineage IIb             0.055201   0.156250\n",
       "Desulfobacteria         0.029773   0.015625\n",
       "Hydrogenedentia         0.081877   0.031250"
      ]
     },
     "execution_count": 38,
     "metadata": {},
     "output_type": "execute_result"
    }
   ],
   "source": [
    "com = pd.DataFrame(c)\n",
    "com = com.set_index('classes')\n",
    "com"
   ]
  },
  {
   "cell_type": "markdown",
   "id": "5ed907aa",
   "metadata": {},
   "source": [
    "预测和实际结果的柱状图对比"
   ]
  },
  {
   "cell_type": "code",
   "execution_count": 39,
   "id": "76b0bfd5",
   "metadata": {},
   "outputs": [
    {
     "data": {
      "image/png": "[encoded data removed]",
      "text/plain": [
       "<Figure size 2000x500 with 1 Axes>"
      ]
     },
     "metadata": {},
     "output_type": "display_data"
    }
   ],
   "source": [
    "com.plot(kind='bar',figsize=(20,5));"
   ]
  },
  {
   "cell_type": "markdown",
   "id": "54332a7d",
   "metadata": {},
   "source": [
    "预测和实际结果的散点图对比。"
   ]
  },
  {
   "cell_type": "code",
   "execution_count": 40,
   "id": "5638feb1",
   "metadata": {},
   "outputs": [
    {
     "data": {
      "image/png": "[encoded data removed]",
      "text/plain": [
       "<Figure size 2000x500 with 1 Axes>"
      ]
     },
     "metadata": {},
     "output_type": "display_data"
    }
   ],
   "source": [
    "com.plot(kind='line',style='--o',figsize=(20,5));"
   ]
  },
  {
   "cell_type": "markdown",
   "id": "e8ba71be",
   "metadata": {},
   "source": [
    "上面是第一个预测结果和实际结果的对比，修改参数可以对比其他列。也可以汇总对比均值。"
   ]
  },
  {
   "cell_type": "markdown",
   "id": "a5082093",
   "metadata": {},
   "source": [
    "**模型评估**"
   ]
  },
  {
   "cell_type": "markdown",
   "id": "a6231845",
   "metadata": {},
   "source": [
    "训练集部分"
   ]
  },
  {
   "cell_type": "markdown",
   "id": "b0387a09",
   "metadata": {},
   "source": [
    "R^2"
   ]
  },
  {
   "cell_type": "code",
   "execution_count": 41,
   "id": "2dfb98f0",
   "metadata": {},
   "outputs": [
    {
     "name": "stdout",
     "output_type": "stream",
     "text": [
      "R^2 Train: 0.09787\n"
     ]
    }
   ],
   "source": [
    "print(f'R^2 Train: {model.score(X_train, y_train):0.4}')"
   ]
  },
  {
   "cell_type": "markdown",
   "id": "cd6e4c57",
   "metadata": {},
   "source": [
    "训练集的MSE"
   ]
  },
  {
   "cell_type": "code",
   "execution_count": 42,
   "id": "e7dc6970",
   "metadata": {},
   "outputs": [],
   "source": [
    "from sklearn import metrics"
   ]
  },
  {
   "cell_type": "code",
   "execution_count": 43,
   "id": "206c8eae",
   "metadata": {},
   "outputs": [
    {
     "data": {
      "text/plain": [
       "4.384691532816019"
      ]
     },
     "execution_count": 43,
     "metadata": {},
     "output_type": "execute_result"
    }
   ],
   "source": [
    "y_preds2 = model.predict(X_train)\n",
    "metrics.mean_squared_error(y_train, y_preds2)"
   ]
  },
  {
   "cell_type": "markdown",
   "id": "d3bbea5d",
   "metadata": {},
   "source": [
    "测试集部分"
   ]
  },
  {
   "cell_type": "code",
   "execution_count": 44,
   "id": "a2b00aef",
   "metadata": {},
   "outputs": [
    {
     "data": {
      "text/plain": [
       "7.9320110865156925"
      ]
     },
     "execution_count": 44,
     "metadata": {},
     "output_type": "execute_result"
    }
   ],
   "source": [
    "MSE = metrics.mean_squared_error(y_test, y_preds)\n",
    "MSE"
   ]
  },
  {
   "cell_type": "code",
   "execution_count": 45,
   "id": "b1c02fdb",
   "metadata": {},
   "outputs": [
    {
     "data": {
      "text/plain": [
       "2.816382624310073"
      ]
     },
     "execution_count": 45,
     "metadata": {},
     "output_type": "execute_result"
    }
   ],
   "source": [
    "RMSE = metrics.mean_squared_error(y_test, y_preds)**0.5\n",
    "RMSE"
   ]
  },
  {
   "cell_type": "code",
   "execution_count": 46,
   "id": "e90edce7",
   "metadata": {},
   "outputs": [
    {
     "data": {
      "text/plain": [
       "0.8485799378562442"
      ]
     },
     "execution_count": 46,
     "metadata": {},
     "output_type": "execute_result"
    }
   ],
   "source": [
    "MAE = metrics.mean_absolute_error(y_test, y_preds)\n",
    "MAE"
   ]
  },
  {
   "cell_type": "code",
   "execution_count": 47,
   "id": "81b96789",
   "metadata": {},
   "outputs": [
    {
     "data": {
      "text/plain": [
       "80530049827649.55"
      ]
     },
     "execution_count": 47,
     "metadata": {},
     "output_type": "execute_result"
    }
   ],
   "source": [
    "MAPE = metrics.mean_absolute_percentage_error(y_test, y_preds)\n",
    "MAPE"
   ]
  },
  {
   "cell_type": "markdown",
   "id": "473fe455",
   "metadata": {},
   "source": [
    "# 调参和优化"
   ]
  },
  {
   "cell_type": "code",
   "execution_count": 48,
   "id": "b2736899",
   "metadata": {},
   "outputs": [],
   "source": [
    "from sklearn.model_selection import train_test_split, TimeSeriesSplit, GridSearchCV"
   ]
  },
  {
   "cell_type": "code",
   "execution_count": 49,
   "id": "ff0bfc46",
   "metadata": {},
   "outputs": [],
   "source": [
    "# Cross-validation\n",
    "tscv = TimeSeriesSplit(n_splits=5)"
   ]
  },
  {
   "cell_type": "code",
   "execution_count": 50,
   "id": "4ccbd156",
   "metadata": {},
   "outputs": [
    {
     "data": {
      "text/plain": [
       "{'memory': None,\n",
       " 'steps': [('scaler', StandardScaler()), ('regressor', Ridge())],\n",
       " 'verbose': False,\n",
       " 'scaler': StandardScaler(),\n",
       " 'regressor': Ridge(),\n",
       " 'scaler__copy': True,\n",
       " 'scaler__with_mean': True,\n",
       " 'scaler__with_std': True,\n",
       " 'regressor__alpha': 1.0,\n",
       " 'regressor__copy_X': True,\n",
       " 'regressor__fit_intercept': True,\n",
       " 'regressor__max_iter': None,\n",
       " 'regressor__normalize': 'deprecated',\n",
       " 'regressor__positive': False,\n",
       " 'regressor__random_state': None,\n",
       " 'regressor__solver': 'auto',\n",
       " 'regressor__tol': 0.001}"
      ]
     },
     "execution_count": 50,
     "metadata": {},
     "output_type": "execute_result"
    }
   ],
   "source": [
    "# Get parameters list\n",
    "model.get_params()"
   ]
  },
  {
   "cell_type": "code",
   "execution_count": 51,
   "id": "1e14aa67",
   "metadata": {},
   "outputs": [],
   "source": [
    "# Perform Gridsearch and fit\n",
    "param_grid = {\"regressor__alpha\": [0.001,0.01,0.1,1,5,10,50,100,500,1000,5000,10000,]}"
   ]
  },
  {
   "cell_type": "code",
   "execution_count": 52,
   "id": "6eb6b6cd",
   "metadata": {},
   "outputs": [
    {
     "name": "stdout",
     "output_type": "stream",
     "text": [
      "Fitting 5 folds for each of 12 candidates, totalling 60 fits\n"
     ]
    },
    {
     "data": {
      "text/plain": [
       "GridSearchCV(cv=TimeSeriesSplit(gap=0, max_train_size=None, n_splits=5, test_size=None),\n",
       "             estimator=Pipeline(steps=[('scaler', StandardScaler()),\n",
       "                                       ('regressor', Ridge())]),\n",
       "             n_jobs=-1,\n",
       "             param_grid={'regressor__alpha': [0.001, 0.01, 0.1, 1, 5, 10, 50,\n",
       "                                              100, 500, 1000, 5000, 10000]},\n",
       "             verbose=1)"
      ]
     },
     "execution_count": 52,
     "metadata": {},
     "output_type": "execute_result"
    }
   ],
   "source": [
    "gs = GridSearchCV(model, param_grid, n_jobs=-1, cv=tscv, verbose=1)\n",
    "gs.fit(X_train, y_train)"
   ]
  },
  {
   "cell_type": "code",
   "execution_count": 53,
   "id": "0a5de704",
   "metadata": {},
   "outputs": [
    {
     "data": {
      "text/plain": [
       "Pipeline(steps=[('scaler', StandardScaler()),\n",
       "                ('regressor', Ridge(alpha=10000))])"
      ]
     },
     "execution_count": 53,
     "metadata": {},
     "output_type": "execute_result"
    }
   ],
   "source": [
    "# Best Estimator\n",
    "gs.best_estimator_"
   ]
  },
  {
   "cell_type": "code",
   "execution_count": 54,
   "id": "95c57a84",
   "metadata": {},
   "outputs": [
    {
     "name": "stdout",
     "output_type": "stream",
     "text": [
      "R^2 Train: 0.01805\n"
     ]
    }
   ],
   "source": [
    "print(f'R^2 Train: {gs.score(X_train, y_train):0.4}')"
   ]
  },
  {
   "cell_type": "markdown",
   "id": "5d001f58",
   "metadata": {},
   "source": [
    "调参后的R2变得更小了。"
   ]
  },
  {
   "cell_type": "code",
   "execution_count": 55,
   "id": "d2df4153",
   "metadata": {},
   "outputs": [],
   "source": [
    "y_preds1 = gs.predict(X_test)"
   ]
  },
  {
   "cell_type": "code",
   "execution_count": 56,
   "id": "7376e866",
   "metadata": {},
   "outputs": [
    {
     "data": {
      "text/plain": [
       "7.090603958927545"
      ]
     },
     "execution_count": 56,
     "metadata": {},
     "output_type": "execute_result"
    }
   ],
   "source": [
    "MSE = metrics.mean_squared_error(y_test, y_preds1)\n",
    "MSE"
   ]
  },
  {
   "cell_type": "markdown",
   "id": "da26b676",
   "metadata": {},
   "source": [
    "调参后的MSE 也变得更小了，相比之前。所以针对这个线性回归，我们采用调参后的参数。"
   ]
  },
  {
   "cell_type": "markdown",
   "id": "dced9dea",
   "metadata": {},
   "source": [
    "作为对比，我们打印训练集的MSE，看看差距大不大。"
   ]
  },
  {
   "cell_type": "code",
   "execution_count": 57,
   "id": "735ad9f4",
   "metadata": {},
   "outputs": [
    {
     "data": {
      "text/plain": [
       "4.985232691492458"
      ]
     },
     "execution_count": 57,
     "metadata": {},
     "output_type": "execute_result"
    }
   ],
   "source": [
    "y_preds2 = gs.predict(X_train)\n",
    "metrics.mean_squared_error(y_train, y_preds2)"
   ]
  },
  {
   "cell_type": "code",
   "execution_count": null,
   "id": "947db649",
   "metadata": {},
   "outputs": [],
   "source": []
  },
  {
   "cell_type": "code",
   "execution_count": null,
   "id": "e8b49c75",
   "metadata": {},
   "outputs": [],
   "source": []
  },
  {
   "cell_type": "code",
   "execution_count": null,
   "id": "212b6569",
   "metadata": {},
   "outputs": [],
   "source": []
  },
  {
   "cell_type": "code",
   "execution_count": null,
   "id": "592c8443",
   "metadata": {},
   "outputs": [],
   "source": []
  },
  {
   "cell_type": "code",
   "execution_count": null,
   "id": "ec2fd4e0",
   "metadata": {},
   "outputs": [],
   "source": []
  },
  {
   "cell_type": "code",
   "execution_count": null,
   "id": "7ce57a0e",
   "metadata": {},
   "outputs": [],
   "source": []
  },
  {
   "cell_type": "code",
   "execution_count": null,
   "id": "321ba573",
   "metadata": {},
   "outputs": [],
   "source": []
  },
  {
   "cell_type": "code",
   "execution_count": null,
   "id": "1538f249",
   "metadata": {},
   "outputs": [],
   "source": []
  },
  {
   "cell_type": "code",
   "execution_count": null,
   "id": "35e4a245",
   "metadata": {},
   "outputs": [],
   "source": []
  },
  {
   "cell_type": "code",
   "execution_count": null,
   "id": "5d8eb383",
   "metadata": {},
   "outputs": [],
   "source": []
  },
  {
   "cell_type": "code",
   "execution_count": null,
   "id": "cdba73d7",
   "metadata": {},
   "outputs": [],
   "source": []
  },
  {
   "cell_type": "code",
   "execution_count": null,
   "id": "a6fe136a",
   "metadata": {},
   "outputs": [],
   "source": []
  },
  {
   "cell_type": "code",
   "execution_count": null,
   "id": "4f1988c4",
   "metadata": {},
   "outputs": [],
   "source": []
  },
  {
   "cell_type": "code",
   "execution_count": null,
   "id": "d1e4d462",
   "metadata": {},
   "outputs": [],
   "source": []
  },
  {
   "cell_type": "code",
   "execution_count": null,
   "id": "6766c77f",
   "metadata": {},
   "outputs": [],
   "source": []
  },
  {
   "cell_type": "code",
   "execution_count": null,
   "id": "957475bf",
   "metadata": {},
   "outputs": [],
   "source": []
  },
  {
   "cell_type": "code",
   "execution_count": null,
   "id": "7db761af",
   "metadata": {},
   "outputs": [],
   "source": []
  }
 ],
 "metadata": {
  "kernelspec": {
   "display_name": "Python 3 (ipykernel)",
   "language": "python",
   "name": "python3"
  },
  "language_info": {
   "codemirror_mode": {
    "name": "ipython",
    "version": 3
   },
   "file_extension": ".py",
   "mimetype": "text/x-python",
   "name": "python",
   "nbconvert_exporter": "python",
   "pygments_lexer": "ipython3",
   "version": "3.9.13"
  }
 },
 "nbformat": 4,
 "nbformat_minor": 5
}
